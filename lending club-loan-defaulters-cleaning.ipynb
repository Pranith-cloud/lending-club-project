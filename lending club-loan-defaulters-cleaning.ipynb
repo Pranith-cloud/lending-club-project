{
 "cells": [
  {
   "cell_type": "code",
   "execution_count": 0,
   "metadata": {
    "application/vnd.databricks.v1+cell": {
     "cellMetadata": {
      "byteLimit": 2048000,
      "rowLimit": 10000
     },
     "inputWidgets": {},
     "nuid": "ab8b634c-a4e5-41d5-8118-5ad3d0fc0edf",
     "showTitle": false,
     "tableResultSettingsMap": {},
     "title": ""
    }
   },
   "outputs": [],
   "source": [
    "loan_defaulter_raw=spark.read\\\n",
    "    .format(\"csv\")\\\n",
    "    .option(\"header\",\"true\")\\\n",
    "    .option(\"inferSchema\",\"true\")\\\n",
    "    .load(\"dbfs:/user/lendingclub_rawfiles/temp/loans_defaulters_csv\")"
   ]
  },
  {
   "cell_type": "code",
   "execution_count": 0,
   "metadata": {
    "application/vnd.databricks.v1+cell": {
     "cellMetadata": {
      "byteLimit": 2048000,
      "rowLimit": 10000
     },
     "inputWidgets": {},
     "nuid": "870ff35b-6a25-408e-bdc1-864354d71320",
     "showTitle": false,
     "tableResultSettingsMap": {},
     "title": ""
    }
   },
   "outputs": [
    {
     "output_type": "display_data",
     "data": {
      "text/html": [
       "<style scoped>\n",
       "  .table-result-container {\n",
       "    max-height: 300px;\n",
       "    overflow: auto;\n",
       "  }\n",
       "  table, th, td {\n",
       "    border: 1px solid black;\n",
       "    border-collapse: collapse;\n",
       "  }\n",
       "  th, td {\n",
       "    padding: 5px;\n",
       "  }\n",
       "  th {\n",
       "    text-align: left;\n",
       "  }\n",
       "</style><div class='table-result-container'><table class='table-result'><thead style='background-color: white'><tr><th>member_id</th><th>delinq_2yrs</th><th>delinq_amnt</th><th>pub_rec</th><th>pub_rec_bankruptcies</th><th>inq_last_6mths</th><th>total_rec_late_fee</th><th>mths_since_last_delinq</th><th>mths_since_last_record</th></tr></thead><tbody><tr><td>6d5091b3fcaaeb4eac37445042b6b79e8b21f16943b9c32c4f5dd74dcb0f2210</td><td>0.0</td><td>0.0</td><td>0.0</td><td>0.0</td><td>1.0</td><td>0.0</td><td>30.0</td><td>null</td></tr><tr><td>b5e7938b0a2da4ceaa75ea2e3c111d1e33ca0f944f954b6d65671ef395d21713</td><td>1.0</td><td>0.0</td><td>0.0</td><td>0.0</td><td>4.0</td><td>0.0</td><td>6.0</td><td>null</td></tr><tr><td>91060b858433e8a6107be9b76b324e304b5802631fc081b449188fe4b4e32205</td><td>0.0</td><td>0.0</td><td>0.0</td><td>0.0</td><td>0.0</td><td>0.0</td><td>null</td><td>null</td></tr><tr><td>cab1fa9f533688b0aab7c6be7b6256d15ad1dd5f3c4ca061a49cfeb26901977d</td><td>0.0</td><td>0.0</td><td>0.0</td><td>0.0</td><td>0.0</td><td>0.0</td><td>null</td><td>null</td></tr><tr><td>f74e401c1ab0adf788a7279dd70a27459fcc47733d35eed71149ff371d2a7283</td><td>1.0</td><td>0.0</td><td>0.0</td><td>0.0</td><td>3.0</td><td>0.0</td><td>12.0</td><td>null</td></tr><tr><td>8aef4bb29d609d8d684fd709af965bd690fc9ef3a2691777f38e0c10d622fe97</td><td>0.0</td><td>0.0</td><td>0.0</td><td>0.0</td><td>0.0</td><td>0.0</td><td>null</td><td>null</td></tr><tr><td>538b4653da3b1e8142b50baacf97a57b721eb6ec565f5fb63a1b71d191e9e934</td><td>0.0</td><td>0.0</td><td>0.0</td><td>0.0</td><td>0.0</td><td>0.0</td><td>49.0</td><td>null</td></tr><tr><td>b24d55f21390533c512f78f822153dc247e984dcd0cfe031c341ccef1c689817</td><td>1.0</td><td>0.0</td><td>0.0</td><td>0.0</td><td>0.0</td><td>0.0</td><td>3.0</td><td>null</td></tr><tr><td>1035c5401b0ca76d02c334b813302a9b72825e70b1659e8bc8ce5eea6c5d1f52</td><td>0.0</td><td>0.0</td><td>1.0</td><td>1.0</td><td>1.0</td><td>0.0</td><td>null</td><td>106.0</td></tr><tr><td>cb0f1777593e77909d0d359a6d9e633f28568500e17806f815395c92f0cd375d</td><td>0.0</td><td>0.0</td><td>0.0</td><td>0.0</td><td>0.0</td><td>0.0</td><td>75.0</td><td>null</td></tr><tr><td>a962f4d59caec5fa1d51d5ad6ccf761573b476dbc25295e9645a491fa2bc6997</td><td>0.0</td><td>0.0</td><td>0.0</td><td>0.0</td><td>0.0</td><td>0.0</td><td>54.0</td><td>null</td></tr><tr><td>e7592ab57b3afd9f10d50541f66994def18784791690158a17b220c450751b96</td><td>0.0</td><td>0.0</td><td>0.0</td><td>0.0</td><td>0.0</td><td>0.0</td><td>null</td><td>null</td></tr><tr><td>603afa9d1be879b7bb0685aa87fe166f4b90bde7bd1304ec55c845c587940e8f</td><td>0.0</td><td>0.0</td><td>0.0</td><td>0.0</td><td>0.0</td><td>0.0</td><td>null</td><td>null</td></tr><tr><td>9fe2d59ddf2a4f37e54e225954d87e21054e9c965b6d86f7bba4bf73e364e963</td><td>0.0</td><td>0.0</td><td>1.0</td><td>1.0</td><td>1.0</td><td>0.0</td><td>null</td><td>75.0</td></tr><tr><td>23857480ccf555ce4c5b7db19337de8cf8dd9eace1276036eb8f233a2c08cc6b</td><td>0.0</td><td>0.0</td><td>0.0</td><td>0.0</td><td>0.0</td><td>0.0</td><td>42.0</td><td>null</td></tr><tr><td>7c69d5f36fdabf6e191561528fe252203204ebf4d80bea2633ea3277d36c1121</td><td>0.0</td><td>0.0</td><td>0.0</td><td>0.0</td><td>0.0</td><td>0.0</td><td>null</td><td>null</td></tr><tr><td>08bf9e080503b0113535d545974cb681ca3368ea42d23705cf961f9f56f55a8e</td><td>0.0</td><td>0.0</td><td>0.0</td><td>0.0</td><td>1.0</td><td>0.0</td><td>null</td><td>null</td></tr><tr><td>1cafb05aa6c894c30fe8f8de711963c3c76fd64d9984dce5f944470ed8a86447</td><td>0.0</td><td>0.0</td><td>0.0</td><td>0.0</td><td>0.0</td><td>0.0</td><td>null</td><td>null</td></tr><tr><td>f2c4010f700d8c9c4433561b8fc9211a7bf6eefbabaee284c7cad51d64831e30</td><td>0.0</td><td>0.0</td><td>0.0</td><td>0.0</td><td>0.0</td><td>0.0</td><td>29.0</td><td>null</td></tr><tr><td>05ad4aed7c393035e6d29619d4bbb81164b0384f3b2e03876bf9223a1700bf70</td><td>0.0</td><td>0.0</td><td>1.0</td><td>1.0</td><td>4.0</td><td>0.0</td><td>null</td><td>30.0</td></tr><tr><td>c2fe08c44f54ac75384b1e21ea7503cb4f7de738edb59deb52175c1bd74f910c</td><td>0.0</td><td>0.0</td><td>0.0</td><td>0.0</td><td>0.0</td><td>0.0</td><td>null</td><td>null</td></tr><tr><td>0d3c568ff6944b11c241b04737d140b1e6962491dfbd157774ca709c051acfc5</td><td>0.0</td><td>0.0</td><td>2.0</td><td>0.0</td><td>0.0</td><td>0.0</td><td>33.0</td><td>2.0</td></tr><tr><td>663dea7793e967072980faa17c9efca5a9bcbde9be9151f4b9ef4214ba9d75fb</td><td>0.0</td><td>0.0</td><td>0.0</td><td>0.0</td><td>0.0</td><td>0.0</td><td>null</td><td>null</td></tr><tr><td>0b78dde3a0f2c742a79d543ad3e636692bbea2d65c0599f7746e0b0ef7e007d0</td><td>0.0</td><td>0.0</td><td>0.0</td><td>0.0</td><td>0.0</td><td>0.0</td><td>null</td><td>null</td></tr><tr><td>18889919d4248ff4846801a65f3b7893da9621cd475fe9c1c91df8c0cfd336f4</td><td>1.0</td><td>0.0</td><td>0.0</td><td>0.0</td><td>1.0</td><td>0.0</td><td>15.0</td><td>null</td></tr><tr><td>49c691121315ceeacef440bb86fbf9582132f5c55ad98b4a29285d4f7468b852</td><td>2.0</td><td>0.0</td><td>0.0</td><td>0.0</td><td>0.0</td><td>0.0</td><td>18.0</td><td>null</td></tr><tr><td>159b209fd25dff55bfcf9ef91cb511b2cf45cb152afbfe7401286bb8ddc9c26f</td><td>0.0</td><td>0.0</td><td>0.0</td><td>0.0</td><td>1.0</td><td>0.0</td><td>null</td><td>null</td></tr><tr><td>4a968e91c3ec52c4b4f5ce46101760c9f07184a561b84c4cba6243434a4b5f57</td><td>0.0</td><td>0.0</td><td>0.0</td><td>0.0</td><td>1.0</td><td>0.0</td><td>null</td><td>null</td></tr><tr><td>60d675a7b7dbf36678d6df5cdb35404ac8440962cc7cf3a6da176966b15e8767</td><td>0.0</td><td>0.0</td><td>0.0</td><td>0.0</td><td>0.0</td><td>0.0</td><td>null</td><td>null</td></tr><tr><td>d04ae2a3b9e2e686e11af2c6425cb8e8006acf7ded5b531914a22e8b1a09ee8f</td><td>0.0</td><td>0.0</td><td>0.0</td><td>0.0</td><td>1.0</td><td>22.59</td><td>47.0</td><td>null</td></tr><tr><td>259af6637d622a8fc6d896e17c83b83d59e1d809a509bef50b0241eb06a7b221</td><td>0.0</td><td>0.0</td><td>1.0</td><td>0.0</td><td>0.0</td><td>161.46</td><td>33.0</td><td>66.0</td></tr><tr><td>22f88d0d66ed192b85a2bd237a9970e17c2ce98d312dab8d6c7f0af46a0ba972</td><td>0.0</td><td>0.0</td><td>0.0</td><td>0.0</td><td>0.0</td><td>0.0</td><td>null</td><td>null</td></tr><tr><td>263b2b8177d69a09e14cfe49169ed02662f2e951e5fc6eb8f408e782cd9bf237</td><td>0.0</td><td>0.0</td><td>1.0</td><td>0.0</td><td>0.0</td><td>0.0</td><td>33.0</td><td>61.0</td></tr><tr><td>4ec317a8d203c448931585e76486d0618c4c082dc83ca9ffb5e3f7057d6933ee</td><td>0.0</td><td>0.0</td><td>0.0</td><td>0.0</td><td>1.0</td><td>0.0</td><td>null</td><td>null</td></tr><tr><td>0d7e498df54d38160b9a05329e82d1435237e75626886e7584e86c16b729d217</td><td>0.0</td><td>0.0</td><td>1.0</td><td>0.0</td><td>0.0</td><td>0.0</td><td>35.0</td><td>57.0</td></tr><tr><td>dc3d024374b1d2cb40bd3b3b1bb5d32465be30a49c8a2adc5f48420f851b5376</td><td>1.0</td><td>0.0</td><td>0.0</td><td>0.0</td><td>1.0</td><td>0.0</td><td>23.0</td><td>null</td></tr><tr><td>65470d4d756d84072792669c586a75473b906747a2dad6312917768c585aeda0</td><td>0.0</td><td>0.0</td><td>0.0</td><td>0.0</td><td>1.0</td><td>0.0</td><td>null</td><td>null</td></tr><tr><td>4b85912c09ae7ee9b7595b77e49243d547532f886b0fa9ad0f41118d239a9ef7</td><td>0.0</td><td>0.0</td><td>0.0</td><td>0.0</td><td>0.0</td><td>0.0</td><td>null</td><td>null</td></tr><tr><td>833ef5fdb767e5fdd58093ae9413d48551ad34780e38704109c536a952c6183f</td><td>0.0</td><td>0.0</td><td>0.0</td><td>0.0</td><td>1.0</td><td>0.0</td><td>null</td><td>null</td></tr><tr><td>4d2b9e5c6ee90df7e1907da9e123bb732e1f3859b4bc15f6f396690b1813ab76</td><td>0.0</td><td>0.0</td><td>0.0</td><td>0.0</td><td>0.0</td><td>0.0</td><td>null</td><td>null</td></tr><tr><td>c968abcd0831fe0a992af5c3023adfddf96f7f09c3d608065b5721a54e1cee31</td><td>0.0</td><td>0.0</td><td>0.0</td><td>0.0</td><td>0.0</td><td>0.0</td><td>38.0</td><td>null</td></tr><tr><td>1e18913781ac428b75f8ef720f3dc8495f632371ec4aa24d0b654ba52ca9c4ce</td><td>0.0</td><td>0.0</td><td>0.0</td><td>0.0</td><td>0.0</td><td>0.0</td><td>null</td><td>null</td></tr><tr><td>25df9cff7c21666b9c89b379c56b9a6f1f4216fce33dc4c72c250f1ec4996f23</td><td>2.0</td><td>0.0</td><td>2.0</td><td>0.0</td><td>2.0</td><td>0.0</td><td>8.0</td><td>39.0</td></tr><tr><td>5840f34a041b29a6b39cc57b698cb2859263f4cafe53e3c51e4212a988cb80d4</td><td>0.0</td><td>0.0</td><td>0.0</td><td>0.0</td><td>0.0</td><td>0.0</td><td>70.0</td><td>null</td></tr><tr><td>4d18a8e33f5d9106f6ee7c470f8955e7172d5a93daf4154cf564ff969af329be</td><td>0.0</td><td>0.0</td><td>0.0</td><td>0.0</td><td>0.0</td><td>0.0</td><td>null</td><td>null</td></tr><tr><td>0bad6d6c073efa1779ad62a7508d47a44282405eab3eecbee289fe9195349a5d</td><td>0.0</td><td>0.0</td><td>1.0</td><td>1.0</td><td>0.0</td><td>0.0</td><td>null</td><td>48.0</td></tr><tr><td>88eeb7dfc5b755a95014220327e5c4238f2341aa004813d74e698a4c6aa92651</td><td>0.0</td><td>0.0</td><td>1.0</td><td>0.0</td><td>0.0</td><td>0.0</td><td>59.0</td><td>74.0</td></tr><tr><td>3277fcf7cd6953b58377e9e5fd3aa071068142f2e893c87918b2d90be4cc9f4a</td><td>0.0</td><td>0.0</td><td>0.0</td><td>0.0</td><td>1.0</td><td>0.0</td><td>45.0</td><td>null</td></tr><tr><td>4e8109534dfaabc7e51b31ff13d9e0e84a2f79f5727332234a9ad83617a93307</td><td>0.0</td><td>0.0</td><td>0.0</td><td>0.0</td><td>0.0</td><td>0.0</td><td>null</td><td>null</td></tr><tr><td>fe518ce080b3f422f017e3ce7a2ac09b65e82846046a862691f0dcf0f0177a3d</td><td>3.0</td><td>0.0</td><td>0.0</td><td>0.0</td><td>4.0</td><td>0.0</td><td>6.0</td><td>null</td></tr><tr><td>e8c7db7c485241687359cea286549a356d5d3d000f45b18a5d6d50b93aec68cc</td><td>0.0</td><td>0.0</td><td>0.0</td><td>0.0</td><td>1.0</td><td>0.0</td><td>52.0</td><td>null</td></tr><tr><td>3ea4951dbbccf87fcd39d9750d7229c18cdaf9d1b0029628173beb668515beba</td><td>1.0</td><td>0.0</td><td>0.0</td><td>0.0</td><td>0.0</td><td>0.0</td><td>23.0</td><td>null</td></tr><tr><td>43e2d5f152452665fdb69bafac4fc045fb5c8ae2e65296a89691917b3bb1b840</td><td>0.0</td><td>0.0</td><td>0.0</td><td>0.0</td><td>0.0</td><td>0.0</td><td>66.0</td><td>null</td></tr><tr><td>afaa2422b596f4dc333df7a75886d2c92e1cc175ad842299eecec8be65a407e0</td><td>0.0</td><td>0.0</td><td>0.0</td><td>0.0</td><td>0.0</td><td>0.0</td><td>null</td><td>null</td></tr><tr><td>b7c52bd6cbaf38c13696635d0a681077661865358ceb22825bf39edead2b61f2</td><td>0.0</td><td>0.0</td><td>0.0</td><td>0.0</td><td>0.0</td><td>0.0</td><td>null</td><td>null</td></tr><tr><td>ad0e6b5f8b7ebab5a8eca4795c34b648ba328f4a47c8528499e85443a73676fb</td><td>0.0</td><td>0.0</td><td>0.0</td><td>0.0</td><td>1.0</td><td>0.0</td><td>50.0</td><td>null</td></tr><tr><td>526cee18e193d9ed9bef34643f8acc9bb4ee43dc415d9d836cc2e620b8532be6</td><td>0.0</td><td>0.0</td><td>0.0</td><td>0.0</td><td>0.0</td><td>0.0</td><td>null</td><td>null</td></tr><tr><td>21b54af7ef90595ddc945abdb409045a35747ed0c052bc8eac28b291547b35f5</td><td>0.0</td><td>0.0</td><td>0.0</td><td>0.0</td><td>0.0</td><td>0.0</td><td>46.0</td><td>null</td></tr><tr><td>cf5169a0db8c481d075339abcc376b3aa52a3736d940d9fcf20db479153088c1</td><td>0.0</td><td>0.0</td><td>0.0</td><td>0.0</td><td>0.0</td><td>0.0</td><td>70.0</td><td>null</td></tr><tr><td>94a3e06d032ec2d3d05926a3b59543d6801cad342fdb43ffec7cddd931cf6729</td><td>0.0</td><td>0.0</td><td>0.0</td><td>0.0</td><td>1.0</td><td>0.0</td><td>null</td><td>null</td></tr><tr><td>7a62a197d8d2f28ecf5d46934ebebd3176d8aa3fb549d532e1c157d1f5b2c853</td><td>0.0</td><td>0.0</td><td>0.0</td><td>0.0</td><td>0.0</td><td>0.0</td><td>null</td><td>null</td></tr><tr><td>467a011d82964825fd45550533b61cda9e243ea4962f64829d32c5bcbef3e7b5</td><td>0.0</td><td>0.0</td><td>0.0</td><td>0.0</td><td>0.0</td><td>0.0</td><td>null</td><td>null</td></tr><tr><td>c2446627dda46e7b8604fe7ef6b0250161036b21ce8224462596a15bb525abaa</td><td>0.0</td><td>0.0</td><td>0.0</td><td>0.0</td><td>1.0</td><td>0.0</td><td>null</td><td>null</td></tr><tr><td>3cf8e03a3c1c6bc6c88fd953d7554b09c2b913cebda905ecb90a4f9e3b3ebe65</td><td>0.0</td><td>0.0</td><td>0.0</td><td>0.0</td><td>0.0</td><td>0.0</td><td>null</td><td>null</td></tr><tr><td>30be0e19f6abd3fb1854dd79bb135cdf0be099ee2d6e0c945c53f451a292d0df</td><td>0.0</td><td>0.0</td><td>0.0</td><td>0.0</td><td>0.0</td><td>67.28</td><td>null</td><td>null</td></tr><tr><td>1c4c21227141937b3da636e3f17f1020701c0959362eabd9a5a07a10378e3e92</td><td>0.0</td><td>0.0</td><td>0.0</td><td>0.0</td><td>0.0</td><td>16.6</td><td>null</td><td>null</td></tr><tr><td>865db309f3238da40f31ce33da13c58a2b21d454fc147e6401e04bd85fd43447</td><td>0.0</td><td>0.0</td><td>0.0</td><td>0.0</td><td>0.0</td><td>0.0</td><td>39.0</td><td>null</td></tr><tr><td>b8cb6c50408a86e7f299c19d5cde26fc4223df483627e155e5197a3924fc70f2</td><td>0.0</td><td>0.0</td><td>0.0</td><td>0.0</td><td>0.0</td><td>0.0</td><td>null</td><td>null</td></tr><tr><td>820b4484677b444ea249e637985b1c63ea100609912d8c0cf600f946f5da31ae</td><td>0.0</td><td>0.0</td><td>0.0</td><td>0.0</td><td>0.0</td><td>0.0</td><td>33.0</td><td>null</td></tr><tr><td>ba0e0f4ac748eb2a7fbd0f3474df5eeec6795b1f339914e9e5224a0c852e9275</td><td>0.0</td><td>0.0</td><td>0.0</td><td>0.0</td><td>0.0</td><td>0.0</td><td>null</td><td>null</td></tr><tr><td>488040d4d8373ded3d989d5b907bc64f77a0f574344759e9ae59479d1e202414</td><td>0.0</td><td>0.0</td><td>0.0</td><td>0.0</td><td>0.0</td><td>0.0</td><td>null</td><td>null</td></tr><tr><td>58a04b5b2b34d521556b37192681ece256460f8a3bdc85035dd501c51642d693</td><td>0.0</td><td>0.0</td><td>0.0</td><td>0.0</td><td>2.0</td><td>0.0</td><td>63.0</td><td>null</td></tr><tr><td>0a7474cf6c598c76d9f177cb5e37297fbe3f482e91501819061ab3a947693a60</td><td>0.0</td><td>0.0</td><td>0.0</td><td>0.0</td><td>1.0</td><td>0.0</td><td>null</td><td>null</td></tr><tr><td>48c34087f62b82233e422f5fddc806f8ea9168e39d282dd5bb0afdad90767cfe</td><td>0.0</td><td>0.0</td><td>0.0</td><td>0.0</td><td>1.0</td><td>0.0</td><td>null</td><td>null</td></tr><tr><td>6e5f652c35fbe19882e6c1f276be5f8f11c5ce70caadc31e805ab4e0200477d0</td><td>0.0</td><td>0.0</td><td>0.0</td><td>0.0</td><td>1.0</td><td>0.0</td><td>61.0</td><td>null</td></tr><tr><td>0df70b65c4566dc1d90d3110d09b6aba5440557f593218ef32c3d65a8b09ceb4</td><td>0.0</td><td>0.0</td><td>0.0</td><td>0.0</td><td>0.0</td><td>0.0</td><td>39.0</td><td>null</td></tr><tr><td>9005dbdda0e4c29a927a90cc44fda606fda4ff9147e3cf666a4c45cbf0297f4f</td><td>0.0</td><td>0.0</td><td>0.0</td><td>0.0</td><td>0.0</td><td>0.0</td><td>null</td><td>null</td></tr><tr><td>fb18c56edc33baef6b70c7cd3fa66876d6047e940c116f6d2a9cce91959b5240</td><td>0.0</td><td>0.0</td><td>0.0</td><td>0.0</td><td>0.0</td><td>0.0</td><td>null</td><td>null</td></tr><tr><td>8d74eb2bef554482d0b3cda31755229e5a59f8f16cf670a38d7df14d8702a91f</td><td>0.0</td><td>0.0</td><td>1.0</td><td>1.0</td><td>0.0</td><td>0.0</td><td>null</td><td>86.0</td></tr><tr><td>7f29b078164830b912924f3ae8a2341994f3a222c7144742d0c66e9d5fe7d904</td><td>0.0</td><td>0.0</td><td>0.0</td><td>0.0</td><td>1.0</td><td>0.0</td><td>null</td><td>null</td></tr><tr><td>676062ee37eb67b420c9be49867032875f64d7e23117c9c7bfb0ca75f3a46c70</td><td>0.0</td><td>0.0</td><td>0.0</td><td>0.0</td><td>0.0</td><td>0.0</td><td>null</td><td>null</td></tr><tr><td>90c9050888471605fa59575577f0e9525dba33e359210b6e82519ba2301352a5</td><td>0.0</td><td>0.0</td><td>0.0</td><td>0.0</td><td>0.0</td><td>0.0</td><td>null</td><td>null</td></tr><tr><td>6684e12b1944e8e1271f0bc2354a468d22608c047ae96a6c9a166a920a03df36</td><td>0.0</td><td>0.0</td><td>1.0</td><td>1.0</td><td>0.0</td><td>0.0</td><td>null</td><td>71.0</td></tr><tr><td>ef2f517b2f2bf21f7217dbbbb99a21b690d6cf1771089bc4b8959729d1180263</td><td>0.0</td><td>0.0</td><td>0.0</td><td>0.0</td><td>0.0</td><td>0.0</td><td>47.0</td><td>null</td></tr><tr><td>bc1333679188b4d016c831f3313494110b435316fb1ebcb8f01f88411361e48d</td><td>0.0</td><td>0.0</td><td>0.0</td><td>0.0</td><td>0.0</td><td>0.0</td><td>null</td><td>null</td></tr><tr><td>4de9e935b255b0c2c44997724912d8cc89986a589cf62e9c1aa3e1594562ffb0</td><td>0.0</td><td>0.0</td><td>0.0</td><td>0.0</td><td>0.0</td><td>0.0</td><td>47.0</td><td>null</td></tr><tr><td>0642f8984b88c29b09dcfcb2612b0ae5b3f733bc186dec0d6dfc983fa3bd603b</td><td>0.0</td><td>0.0</td><td>0.0</td><td>0.0</td><td>0.0</td><td>0.0</td><td>null</td><td>null</td></tr><tr><td>8a140edf4e4e5016c6056898c2f1a2b21484bf784004a5f2acbc17d8302073e7</td><td>0.0</td><td>0.0</td><td>1.0</td><td>1.0</td><td>2.0</td><td>0.0</td><td>78.0</td><td>91.0</td></tr><tr><td>79c8b4cbb42f8742c4bc134225447162f7830a60bc07744fcf08c28d61a49ee7</td><td>0.0</td><td>0.0</td><td>0.0</td><td>0.0</td><td>1.0</td><td>0.0</td><td>45.0</td><td>null</td></tr><tr><td>26e63ed8b898cd9e08f30412a9b81114045b764b44af29eceb0910c635307835</td><td>0.0</td><td>0.0</td><td>1.0</td><td>1.0</td><td>0.0</td><td>0.0</td><td>null</td><td>50.0</td></tr><tr><td>be382a7acb250f6e8363defef948477fde6c378ae20f17bc9191e303bb0da3be</td><td>0.0</td><td>0.0</td><td>0.0</td><td>0.0</td><td>2.0</td><td>0.0</td><td>null</td><td>null</td></tr><tr><td>17f319be7cfd66c2b82230a8ab0d8a173e1eac094cebb2b9ad722efce49baacf</td><td>0.0</td><td>0.0</td><td>0.0</td><td>0.0</td><td>0.0</td><td>0.0</td><td>null</td><td>null</td></tr><tr><td>1534e58e63afff9a6afa2f416e749824aee9d4279cf0e96716418aa058770640</td><td>0.0</td><td>0.0</td><td>0.0</td><td>0.0</td><td>0.0</td><td>0.0</td><td>74.0</td><td>null</td></tr><tr><td>bab3d6b76fc017c56ffd10197c1a478767ce3c4ee09292cd8e2eea278d770018</td><td>0.0</td><td>0.0</td><td>0.0</td><td>0.0</td><td>1.0</td><td>0.0</td><td>35.0</td><td>null</td></tr><tr><td>c2a610feca95e9639be8ecb9dc30e5733eb0a0f64e6134c035c4f748569eeafd</td><td>1.0</td><td>0.0</td><td>0.0</td><td>0.0</td><td>0.0</td><td>0.0</td><td>19.0</td><td>null</td></tr><tr><td>a496c50b6e903cdcefd85f74c3d8b881d6069d6154021f9a5ae047bcc5844af5</td><td>0.0</td><td>0.0</td><td>0.0</td><td>0.0</td><td>0.0</td><td>0.0</td><td>34.0</td><td>null</td></tr><tr><td>9b023778aac75d135a218074377a89e60ca87c4f9a99e46a5d5e40b4c118d69a</td><td>3.0</td><td>0.0</td><td>0.0</td><td>0.0</td><td>0.0</td><td>0.0</td><td>9.0</td><td>null</td></tr><tr><td>6333fe24533c8165f0991559ad9d5a44ed716486ad9a8f2133b6580072037525</td><td>0.0</td><td>0.0</td><td>0.0</td><td>0.0</td><td>1.0</td><td>0.0</td><td>46.0</td><td>null</td></tr><tr><td>b26f914e7aa43a4909cbf7e0ca91105e494ab61c6d84381255b2144b6703cf73</td><td>0.0</td><td>0.0</td><td>1.0</td><td>1.0</td><td>2.0</td><td>0.0</td><td>null</td><td>81.0</td></tr><tr><td>b4474d578769aaa2c7d003cc18a07d713fdb08610260eb1d3e3c9bab73aebbd4</td><td>1.0</td><td>0.0</td><td>0.0</td><td>0.0</td><td>1.0</td><td>0.0</td><td>23.0</td><td>null</td></tr></tbody></table></div>"
      ]
     },
     "metadata": {
      "application/vnd.databricks.v1+output": {
       "addedWidgets": {},
       "aggData": [],
       "aggError": "",
       "aggOverflow": false,
       "aggSchema": [],
       "aggSeriesLimitReached": false,
       "aggType": "",
       "arguments": {},
       "columnCustomDisplayInfos": {},
       "data": [
        [
         "6d5091b3fcaaeb4eac37445042b6b79e8b21f16943b9c32c4f5dd74dcb0f2210",
         0.0,
         0.0,
         0.0,
         0.0,
         1.0,
         0.0,
         30.0,
         null
        ],
        [
         "b5e7938b0a2da4ceaa75ea2e3c111d1e33ca0f944f954b6d65671ef395d21713",
         1.0,
         0.0,
         0.0,
         0.0,
         4.0,
         0.0,
         6.0,
         null
        ],
        [
         "91060b858433e8a6107be9b76b324e304b5802631fc081b449188fe4b4e32205",
         0.0,
         0.0,
         0.0,
         0.0,
         0.0,
         0.0,
         null,
         null
        ],
        [
         "cab1fa9f533688b0aab7c6be7b6256d15ad1dd5f3c4ca061a49cfeb26901977d",
         0.0,
         0.0,
         0.0,
         0.0,
         0.0,
         0.0,
         null,
         null
        ],
        [
         "f74e401c1ab0adf788a7279dd70a27459fcc47733d35eed71149ff371d2a7283",
         1.0,
         0.0,
         0.0,
         0.0,
         3.0,
         0.0,
         12.0,
         null
        ],
        [
         "8aef4bb29d609d8d684fd709af965bd690fc9ef3a2691777f38e0c10d622fe97",
         0.0,
         0.0,
         0.0,
         0.0,
         0.0,
         0.0,
         null,
         null
        ],
        [
         "538b4653da3b1e8142b50baacf97a57b721eb6ec565f5fb63a1b71d191e9e934",
         0.0,
         0.0,
         0.0,
         0.0,
         0.0,
         0.0,
         49.0,
         null
        ],
        [
         "b24d55f21390533c512f78f822153dc247e984dcd0cfe031c341ccef1c689817",
         1.0,
         0.0,
         0.0,
         0.0,
         0.0,
         0.0,
         3.0,
         null
        ],
        [
         "1035c5401b0ca76d02c334b813302a9b72825e70b1659e8bc8ce5eea6c5d1f52",
         0.0,
         0.0,
         1.0,
         1.0,
         1.0,
         0.0,
         null,
         106.0
        ],
        [
         "cb0f1777593e77909d0d359a6d9e633f28568500e17806f815395c92f0cd375d",
         0.0,
         0.0,
         0.0,
         0.0,
         0.0,
         0.0,
         75.0,
         null
        ],
        [
         "a962f4d59caec5fa1d51d5ad6ccf761573b476dbc25295e9645a491fa2bc6997",
         0.0,
         0.0,
         0.0,
         0.0,
         0.0,
         0.0,
         54.0,
         null
        ],
        [
         "e7592ab57b3afd9f10d50541f66994def18784791690158a17b220c450751b96",
         0.0,
         0.0,
         0.0,
         0.0,
         0.0,
         0.0,
         null,
         null
        ],
        [
         "603afa9d1be879b7bb0685aa87fe166f4b90bde7bd1304ec55c845c587940e8f",
         0.0,
         0.0,
         0.0,
         0.0,
         0.0,
         0.0,
         null,
         null
        ],
        [
         "9fe2d59ddf2a4f37e54e225954d87e21054e9c965b6d86f7bba4bf73e364e963",
         0.0,
         0.0,
         1.0,
         1.0,
         1.0,
         0.0,
         null,
         75.0
        ],
        [
         "23857480ccf555ce4c5b7db19337de8cf8dd9eace1276036eb8f233a2c08cc6b",
         0.0,
         0.0,
         0.0,
         0.0,
         0.0,
         0.0,
         42.0,
         null
        ],
        [
         "7c69d5f36fdabf6e191561528fe252203204ebf4d80bea2633ea3277d36c1121",
         0.0,
         0.0,
         0.0,
         0.0,
         0.0,
         0.0,
         null,
         null
        ],
        [
         "08bf9e080503b0113535d545974cb681ca3368ea42d23705cf961f9f56f55a8e",
         0.0,
         0.0,
         0.0,
         0.0,
         1.0,
         0.0,
         null,
         null
        ],
        [
         "1cafb05aa6c894c30fe8f8de711963c3c76fd64d9984dce5f944470ed8a86447",
         0.0,
         0.0,
         0.0,
         0.0,
         0.0,
         0.0,
         null,
         null
        ],
        [
         "f2c4010f700d8c9c4433561b8fc9211a7bf6eefbabaee284c7cad51d64831e30",
         0.0,
         0.0,
         0.0,
         0.0,
         0.0,
         0.0,
         29.0,
         null
        ],
        [
         "05ad4aed7c393035e6d29619d4bbb81164b0384f3b2e03876bf9223a1700bf70",
         0.0,
         0.0,
         1.0,
         1.0,
         4.0,
         0.0,
         null,
         30.0
        ],
        [
         "c2fe08c44f54ac75384b1e21ea7503cb4f7de738edb59deb52175c1bd74f910c",
         0.0,
         0.0,
         0.0,
         0.0,
         0.0,
         0.0,
         null,
         null
        ],
        [
         "0d3c568ff6944b11c241b04737d140b1e6962491dfbd157774ca709c051acfc5",
         0.0,
         0.0,
         2.0,
         0.0,
         0.0,
         0.0,
         33.0,
         2.0
        ],
        [
         "663dea7793e967072980faa17c9efca5a9bcbde9be9151f4b9ef4214ba9d75fb",
         0.0,
         0.0,
         0.0,
         0.0,
         0.0,
         0.0,
         null,
         null
        ],
        [
         "0b78dde3a0f2c742a79d543ad3e636692bbea2d65c0599f7746e0b0ef7e007d0",
         0.0,
         0.0,
         0.0,
         0.0,
         0.0,
         0.0,
         null,
         null
        ],
        [
         "18889919d4248ff4846801a65f3b7893da9621cd475fe9c1c91df8c0cfd336f4",
         1.0,
         0.0,
         0.0,
         0.0,
         1.0,
         0.0,
         15.0,
         null
        ],
        [
         "49c691121315ceeacef440bb86fbf9582132f5c55ad98b4a29285d4f7468b852",
         2.0,
         0.0,
         0.0,
         0.0,
         0.0,
         0.0,
         18.0,
         null
        ],
        [
         "159b209fd25dff55bfcf9ef91cb511b2cf45cb152afbfe7401286bb8ddc9c26f",
         0.0,
         0.0,
         0.0,
         0.0,
         1.0,
         0.0,
         null,
         null
        ],
        [
         "4a968e91c3ec52c4b4f5ce46101760c9f07184a561b84c4cba6243434a4b5f57",
         0.0,
         0.0,
         0.0,
         0.0,
         1.0,
         0.0,
         null,
         null
        ],
        [
         "60d675a7b7dbf36678d6df5cdb35404ac8440962cc7cf3a6da176966b15e8767",
         0.0,
         0.0,
         0.0,
         0.0,
         0.0,
         0.0,
         null,
         null
        ],
        [
         "d04ae2a3b9e2e686e11af2c6425cb8e8006acf7ded5b531914a22e8b1a09ee8f",
         0.0,
         0.0,
         0.0,
         0.0,
         1.0,
         22.59,
         47.0,
         null
        ],
        [
         "259af6637d622a8fc6d896e17c83b83d59e1d809a509bef50b0241eb06a7b221",
         0.0,
         0.0,
         1.0,
         0.0,
         0.0,
         161.46,
         33.0,
         66.0
        ],
        [
         "22f88d0d66ed192b85a2bd237a9970e17c2ce98d312dab8d6c7f0af46a0ba972",
         0.0,
         0.0,
         0.0,
         0.0,
         0.0,
         0.0,
         null,
         null
        ],
        [
         "263b2b8177d69a09e14cfe49169ed02662f2e951e5fc6eb8f408e782cd9bf237",
         0.0,
         0.0,
         1.0,
         0.0,
         0.0,
         0.0,
         33.0,
         61.0
        ],
        [
         "4ec317a8d203c448931585e76486d0618c4c082dc83ca9ffb5e3f7057d6933ee",
         0.0,
         0.0,
         0.0,
         0.0,
         1.0,
         0.0,
         null,
         null
        ],
        [
         "0d7e498df54d38160b9a05329e82d1435237e75626886e7584e86c16b729d217",
         0.0,
         0.0,
         1.0,
         0.0,
         0.0,
         0.0,
         35.0,
         57.0
        ],
        [
         "dc3d024374b1d2cb40bd3b3b1bb5d32465be30a49c8a2adc5f48420f851b5376",
         1.0,
         0.0,
         0.0,
         0.0,
         1.0,
         0.0,
         23.0,
         null
        ],
        [
         "65470d4d756d84072792669c586a75473b906747a2dad6312917768c585aeda0",
         0.0,
         0.0,
         0.0,
         0.0,
         1.0,
         0.0,
         null,
         null
        ],
        [
         "4b85912c09ae7ee9b7595b77e49243d547532f886b0fa9ad0f41118d239a9ef7",
         0.0,
         0.0,
         0.0,
         0.0,
         0.0,
         0.0,
         null,
         null
        ],
        [
         "833ef5fdb767e5fdd58093ae9413d48551ad34780e38704109c536a952c6183f",
         0.0,
         0.0,
         0.0,
         0.0,
         1.0,
         0.0,
         null,
         null
        ],
        [
         "4d2b9e5c6ee90df7e1907da9e123bb732e1f3859b4bc15f6f396690b1813ab76",
         0.0,
         0.0,
         0.0,
         0.0,
         0.0,
         0.0,
         null,
         null
        ],
        [
         "c968abcd0831fe0a992af5c3023adfddf96f7f09c3d608065b5721a54e1cee31",
         0.0,
         0.0,
         0.0,
         0.0,
         0.0,
         0.0,
         38.0,
         null
        ],
        [
         "1e18913781ac428b75f8ef720f3dc8495f632371ec4aa24d0b654ba52ca9c4ce",
         0.0,
         0.0,
         0.0,
         0.0,
         0.0,
         0.0,
         null,
         null
        ],
        [
         "25df9cff7c21666b9c89b379c56b9a6f1f4216fce33dc4c72c250f1ec4996f23",
         2.0,
         0.0,
         2.0,
         0.0,
         2.0,
         0.0,
         8.0,
         39.0
        ],
        [
         "5840f34a041b29a6b39cc57b698cb2859263f4cafe53e3c51e4212a988cb80d4",
         0.0,
         0.0,
         0.0,
         0.0,
         0.0,
         0.0,
         70.0,
         null
        ],
        [
         "4d18a8e33f5d9106f6ee7c470f8955e7172d5a93daf4154cf564ff969af329be",
         0.0,
         0.0,
         0.0,
         0.0,
         0.0,
         0.0,
         null,
         null
        ],
        [
         "0bad6d6c073efa1779ad62a7508d47a44282405eab3eecbee289fe9195349a5d",
         0.0,
         0.0,
         1.0,
         1.0,
         0.0,
         0.0,
         null,
         48.0
        ],
        [
         "88eeb7dfc5b755a95014220327e5c4238f2341aa004813d74e698a4c6aa92651",
         0.0,
         0.0,
         1.0,
         0.0,
         0.0,
         0.0,
         59.0,
         74.0
        ],
        [
         "3277fcf7cd6953b58377e9e5fd3aa071068142f2e893c87918b2d90be4cc9f4a",
         0.0,
         0.0,
         0.0,
         0.0,
         1.0,
         0.0,
         45.0,
         null
        ],
        [
         "4e8109534dfaabc7e51b31ff13d9e0e84a2f79f5727332234a9ad83617a93307",
         0.0,
         0.0,
         0.0,
         0.0,
         0.0,
         0.0,
         null,
         null
        ],
        [
         "fe518ce080b3f422f017e3ce7a2ac09b65e82846046a862691f0dcf0f0177a3d",
         3.0,
         0.0,
         0.0,
         0.0,
         4.0,
         0.0,
         6.0,
         null
        ],
        [
         "e8c7db7c485241687359cea286549a356d5d3d000f45b18a5d6d50b93aec68cc",
         0.0,
         0.0,
         0.0,
         0.0,
         1.0,
         0.0,
         52.0,
         null
        ],
        [
         "3ea4951dbbccf87fcd39d9750d7229c18cdaf9d1b0029628173beb668515beba",
         1.0,
         0.0,
         0.0,
         0.0,
         0.0,
         0.0,
         23.0,
         null
        ],
        [
         "43e2d5f152452665fdb69bafac4fc045fb5c8ae2e65296a89691917b3bb1b840",
         0.0,
         0.0,
         0.0,
         0.0,
         0.0,
         0.0,
         66.0,
         null
        ],
        [
         "afaa2422b596f4dc333df7a75886d2c92e1cc175ad842299eecec8be65a407e0",
         0.0,
         0.0,
         0.0,
         0.0,
         0.0,
         0.0,
         null,
         null
        ],
        [
         "b7c52bd6cbaf38c13696635d0a681077661865358ceb22825bf39edead2b61f2",
         0.0,
         0.0,
         0.0,
         0.0,
         0.0,
         0.0,
         null,
         null
        ],
        [
         "ad0e6b5f8b7ebab5a8eca4795c34b648ba328f4a47c8528499e85443a73676fb",
         0.0,
         0.0,
         0.0,
         0.0,
         1.0,
         0.0,
         50.0,
         null
        ],
        [
         "526cee18e193d9ed9bef34643f8acc9bb4ee43dc415d9d836cc2e620b8532be6",
         0.0,
         0.0,
         0.0,
         0.0,
         0.0,
         0.0,
         null,
         null
        ],
        [
         "21b54af7ef90595ddc945abdb409045a35747ed0c052bc8eac28b291547b35f5",
         0.0,
         0.0,
         0.0,
         0.0,
         0.0,
         0.0,
         46.0,
         null
        ],
        [
         "cf5169a0db8c481d075339abcc376b3aa52a3736d940d9fcf20db479153088c1",
         0.0,
         0.0,
         0.0,
         0.0,
         0.0,
         0.0,
         70.0,
         null
        ],
        [
         "94a3e06d032ec2d3d05926a3b59543d6801cad342fdb43ffec7cddd931cf6729",
         0.0,
         0.0,
         0.0,
         0.0,
         1.0,
         0.0,
         null,
         null
        ],
        [
         "7a62a197d8d2f28ecf5d46934ebebd3176d8aa3fb549d532e1c157d1f5b2c853",
         0.0,
         0.0,
         0.0,
         0.0,
         0.0,
         0.0,
         null,
         null
        ],
        [
         "467a011d82964825fd45550533b61cda9e243ea4962f64829d32c5bcbef3e7b5",
         0.0,
         0.0,
         0.0,
         0.0,
         0.0,
         0.0,
         null,
         null
        ],
        [
         "c2446627dda46e7b8604fe7ef6b0250161036b21ce8224462596a15bb525abaa",
         0.0,
         0.0,
         0.0,
         0.0,
         1.0,
         0.0,
         null,
         null
        ],
        [
         "3cf8e03a3c1c6bc6c88fd953d7554b09c2b913cebda905ecb90a4f9e3b3ebe65",
         0.0,
         0.0,
         0.0,
         0.0,
         0.0,
         0.0,
         null,
         null
        ],
        [
         "30be0e19f6abd3fb1854dd79bb135cdf0be099ee2d6e0c945c53f451a292d0df",
         0.0,
         0.0,
         0.0,
         0.0,
         0.0,
         67.28,
         null,
         null
        ],
        [
         "1c4c21227141937b3da636e3f17f1020701c0959362eabd9a5a07a10378e3e92",
         0.0,
         0.0,
         0.0,
         0.0,
         0.0,
         16.6,
         null,
         null
        ],
        [
         "865db309f3238da40f31ce33da13c58a2b21d454fc147e6401e04bd85fd43447",
         0.0,
         0.0,
         0.0,
         0.0,
         0.0,
         0.0,
         39.0,
         null
        ],
        [
         "b8cb6c50408a86e7f299c19d5cde26fc4223df483627e155e5197a3924fc70f2",
         0.0,
         0.0,
         0.0,
         0.0,
         0.0,
         0.0,
         null,
         null
        ],
        [
         "820b4484677b444ea249e637985b1c63ea100609912d8c0cf600f946f5da31ae",
         0.0,
         0.0,
         0.0,
         0.0,
         0.0,
         0.0,
         33.0,
         null
        ],
        [
         "ba0e0f4ac748eb2a7fbd0f3474df5eeec6795b1f339914e9e5224a0c852e9275",
         0.0,
         0.0,
         0.0,
         0.0,
         0.0,
         0.0,
         null,
         null
        ],
        [
         "488040d4d8373ded3d989d5b907bc64f77a0f574344759e9ae59479d1e202414",
         0.0,
         0.0,
         0.0,
         0.0,
         0.0,
         0.0,
         null,
         null
        ],
        [
         "58a04b5b2b34d521556b37192681ece256460f8a3bdc85035dd501c51642d693",
         0.0,
         0.0,
         0.0,
         0.0,
         2.0,
         0.0,
         63.0,
         null
        ],
        [
         "0a7474cf6c598c76d9f177cb5e37297fbe3f482e91501819061ab3a947693a60",
         0.0,
         0.0,
         0.0,
         0.0,
         1.0,
         0.0,
         null,
         null
        ],
        [
         "48c34087f62b82233e422f5fddc806f8ea9168e39d282dd5bb0afdad90767cfe",
         0.0,
         0.0,
         0.0,
         0.0,
         1.0,
         0.0,
         null,
         null
        ],
        [
         "6e5f652c35fbe19882e6c1f276be5f8f11c5ce70caadc31e805ab4e0200477d0",
         0.0,
         0.0,
         0.0,
         0.0,
         1.0,
         0.0,
         61.0,
         null
        ],
        [
         "0df70b65c4566dc1d90d3110d09b6aba5440557f593218ef32c3d65a8b09ceb4",
         0.0,
         0.0,
         0.0,
         0.0,
         0.0,
         0.0,
         39.0,
         null
        ],
        [
         "9005dbdda0e4c29a927a90cc44fda606fda4ff9147e3cf666a4c45cbf0297f4f",
         0.0,
         0.0,
         0.0,
         0.0,
         0.0,
         0.0,
         null,
         null
        ],
        [
         "fb18c56edc33baef6b70c7cd3fa66876d6047e940c116f6d2a9cce91959b5240",
         0.0,
         0.0,
         0.0,
         0.0,
         0.0,
         0.0,
         null,
         null
        ],
        [
         "8d74eb2bef554482d0b3cda31755229e5a59f8f16cf670a38d7df14d8702a91f",
         0.0,
         0.0,
         1.0,
         1.0,
         0.0,
         0.0,
         null,
         86.0
        ],
        [
         "7f29b078164830b912924f3ae8a2341994f3a222c7144742d0c66e9d5fe7d904",
         0.0,
         0.0,
         0.0,
         0.0,
         1.0,
         0.0,
         null,
         null
        ],
        [
         "676062ee37eb67b420c9be49867032875f64d7e23117c9c7bfb0ca75f3a46c70",
         0.0,
         0.0,
         0.0,
         0.0,
         0.0,
         0.0,
         null,
         null
        ],
        [
         "90c9050888471605fa59575577f0e9525dba33e359210b6e82519ba2301352a5",
         0.0,
         0.0,
         0.0,
         0.0,
         0.0,
         0.0,
         null,
         null
        ],
        [
         "6684e12b1944e8e1271f0bc2354a468d22608c047ae96a6c9a166a920a03df36",
         0.0,
         0.0,
         1.0,
         1.0,
         0.0,
         0.0,
         null,
         71.0
        ],
        [
         "ef2f517b2f2bf21f7217dbbbb99a21b690d6cf1771089bc4b8959729d1180263",
         0.0,
         0.0,
         0.0,
         0.0,
         0.0,
         0.0,
         47.0,
         null
        ],
        [
         "bc1333679188b4d016c831f3313494110b435316fb1ebcb8f01f88411361e48d",
         0.0,
         0.0,
         0.0,
         0.0,
         0.0,
         0.0,
         null,
         null
        ],
        [
         "4de9e935b255b0c2c44997724912d8cc89986a589cf62e9c1aa3e1594562ffb0",
         0.0,
         0.0,
         0.0,
         0.0,
         0.0,
         0.0,
         47.0,
         null
        ],
        [
         "0642f8984b88c29b09dcfcb2612b0ae5b3f733bc186dec0d6dfc983fa3bd603b",
         0.0,
         0.0,
         0.0,
         0.0,
         0.0,
         0.0,
         null,
         null
        ],
        [
         "8a140edf4e4e5016c6056898c2f1a2b21484bf784004a5f2acbc17d8302073e7",
         0.0,
         0.0,
         1.0,
         1.0,
         2.0,
         0.0,
         78.0,
         91.0
        ],
        [
         "79c8b4cbb42f8742c4bc134225447162f7830a60bc07744fcf08c28d61a49ee7",
         0.0,
         0.0,
         0.0,
         0.0,
         1.0,
         0.0,
         45.0,
         null
        ],
        [
         "26e63ed8b898cd9e08f30412a9b81114045b764b44af29eceb0910c635307835",
         0.0,
         0.0,
         1.0,
         1.0,
         0.0,
         0.0,
         null,
         50.0
        ],
        [
         "be382a7acb250f6e8363defef948477fde6c378ae20f17bc9191e303bb0da3be",
         0.0,
         0.0,
         0.0,
         0.0,
         2.0,
         0.0,
         null,
         null
        ],
        [
         "17f319be7cfd66c2b82230a8ab0d8a173e1eac094cebb2b9ad722efce49baacf",
         0.0,
         0.0,
         0.0,
         0.0,
         0.0,
         0.0,
         null,
         null
        ],
        [
         "1534e58e63afff9a6afa2f416e749824aee9d4279cf0e96716418aa058770640",
         0.0,
         0.0,
         0.0,
         0.0,
         0.0,
         0.0,
         74.0,
         null
        ],
        [
         "bab3d6b76fc017c56ffd10197c1a478767ce3c4ee09292cd8e2eea278d770018",
         0.0,
         0.0,
         0.0,
         0.0,
         1.0,
         0.0,
         35.0,
         null
        ],
        [
         "c2a610feca95e9639be8ecb9dc30e5733eb0a0f64e6134c035c4f748569eeafd",
         1.0,
         0.0,
         0.0,
         0.0,
         0.0,
         0.0,
         19.0,
         null
        ],
        [
         "a496c50b6e903cdcefd85f74c3d8b881d6069d6154021f9a5ae047bcc5844af5",
         0.0,
         0.0,
         0.0,
         0.0,
         0.0,
         0.0,
         34.0,
         null
        ],
        [
         "9b023778aac75d135a218074377a89e60ca87c4f9a99e46a5d5e40b4c118d69a",
         3.0,
         0.0,
         0.0,
         0.0,
         0.0,
         0.0,
         9.0,
         null
        ],
        [
         "6333fe24533c8165f0991559ad9d5a44ed716486ad9a8f2133b6580072037525",
         0.0,
         0.0,
         0.0,
         0.0,
         1.0,
         0.0,
         46.0,
         null
        ],
        [
         "b26f914e7aa43a4909cbf7e0ca91105e494ab61c6d84381255b2144b6703cf73",
         0.0,
         0.0,
         1.0,
         1.0,
         2.0,
         0.0,
         null,
         81.0
        ],
        [
         "b4474d578769aaa2c7d003cc18a07d713fdb08610260eb1d3e3c9bab73aebbd4",
         1.0,
         0.0,
         0.0,
         0.0,
         1.0,
         0.0,
         23.0,
         null
        ]
       ],
       "datasetInfos": [],
       "dbfsResultPath": null,
       "isJsonSchema": true,
       "metadata": {},
       "overflow": false,
       "plotOptions": {
        "customPlotOptions": {},
        "displayType": "table",
        "pivotAggregation": null,
        "pivotColumns": null,
        "xColumns": null,
        "yColumns": null
       },
       "removedWidgets": [],
       "schema": [
        {
         "metadata": "{}",
         "name": "member_id",
         "type": "\"string\""
        },
        {
         "metadata": "{}",
         "name": "delinq_2yrs",
         "type": "\"double\""
        },
        {
         "metadata": "{}",
         "name": "delinq_amnt",
         "type": "\"double\""
        },
        {
         "metadata": "{}",
         "name": "pub_rec",
         "type": "\"double\""
        },
        {
         "metadata": "{}",
         "name": "pub_rec_bankruptcies",
         "type": "\"double\""
        },
        {
         "metadata": "{}",
         "name": "inq_last_6mths",
         "type": "\"double\""
        },
        {
         "metadata": "{}",
         "name": "total_rec_late_fee",
         "type": "\"double\""
        },
        {
         "metadata": "{}",
         "name": "mths_since_last_delinq",
         "type": "\"double\""
        },
        {
         "metadata": "{}",
         "name": "mths_since_last_record",
         "type": "\"double\""
        }
       ],
       "type": "table"
      }
     },
     "output_type": "display_data"
    }
   ],
   "source": [
    "loan_defaulter_raw.display()"
   ]
  },
  {
   "cell_type": "code",
   "execution_count": 0,
   "metadata": {
    "application/vnd.databricks.v1+cell": {
     "cellMetadata": {
      "byteLimit": 2048000,
      "rowLimit": 10000
     },
     "inputWidgets": {},
     "nuid": "0c0f17fe-84fe-4997-afc5-39d9f5aba68a",
     "showTitle": false,
     "tableResultSettingsMap": {},
     "title": ""
    }
   },
   "outputs": [],
   "source": [
    "loan_defaulter_raw.createOrReplaceTempView(\"loan_defaulters\")"
   ]
  },
  {
   "cell_type": "code",
   "execution_count": 0,
   "metadata": {
    "application/vnd.databricks.v1+cell": {
     "cellMetadata": {
      "byteLimit": 2048000,
      "implicitDf": true,
      "rowLimit": 10000
     },
     "inputWidgets": {},
     "nuid": "168bad8e-58df-4d78-88d0-eaa521c88d97",
     "showTitle": false,
     "tableResultSettingsMap": {},
     "title": ""
    }
   },
   "outputs": [
    {
     "output_type": "display_data",
     "data": {
      "text/html": [
       "<style scoped>\n",
       "  .table-result-container {\n",
       "    max-height: 300px;\n",
       "    overflow: auto;\n",
       "  }\n",
       "  table, th, td {\n",
       "    border: 1px solid black;\n",
       "    border-collapse: collapse;\n",
       "  }\n",
       "  th, td {\n",
       "    padding: 5px;\n",
       "  }\n",
       "  th {\n",
       "    text-align: left;\n",
       "  }\n",
       "</style><div class='table-result-container'><table class='table-result'><thead style='background-color: white'><tr><th>delinq_2yrs</th><th>total</th></tr></thead><tbody><tr><td>0.0</td><td>88</td></tr><tr><td>1.0</td><td>8</td></tr><tr><td>3.0</td><td>2</td></tr><tr><td>2.0</td><td>2</td></tr></tbody></table></div>"
      ]
     },
     "metadata": {
      "application/vnd.databricks.v1+output": {
       "addedWidgets": {},
       "aggData": [],
       "aggError": "",
       "aggOverflow": false,
       "aggSchema": [],
       "aggSeriesLimitReached": false,
       "aggType": "",
       "arguments": {},
       "columnCustomDisplayInfos": {},
       "data": [
        [
         0.0,
         88
        ],
        [
         1.0,
         8
        ],
        [
         3.0,
         2
        ],
        [
         2.0,
         2
        ]
       ],
       "datasetInfos": [],
       "dbfsResultPath": null,
       "isJsonSchema": true,
       "metadata": {},
       "overflow": false,
       "plotOptions": {
        "customPlotOptions": {},
        "displayType": "table",
        "pivotAggregation": null,
        "pivotColumns": null,
        "xColumns": null,
        "yColumns": null
       },
       "removedWidgets": [],
       "schema": [
        {
         "metadata": "{}",
         "name": "delinq_2yrs",
         "type": "\"double\""
        },
        {
         "metadata": "{}",
         "name": "total",
         "type": "\"long\""
        }
       ],
       "type": "table"
      }
     },
     "output_type": "display_data"
    }
   ],
   "source": [
    "%sql\n",
    "select delinq_2yrs,count(*)as total from loan_defaulters group by delinq_2yrs order by total desc"
   ]
  },
  {
   "cell_type": "code",
   "execution_count": 0,
   "metadata": {
    "application/vnd.databricks.v1+cell": {
     "cellMetadata": {
      "byteLimit": 2048000,
      "rowLimit": 10000
     },
     "inputWidgets": {},
     "nuid": "d495d07a-f0e1-4ff7-a363-101edea7d886",
     "showTitle": false,
     "tableResultSettingsMap": {},
     "title": ""
    }
   },
   "outputs": [
    {
     "output_type": "stream",
     "name": "stdout",
     "output_type": "stream",
     "text": [
      "root\n |-- member_id: string (nullable = true)\n |-- delinq_2yrs: double (nullable = true)\n |-- delinq_amnt: double (nullable = true)\n |-- pub_rec: double (nullable = true)\n |-- pub_rec_bankruptcies: double (nullable = true)\n |-- inq_last_6mths: double (nullable = true)\n |-- total_rec_late_fee: double (nullable = true)\n |-- mths_since_last_delinq: double (nullable = true)\n |-- mths_since_last_record: double (nullable = true)\n\n"
     ]
    }
   ],
   "source": [
    "loan_defaulter_raw.printSchema()"
   ]
  },
  {
   "cell_type": "code",
   "execution_count": 0,
   "metadata": {
    "application/vnd.databricks.v1+cell": {
     "cellMetadata": {
      "byteLimit": 2048000,
      "rowLimit": 10000
     },
     "inputWidgets": {},
     "nuid": "ad142505-0d47-432d-9f2c-a7526672c930",
     "showTitle": false,
     "tableResultSettingsMap": {},
     "title": ""
    }
   },
   "outputs": [],
   "source": [
    "loan_defaulter_schema=\"member_id string,delinq_2yrs float,delinq_amnt float,pub_rec float,pub_rec_bankruptcies float,inq_last_6mths float,total_rec_late_fee float,mths_since_last_delinq float,mths_since_last_record float\""
   ]
  },
  {
   "cell_type": "code",
   "execution_count": 0,
   "metadata": {
    "application/vnd.databricks.v1+cell": {
     "cellMetadata": {
      "byteLimit": 2048000,
      "rowLimit": 10000
     },
     "inputWidgets": {},
     "nuid": "9404c6ba-bb47-4e4a-8b35-3a17283a1106",
     "showTitle": false,
     "tableResultSettingsMap": {},
     "title": ""
    }
   },
   "outputs": [],
   "source": [
    "loan_defaulter_raw=spark.read\\\n",
    "    .format(\"csv\")\\\n",
    "    .option(\"header\",\"true\")\\\n",
    "    .schema(loan_defaulter_schema)\\\n",
    "    .load(\"dbfs:/user/lendingclub_rawfiles/temp/loans_defaulters_csv\")"
   ]
  },
  {
   "cell_type": "code",
   "execution_count": 0,
   "metadata": {
    "application/vnd.databricks.v1+cell": {
     "cellMetadata": {
      "byteLimit": 2048000,
      "rowLimit": 10000
     },
     "inputWidgets": {},
     "nuid": "469c543b-bb5c-41d4-94d1-608d4fa8a266",
     "showTitle": false,
     "tableResultSettingsMap": {},
     "title": ""
    }
   },
   "outputs": [],
   "source": [
    "loan_defaulter_raw.createOrReplaceTempView(\"loan_defaulters\")"
   ]
  },
  {
   "cell_type": "code",
   "execution_count": 0,
   "metadata": {
    "application/vnd.databricks.v1+cell": {
     "cellMetadata": {
      "byteLimit": 2048000,
      "implicitDf": true,
      "rowLimit": 10000
     },
     "inputWidgets": {},
     "nuid": "98dd4f7c-43f4-42aa-bfba-68b9849d26cf",
     "showTitle": false,
     "tableResultSettingsMap": {},
     "title": ""
    }
   },
   "outputs": [
    {
     "output_type": "display_data",
     "data": {
      "text/html": [
       "<style scoped>\n",
       "  .table-result-container {\n",
       "    max-height: 300px;\n",
       "    overflow: auto;\n",
       "  }\n",
       "  table, th, td {\n",
       "    border: 1px solid black;\n",
       "    border-collapse: collapse;\n",
       "  }\n",
       "  th, td {\n",
       "    padding: 5px;\n",
       "  }\n",
       "  th {\n",
       "    text-align: left;\n",
       "  }\n",
       "</style><div class='table-result-container'><table class='table-result'><thead style='background-color: white'><tr><th>delinq_2yrs</th><th>total</th></tr></thead><tbody><tr><td>0.0</td><td>88</td></tr><tr><td>1.0</td><td>8</td></tr><tr><td>2.0</td><td>2</td></tr><tr><td>3.0</td><td>2</td></tr></tbody></table></div>"
      ]
     },
     "metadata": {
      "application/vnd.databricks.v1+output": {
       "addedWidgets": {},
       "aggData": [],
       "aggError": "",
       "aggOverflow": false,
       "aggSchema": [],
       "aggSeriesLimitReached": false,
       "aggType": "",
       "arguments": {},
       "columnCustomDisplayInfos": {},
       "data": [
        [
         0.0,
         88
        ],
        [
         1.0,
         8
        ],
        [
         2.0,
         2
        ],
        [
         3.0,
         2
        ]
       ],
       "datasetInfos": [],
       "dbfsResultPath": null,
       "isJsonSchema": true,
       "metadata": {},
       "overflow": false,
       "plotOptions": {
        "customPlotOptions": {},
        "displayType": "table",
        "pivotAggregation": null,
        "pivotColumns": null,
        "xColumns": null,
        "yColumns": null
       },
       "removedWidgets": [],
       "schema": [
        {
         "metadata": "{}",
         "name": "delinq_2yrs",
         "type": "\"float\""
        },
        {
         "metadata": "{}",
         "name": "total",
         "type": "\"long\""
        }
       ],
       "type": "table"
      }
     },
     "output_type": "display_data"
    }
   ],
   "source": [
    "%sql\n",
    "select delinq_2yrs,count(*)as total from loan_defaulters group by delinq_2yrs order by total desc"
   ]
  },
  {
   "cell_type": "code",
   "execution_count": 0,
   "metadata": {
    "application/vnd.databricks.v1+cell": {
     "cellMetadata": {
      "byteLimit": 2048000,
      "rowLimit": 10000
     },
     "inputWidgets": {},
     "nuid": "2c0b79c1-be97-430f-9d9e-07732e152827",
     "showTitle": false,
     "tableResultSettingsMap": {},
     "title": ""
    }
   },
   "outputs": [],
   "source": [
    "from pyspark.sql.functions import col\n",
    "loans_def_processed_df=loan_defaulter_raw.withColumn(\"delinq_2yrs\",col(\"delinq_2yrs\").cast(\"integer\")).fillna(0,subset=[\"delinq_2yrs\"])"
   ]
  },
  {
   "cell_type": "code",
   "execution_count": 0,
   "metadata": {
    "application/vnd.databricks.v1+cell": {
     "cellMetadata": {
      "byteLimit": 2048000,
      "rowLimit": 10000
     },
     "inputWidgets": {},
     "nuid": "53552b44-6787-444f-9a4f-0fb2dff703f5",
     "showTitle": false,
     "tableResultSettingsMap": {},
     "title": ""
    }
   },
   "outputs": [],
   "source": [
    "loans_def_processed_df.createOrReplaceTempView(\"loan_defaulters\")"
   ]
  },
  {
   "cell_type": "code",
   "execution_count": 0,
   "metadata": {
    "application/vnd.databricks.v1+cell": {
     "cellMetadata": {
      "byteLimit": 2048000,
      "implicitDf": true,
      "rowLimit": 10000
     },
     "inputWidgets": {},
     "nuid": "40fb0941-df09-4433-bbd0-18c9324a6c57",
     "showTitle": false,
     "tableResultSettingsMap": {},
     "title": ""
    }
   },
   "outputs": [
    {
     "output_type": "display_data",
     "data": {
      "text/html": [
       "<style scoped>\n",
       "  .table-result-container {\n",
       "    max-height: 300px;\n",
       "    overflow: auto;\n",
       "  }\n",
       "  table, th, td {\n",
       "    border: 1px solid black;\n",
       "    border-collapse: collapse;\n",
       "  }\n",
       "  th, td {\n",
       "    padding: 5px;\n",
       "  }\n",
       "  th {\n",
       "    text-align: left;\n",
       "  }\n",
       "</style><div class='table-result-container'><table class='table-result'><thead style='background-color: white'><tr><th>count(1)</th></tr></thead><tbody><tr><td>0</td></tr></tbody></table></div>"
      ]
     },
     "metadata": {
      "application/vnd.databricks.v1+output": {
       "addedWidgets": {},
       "aggData": [],
       "aggError": "",
       "aggOverflow": false,
       "aggSchema": [],
       "aggSeriesLimitReached": false,
       "aggType": "",
       "arguments": {},
       "columnCustomDisplayInfos": {},
       "data": [
        [
         0
        ]
       ],
       "datasetInfos": [],
       "dbfsResultPath": null,
       "isJsonSchema": true,
       "metadata": {},
       "overflow": false,
       "plotOptions": {
        "customPlotOptions": {},
        "displayType": "table",
        "pivotAggregation": null,
        "pivotColumns": null,
        "xColumns": null,
        "yColumns": null
       },
       "removedWidgets": [],
       "schema": [
        {
         "metadata": "{\"__autoGeneratedAlias\":\"true\"}",
         "name": "count(1)",
         "type": "\"long\""
        }
       ],
       "type": "table"
      }
     },
     "output_type": "display_data"
    }
   ],
   "source": [
    "%sql\n",
    "select count(*)from loan_defaulters where delinq_2yrs=null"
   ]
  },
  {
   "cell_type": "code",
   "execution_count": 0,
   "metadata": {
    "application/vnd.databricks.v1+cell": {
     "cellMetadata": {
      "byteLimit": 2048000,
      "implicitDf": true,
      "rowLimit": 10000
     },
     "inputWidgets": {},
     "nuid": "63736557-a40e-44d5-8ba9-13733c85a3d7",
     "showTitle": false,
     "tableResultSettingsMap": {},
     "title": ""
    }
   },
   "outputs": [
    {
     "output_type": "display_data",
     "data": {
      "text/html": [
       "<style scoped>\n",
       "  .table-result-container {\n",
       "    max-height: 300px;\n",
       "    overflow: auto;\n",
       "  }\n",
       "  table, th, td {\n",
       "    border: 1px solid black;\n",
       "    border-collapse: collapse;\n",
       "  }\n",
       "  th, td {\n",
       "    padding: 5px;\n",
       "  }\n",
       "  th {\n",
       "    text-align: left;\n",
       "  }\n",
       "</style><div class='table-result-container'><table class='table-result'><thead style='background-color: white'><tr><th>delinq_2yrs</th><th>total</th></tr></thead><tbody><tr><td>0</td><td>88</td></tr><tr><td>1</td><td>8</td></tr><tr><td>3</td><td>2</td></tr><tr><td>2</td><td>2</td></tr></tbody></table></div>"
      ]
     },
     "metadata": {
      "application/vnd.databricks.v1+output": {
       "addedWidgets": {},
       "aggData": [],
       "aggError": "",
       "aggOverflow": false,
       "aggSchema": [],
       "aggSeriesLimitReached": false,
       "aggType": "",
       "arguments": {},
       "columnCustomDisplayInfos": {},
       "data": [
        [
         0,
         88
        ],
        [
         1,
         8
        ],
        [
         3,
         2
        ],
        [
         2,
         2
        ]
       ],
       "datasetInfos": [],
       "dbfsResultPath": null,
       "isJsonSchema": true,
       "metadata": {},
       "overflow": false,
       "plotOptions": {
        "customPlotOptions": {},
        "displayType": "table",
        "pivotAggregation": null,
        "pivotColumns": null,
        "xColumns": null,
        "yColumns": null
       },
       "removedWidgets": [],
       "schema": [
        {
         "metadata": "{}",
         "name": "delinq_2yrs",
         "type": "\"integer\""
        },
        {
         "metadata": "{}",
         "name": "total",
         "type": "\"long\""
        }
       ],
       "type": "table"
      }
     },
     "output_type": "display_data"
    }
   ],
   "source": [
    "%sql\n",
    "select delinq_2yrs,count(*)as total from loan_defaulters group by delinq_2yrs order by total desc"
   ]
  },
  {
   "cell_type": "code",
   "execution_count": 0,
   "metadata": {
    "application/vnd.databricks.v1+cell": {
     "cellMetadata": {
      "byteLimit": 2048000,
      "rowLimit": 10000
     },
     "inputWidgets": {},
     "nuid": "b6bc213f-a4ad-4e12-85bb-1eb36e59d0e8",
     "showTitle": false,
     "tableResultSettingsMap": {},
     "title": ""
    }
   },
   "outputs": [
    {
     "output_type": "stream",
     "name": "stdout",
     "output_type": "stream",
     "text": [
      "Out[14]: 100"
     ]
    }
   ],
   "source": [
    "loans_def_processed_df.count()"
   ]
  },
  {
   "cell_type": "code",
   "execution_count": 0,
   "metadata": {
    "application/vnd.databricks.v1+cell": {
     "cellMetadata": {
      "byteLimit": 2048000,
      "rowLimit": 10000
     },
     "inputWidgets": {},
     "nuid": "48453da4-007b-46d3-835d-29851fd1c60f",
     "showTitle": false,
     "tableResultSettingsMap": {},
     "title": ""
    }
   },
   "outputs": [],
   "source": [
    "loans_delinq_def=spark.sql(\"select member_id,delinq_2yrs,delinq_amnt,int(mths_since_last_delinq) from loan_defaulters where delinq_2yrs > 0 or mths_since_last_delinq > 0\")\n"
   ]
  },
  {
   "cell_type": "code",
   "execution_count": 0,
   "metadata": {
    "application/vnd.databricks.v1+cell": {
     "cellMetadata": {
      "byteLimit": 2048000,
      "rowLimit": 10000
     },
     "inputWidgets": {},
     "nuid": "f8d39531-ab5f-426a-b20e-f13f706ba1d9",
     "showTitle": false,
     "tableResultSettingsMap": {},
     "title": ""
    }
   },
   "outputs": [
    {
     "output_type": "display_data",
     "data": {
      "text/html": [
       "<style scoped>\n",
       "  .table-result-container {\n",
       "    max-height: 300px;\n",
       "    overflow: auto;\n",
       "  }\n",
       "  table, th, td {\n",
       "    border: 1px solid black;\n",
       "    border-collapse: collapse;\n",
       "  }\n",
       "  th, td {\n",
       "    padding: 5px;\n",
       "  }\n",
       "  th {\n",
       "    text-align: left;\n",
       "  }\n",
       "</style><div class='table-result-container'><table class='table-result'><thead style='background-color: white'><tr><th>member_id</th><th>delinq_2yrs</th><th>delinq_amnt</th><th>mths_since_last_delinq</th></tr></thead><tbody><tr><td>6d5091b3fcaaeb4eac37445042b6b79e8b21f16943b9c32c4f5dd74dcb0f2210</td><td>0</td><td>0.0</td><td>30</td></tr><tr><td>b5e7938b0a2da4ceaa75ea2e3c111d1e33ca0f944f954b6d65671ef395d21713</td><td>1</td><td>0.0</td><td>6</td></tr><tr><td>f74e401c1ab0adf788a7279dd70a27459fcc47733d35eed71149ff371d2a7283</td><td>1</td><td>0.0</td><td>12</td></tr><tr><td>538b4653da3b1e8142b50baacf97a57b721eb6ec565f5fb63a1b71d191e9e934</td><td>0</td><td>0.0</td><td>49</td></tr><tr><td>b24d55f21390533c512f78f822153dc247e984dcd0cfe031c341ccef1c689817</td><td>1</td><td>0.0</td><td>3</td></tr><tr><td>cb0f1777593e77909d0d359a6d9e633f28568500e17806f815395c92f0cd375d</td><td>0</td><td>0.0</td><td>75</td></tr><tr><td>a962f4d59caec5fa1d51d5ad6ccf761573b476dbc25295e9645a491fa2bc6997</td><td>0</td><td>0.0</td><td>54</td></tr><tr><td>23857480ccf555ce4c5b7db19337de8cf8dd9eace1276036eb8f233a2c08cc6b</td><td>0</td><td>0.0</td><td>42</td></tr><tr><td>f2c4010f700d8c9c4433561b8fc9211a7bf6eefbabaee284c7cad51d64831e30</td><td>0</td><td>0.0</td><td>29</td></tr><tr><td>0d3c568ff6944b11c241b04737d140b1e6962491dfbd157774ca709c051acfc5</td><td>0</td><td>0.0</td><td>33</td></tr><tr><td>18889919d4248ff4846801a65f3b7893da9621cd475fe9c1c91df8c0cfd336f4</td><td>1</td><td>0.0</td><td>15</td></tr><tr><td>49c691121315ceeacef440bb86fbf9582132f5c55ad98b4a29285d4f7468b852</td><td>2</td><td>0.0</td><td>18</td></tr><tr><td>d04ae2a3b9e2e686e11af2c6425cb8e8006acf7ded5b531914a22e8b1a09ee8f</td><td>0</td><td>0.0</td><td>47</td></tr><tr><td>259af6637d622a8fc6d896e17c83b83d59e1d809a509bef50b0241eb06a7b221</td><td>0</td><td>0.0</td><td>33</td></tr><tr><td>263b2b8177d69a09e14cfe49169ed02662f2e951e5fc6eb8f408e782cd9bf237</td><td>0</td><td>0.0</td><td>33</td></tr><tr><td>0d7e498df54d38160b9a05329e82d1435237e75626886e7584e86c16b729d217</td><td>0</td><td>0.0</td><td>35</td></tr><tr><td>dc3d024374b1d2cb40bd3b3b1bb5d32465be30a49c8a2adc5f48420f851b5376</td><td>1</td><td>0.0</td><td>23</td></tr><tr><td>c968abcd0831fe0a992af5c3023adfddf96f7f09c3d608065b5721a54e1cee31</td><td>0</td><td>0.0</td><td>38</td></tr><tr><td>25df9cff7c21666b9c89b379c56b9a6f1f4216fce33dc4c72c250f1ec4996f23</td><td>2</td><td>0.0</td><td>8</td></tr><tr><td>5840f34a041b29a6b39cc57b698cb2859263f4cafe53e3c51e4212a988cb80d4</td><td>0</td><td>0.0</td><td>70</td></tr><tr><td>88eeb7dfc5b755a95014220327e5c4238f2341aa004813d74e698a4c6aa92651</td><td>0</td><td>0.0</td><td>59</td></tr><tr><td>3277fcf7cd6953b58377e9e5fd3aa071068142f2e893c87918b2d90be4cc9f4a</td><td>0</td><td>0.0</td><td>45</td></tr><tr><td>fe518ce080b3f422f017e3ce7a2ac09b65e82846046a862691f0dcf0f0177a3d</td><td>3</td><td>0.0</td><td>6</td></tr><tr><td>e8c7db7c485241687359cea286549a356d5d3d000f45b18a5d6d50b93aec68cc</td><td>0</td><td>0.0</td><td>52</td></tr><tr><td>3ea4951dbbccf87fcd39d9750d7229c18cdaf9d1b0029628173beb668515beba</td><td>1</td><td>0.0</td><td>23</td></tr><tr><td>43e2d5f152452665fdb69bafac4fc045fb5c8ae2e65296a89691917b3bb1b840</td><td>0</td><td>0.0</td><td>66</td></tr><tr><td>ad0e6b5f8b7ebab5a8eca4795c34b648ba328f4a47c8528499e85443a73676fb</td><td>0</td><td>0.0</td><td>50</td></tr><tr><td>21b54af7ef90595ddc945abdb409045a35747ed0c052bc8eac28b291547b35f5</td><td>0</td><td>0.0</td><td>46</td></tr><tr><td>cf5169a0db8c481d075339abcc376b3aa52a3736d940d9fcf20db479153088c1</td><td>0</td><td>0.0</td><td>70</td></tr><tr><td>865db309f3238da40f31ce33da13c58a2b21d454fc147e6401e04bd85fd43447</td><td>0</td><td>0.0</td><td>39</td></tr><tr><td>820b4484677b444ea249e637985b1c63ea100609912d8c0cf600f946f5da31ae</td><td>0</td><td>0.0</td><td>33</td></tr><tr><td>58a04b5b2b34d521556b37192681ece256460f8a3bdc85035dd501c51642d693</td><td>0</td><td>0.0</td><td>63</td></tr><tr><td>6e5f652c35fbe19882e6c1f276be5f8f11c5ce70caadc31e805ab4e0200477d0</td><td>0</td><td>0.0</td><td>61</td></tr><tr><td>0df70b65c4566dc1d90d3110d09b6aba5440557f593218ef32c3d65a8b09ceb4</td><td>0</td><td>0.0</td><td>39</td></tr><tr><td>ef2f517b2f2bf21f7217dbbbb99a21b690d6cf1771089bc4b8959729d1180263</td><td>0</td><td>0.0</td><td>47</td></tr><tr><td>4de9e935b255b0c2c44997724912d8cc89986a589cf62e9c1aa3e1594562ffb0</td><td>0</td><td>0.0</td><td>47</td></tr><tr><td>8a140edf4e4e5016c6056898c2f1a2b21484bf784004a5f2acbc17d8302073e7</td><td>0</td><td>0.0</td><td>78</td></tr><tr><td>79c8b4cbb42f8742c4bc134225447162f7830a60bc07744fcf08c28d61a49ee7</td><td>0</td><td>0.0</td><td>45</td></tr><tr><td>1534e58e63afff9a6afa2f416e749824aee9d4279cf0e96716418aa058770640</td><td>0</td><td>0.0</td><td>74</td></tr><tr><td>bab3d6b76fc017c56ffd10197c1a478767ce3c4ee09292cd8e2eea278d770018</td><td>0</td><td>0.0</td><td>35</td></tr><tr><td>c2a610feca95e9639be8ecb9dc30e5733eb0a0f64e6134c035c4f748569eeafd</td><td>1</td><td>0.0</td><td>19</td></tr><tr><td>a496c50b6e903cdcefd85f74c3d8b881d6069d6154021f9a5ae047bcc5844af5</td><td>0</td><td>0.0</td><td>34</td></tr><tr><td>9b023778aac75d135a218074377a89e60ca87c4f9a99e46a5d5e40b4c118d69a</td><td>3</td><td>0.0</td><td>9</td></tr><tr><td>6333fe24533c8165f0991559ad9d5a44ed716486ad9a8f2133b6580072037525</td><td>0</td><td>0.0</td><td>46</td></tr><tr><td>b4474d578769aaa2c7d003cc18a07d713fdb08610260eb1d3e3c9bab73aebbd4</td><td>1</td><td>0.0</td><td>23</td></tr></tbody></table></div>"
      ]
     },
     "metadata": {
      "application/vnd.databricks.v1+output": {
       "addedWidgets": {},
       "aggData": [],
       "aggError": "",
       "aggOverflow": false,
       "aggSchema": [],
       "aggSeriesLimitReached": false,
       "aggType": "",
       "arguments": {},
       "columnCustomDisplayInfos": {},
       "data": [
        [
         "6d5091b3fcaaeb4eac37445042b6b79e8b21f16943b9c32c4f5dd74dcb0f2210",
         0,
         0.0,
         30
        ],
        [
         "b5e7938b0a2da4ceaa75ea2e3c111d1e33ca0f944f954b6d65671ef395d21713",
         1,
         0.0,
         6
        ],
        [
         "f74e401c1ab0adf788a7279dd70a27459fcc47733d35eed71149ff371d2a7283",
         1,
         0.0,
         12
        ],
        [
         "538b4653da3b1e8142b50baacf97a57b721eb6ec565f5fb63a1b71d191e9e934",
         0,
         0.0,
         49
        ],
        [
         "b24d55f21390533c512f78f822153dc247e984dcd0cfe031c341ccef1c689817",
         1,
         0.0,
         3
        ],
        [
         "cb0f1777593e77909d0d359a6d9e633f28568500e17806f815395c92f0cd375d",
         0,
         0.0,
         75
        ],
        [
         "a962f4d59caec5fa1d51d5ad6ccf761573b476dbc25295e9645a491fa2bc6997",
         0,
         0.0,
         54
        ],
        [
         "23857480ccf555ce4c5b7db19337de8cf8dd9eace1276036eb8f233a2c08cc6b",
         0,
         0.0,
         42
        ],
        [
         "f2c4010f700d8c9c4433561b8fc9211a7bf6eefbabaee284c7cad51d64831e30",
         0,
         0.0,
         29
        ],
        [
         "0d3c568ff6944b11c241b04737d140b1e6962491dfbd157774ca709c051acfc5",
         0,
         0.0,
         33
        ],
        [
         "18889919d4248ff4846801a65f3b7893da9621cd475fe9c1c91df8c0cfd336f4",
         1,
         0.0,
         15
        ],
        [
         "49c691121315ceeacef440bb86fbf9582132f5c55ad98b4a29285d4f7468b852",
         2,
         0.0,
         18
        ],
        [
         "d04ae2a3b9e2e686e11af2c6425cb8e8006acf7ded5b531914a22e8b1a09ee8f",
         0,
         0.0,
         47
        ],
        [
         "259af6637d622a8fc6d896e17c83b83d59e1d809a509bef50b0241eb06a7b221",
         0,
         0.0,
         33
        ],
        [
         "263b2b8177d69a09e14cfe49169ed02662f2e951e5fc6eb8f408e782cd9bf237",
         0,
         0.0,
         33
        ],
        [
         "0d7e498df54d38160b9a05329e82d1435237e75626886e7584e86c16b729d217",
         0,
         0.0,
         35
        ],
        [
         "dc3d024374b1d2cb40bd3b3b1bb5d32465be30a49c8a2adc5f48420f851b5376",
         1,
         0.0,
         23
        ],
        [
         "c968abcd0831fe0a992af5c3023adfddf96f7f09c3d608065b5721a54e1cee31",
         0,
         0.0,
         38
        ],
        [
         "25df9cff7c21666b9c89b379c56b9a6f1f4216fce33dc4c72c250f1ec4996f23",
         2,
         0.0,
         8
        ],
        [
         "5840f34a041b29a6b39cc57b698cb2859263f4cafe53e3c51e4212a988cb80d4",
         0,
         0.0,
         70
        ],
        [
         "88eeb7dfc5b755a95014220327e5c4238f2341aa004813d74e698a4c6aa92651",
         0,
         0.0,
         59
        ],
        [
         "3277fcf7cd6953b58377e9e5fd3aa071068142f2e893c87918b2d90be4cc9f4a",
         0,
         0.0,
         45
        ],
        [
         "fe518ce080b3f422f017e3ce7a2ac09b65e82846046a862691f0dcf0f0177a3d",
         3,
         0.0,
         6
        ],
        [
         "e8c7db7c485241687359cea286549a356d5d3d000f45b18a5d6d50b93aec68cc",
         0,
         0.0,
         52
        ],
        [
         "3ea4951dbbccf87fcd39d9750d7229c18cdaf9d1b0029628173beb668515beba",
         1,
         0.0,
         23
        ],
        [
         "43e2d5f152452665fdb69bafac4fc045fb5c8ae2e65296a89691917b3bb1b840",
         0,
         0.0,
         66
        ],
        [
         "ad0e6b5f8b7ebab5a8eca4795c34b648ba328f4a47c8528499e85443a73676fb",
         0,
         0.0,
         50
        ],
        [
         "21b54af7ef90595ddc945abdb409045a35747ed0c052bc8eac28b291547b35f5",
         0,
         0.0,
         46
        ],
        [
         "cf5169a0db8c481d075339abcc376b3aa52a3736d940d9fcf20db479153088c1",
         0,
         0.0,
         70
        ],
        [
         "865db309f3238da40f31ce33da13c58a2b21d454fc147e6401e04bd85fd43447",
         0,
         0.0,
         39
        ],
        [
         "820b4484677b444ea249e637985b1c63ea100609912d8c0cf600f946f5da31ae",
         0,
         0.0,
         33
        ],
        [
         "58a04b5b2b34d521556b37192681ece256460f8a3bdc85035dd501c51642d693",
         0,
         0.0,
         63
        ],
        [
         "6e5f652c35fbe19882e6c1f276be5f8f11c5ce70caadc31e805ab4e0200477d0",
         0,
         0.0,
         61
        ],
        [
         "0df70b65c4566dc1d90d3110d09b6aba5440557f593218ef32c3d65a8b09ceb4",
         0,
         0.0,
         39
        ],
        [
         "ef2f517b2f2bf21f7217dbbbb99a21b690d6cf1771089bc4b8959729d1180263",
         0,
         0.0,
         47
        ],
        [
         "4de9e935b255b0c2c44997724912d8cc89986a589cf62e9c1aa3e1594562ffb0",
         0,
         0.0,
         47
        ],
        [
         "8a140edf4e4e5016c6056898c2f1a2b21484bf784004a5f2acbc17d8302073e7",
         0,
         0.0,
         78
        ],
        [
         "79c8b4cbb42f8742c4bc134225447162f7830a60bc07744fcf08c28d61a49ee7",
         0,
         0.0,
         45
        ],
        [
         "1534e58e63afff9a6afa2f416e749824aee9d4279cf0e96716418aa058770640",
         0,
         0.0,
         74
        ],
        [
         "bab3d6b76fc017c56ffd10197c1a478767ce3c4ee09292cd8e2eea278d770018",
         0,
         0.0,
         35
        ],
        [
         "c2a610feca95e9639be8ecb9dc30e5733eb0a0f64e6134c035c4f748569eeafd",
         1,
         0.0,
         19
        ],
        [
         "a496c50b6e903cdcefd85f74c3d8b881d6069d6154021f9a5ae047bcc5844af5",
         0,
         0.0,
         34
        ],
        [
         "9b023778aac75d135a218074377a89e60ca87c4f9a99e46a5d5e40b4c118d69a",
         3,
         0.0,
         9
        ],
        [
         "6333fe24533c8165f0991559ad9d5a44ed716486ad9a8f2133b6580072037525",
         0,
         0.0,
         46
        ],
        [
         "b4474d578769aaa2c7d003cc18a07d713fdb08610260eb1d3e3c9bab73aebbd4",
         1,
         0.0,
         23
        ]
       ],
       "datasetInfos": [],
       "dbfsResultPath": null,
       "isJsonSchema": true,
       "metadata": {},
       "overflow": false,
       "plotOptions": {
        "customPlotOptions": {},
        "displayType": "table",
        "pivotAggregation": null,
        "pivotColumns": null,
        "xColumns": null,
        "yColumns": null
       },
       "removedWidgets": [],
       "schema": [
        {
         "metadata": "{}",
         "name": "member_id",
         "type": "\"string\""
        },
        {
         "metadata": "{}",
         "name": "delinq_2yrs",
         "type": "\"integer\""
        },
        {
         "metadata": "{}",
         "name": "delinq_amnt",
         "type": "\"float\""
        },
        {
         "metadata": "{}",
         "name": "mths_since_last_delinq",
         "type": "\"integer\""
        }
       ],
       "type": "table"
      }
     },
     "output_type": "display_data"
    }
   ],
   "source": [
    "loans_delinq_def.display()"
   ]
  },
  {
   "cell_type": "code",
   "execution_count": 0,
   "metadata": {
    "application/vnd.databricks.v1+cell": {
     "cellMetadata": {
      "byteLimit": 2048000,
      "rowLimit": 10000
     },
     "inputWidgets": {},
     "nuid": "a6bbb78c-c209-4b73-b0cd-613ae0e3a820",
     "showTitle": false,
     "tableResultSettingsMap": {},
     "title": ""
    }
   },
   "outputs": [
    {
     "output_type": "stream",
     "name": "stdout",
     "output_type": "stream",
     "text": [
      "Out[17]: 45"
     ]
    }
   ],
   "source": [
    "loans_delinq_def.count()"
   ]
  },
  {
   "cell_type": "code",
   "execution_count": 0,
   "metadata": {
    "application/vnd.databricks.v1+cell": {
     "cellMetadata": {
      "byteLimit": 2048000,
      "rowLimit": 10000
     },
     "inputWidgets": {},
     "nuid": "0151e278-76f5-465a-a9d7-6357e3cf62cc",
     "showTitle": false,
     "tableResultSettingsMap": {},
     "title": ""
    }
   },
   "outputs": [
    {
     "output_type": "stream",
     "name": "stdout",
     "output_type": "stream",
     "text": [
      "root\n |-- member_id: string (nullable = true)\n |-- delinq_2yrs: float (nullable = true)\n |-- delinq_amnt: float (nullable = true)\n |-- pub_rec: float (nullable = true)\n |-- pub_rec_bankruptcies: float (nullable = true)\n |-- inq_last_6mths: float (nullable = true)\n |-- total_rec_late_fee: float (nullable = true)\n |-- mths_since_last_delinq: float (nullable = true)\n |-- mths_since_last_record: float (nullable = true)\n\n"
     ]
    }
   ],
   "source": [
    "loan_defaulter_raw.printSchema()"
   ]
  },
  {
   "cell_type": "code",
   "execution_count": 0,
   "metadata": {
    "application/vnd.databricks.v1+cell": {
     "cellMetadata": {
      "byteLimit": 2048000,
      "rowLimit": 10000
     },
     "inputWidgets": {},
     "nuid": "b939038f-e46b-496e-90c4-f3176945336e",
     "showTitle": false,
     "tableResultSettingsMap": {},
     "title": ""
    }
   },
   "outputs": [],
   "source": [
    "loans_df_records_enq=spark.sql(\"select member_id from loan_defaulters where pub_rec > 0 or pub_rec_bankruptcies > 0 or inq_last_6mths > 0\")"
   ]
  },
  {
   "cell_type": "code",
   "execution_count": 0,
   "metadata": {
    "application/vnd.databricks.v1+cell": {
     "cellMetadata": {
      "byteLimit": 2048000,
      "rowLimit": 10000
     },
     "inputWidgets": {},
     "nuid": "d3aaaf6e-195f-4fc5-ab24-f6b2a4e2ad52",
     "showTitle": false,
     "tableResultSettingsMap": {},
     "title": ""
    }
   },
   "outputs": [
    {
     "output_type": "display_data",
     "data": {
      "text/html": [
       "<style scoped>\n",
       "  .table-result-container {\n",
       "    max-height: 300px;\n",
       "    overflow: auto;\n",
       "  }\n",
       "  table, th, td {\n",
       "    border: 1px solid black;\n",
       "    border-collapse: collapse;\n",
       "  }\n",
       "  th, td {\n",
       "    padding: 5px;\n",
       "  }\n",
       "  th {\n",
       "    text-align: left;\n",
       "  }\n",
       "</style><div class='table-result-container'><table class='table-result'><thead style='background-color: white'><tr><th>member_id</th></tr></thead><tbody><tr><td>6d5091b3fcaaeb4eac37445042b6b79e8b21f16943b9c32c4f5dd74dcb0f2210</td></tr><tr><td>b5e7938b0a2da4ceaa75ea2e3c111d1e33ca0f944f954b6d65671ef395d21713</td></tr><tr><td>f74e401c1ab0adf788a7279dd70a27459fcc47733d35eed71149ff371d2a7283</td></tr><tr><td>1035c5401b0ca76d02c334b813302a9b72825e70b1659e8bc8ce5eea6c5d1f52</td></tr><tr><td>9fe2d59ddf2a4f37e54e225954d87e21054e9c965b6d86f7bba4bf73e364e963</td></tr><tr><td>08bf9e080503b0113535d545974cb681ca3368ea42d23705cf961f9f56f55a8e</td></tr><tr><td>05ad4aed7c393035e6d29619d4bbb81164b0384f3b2e03876bf9223a1700bf70</td></tr><tr><td>0d3c568ff6944b11c241b04737d140b1e6962491dfbd157774ca709c051acfc5</td></tr><tr><td>18889919d4248ff4846801a65f3b7893da9621cd475fe9c1c91df8c0cfd336f4</td></tr><tr><td>159b209fd25dff55bfcf9ef91cb511b2cf45cb152afbfe7401286bb8ddc9c26f</td></tr><tr><td>4a968e91c3ec52c4b4f5ce46101760c9f07184a561b84c4cba6243434a4b5f57</td></tr><tr><td>d04ae2a3b9e2e686e11af2c6425cb8e8006acf7ded5b531914a22e8b1a09ee8f</td></tr><tr><td>259af6637d622a8fc6d896e17c83b83d59e1d809a509bef50b0241eb06a7b221</td></tr><tr><td>263b2b8177d69a09e14cfe49169ed02662f2e951e5fc6eb8f408e782cd9bf237</td></tr><tr><td>4ec317a8d203c448931585e76486d0618c4c082dc83ca9ffb5e3f7057d6933ee</td></tr><tr><td>0d7e498df54d38160b9a05329e82d1435237e75626886e7584e86c16b729d217</td></tr><tr><td>dc3d024374b1d2cb40bd3b3b1bb5d32465be30a49c8a2adc5f48420f851b5376</td></tr><tr><td>65470d4d756d84072792669c586a75473b906747a2dad6312917768c585aeda0</td></tr><tr><td>833ef5fdb767e5fdd58093ae9413d48551ad34780e38704109c536a952c6183f</td></tr><tr><td>25df9cff7c21666b9c89b379c56b9a6f1f4216fce33dc4c72c250f1ec4996f23</td></tr><tr><td>0bad6d6c073efa1779ad62a7508d47a44282405eab3eecbee289fe9195349a5d</td></tr><tr><td>88eeb7dfc5b755a95014220327e5c4238f2341aa004813d74e698a4c6aa92651</td></tr><tr><td>3277fcf7cd6953b58377e9e5fd3aa071068142f2e893c87918b2d90be4cc9f4a</td></tr><tr><td>fe518ce080b3f422f017e3ce7a2ac09b65e82846046a862691f0dcf0f0177a3d</td></tr><tr><td>e8c7db7c485241687359cea286549a356d5d3d000f45b18a5d6d50b93aec68cc</td></tr><tr><td>ad0e6b5f8b7ebab5a8eca4795c34b648ba328f4a47c8528499e85443a73676fb</td></tr><tr><td>94a3e06d032ec2d3d05926a3b59543d6801cad342fdb43ffec7cddd931cf6729</td></tr><tr><td>c2446627dda46e7b8604fe7ef6b0250161036b21ce8224462596a15bb525abaa</td></tr><tr><td>58a04b5b2b34d521556b37192681ece256460f8a3bdc85035dd501c51642d693</td></tr><tr><td>0a7474cf6c598c76d9f177cb5e37297fbe3f482e91501819061ab3a947693a60</td></tr><tr><td>48c34087f62b82233e422f5fddc806f8ea9168e39d282dd5bb0afdad90767cfe</td></tr><tr><td>6e5f652c35fbe19882e6c1f276be5f8f11c5ce70caadc31e805ab4e0200477d0</td></tr><tr><td>8d74eb2bef554482d0b3cda31755229e5a59f8f16cf670a38d7df14d8702a91f</td></tr><tr><td>7f29b078164830b912924f3ae8a2341994f3a222c7144742d0c66e9d5fe7d904</td></tr><tr><td>6684e12b1944e8e1271f0bc2354a468d22608c047ae96a6c9a166a920a03df36</td></tr><tr><td>8a140edf4e4e5016c6056898c2f1a2b21484bf784004a5f2acbc17d8302073e7</td></tr><tr><td>79c8b4cbb42f8742c4bc134225447162f7830a60bc07744fcf08c28d61a49ee7</td></tr><tr><td>26e63ed8b898cd9e08f30412a9b81114045b764b44af29eceb0910c635307835</td></tr><tr><td>be382a7acb250f6e8363defef948477fde6c378ae20f17bc9191e303bb0da3be</td></tr><tr><td>bab3d6b76fc017c56ffd10197c1a478767ce3c4ee09292cd8e2eea278d770018</td></tr><tr><td>6333fe24533c8165f0991559ad9d5a44ed716486ad9a8f2133b6580072037525</td></tr><tr><td>b26f914e7aa43a4909cbf7e0ca91105e494ab61c6d84381255b2144b6703cf73</td></tr><tr><td>b4474d578769aaa2c7d003cc18a07d713fdb08610260eb1d3e3c9bab73aebbd4</td></tr></tbody></table></div>"
      ]
     },
     "metadata": {
      "application/vnd.databricks.v1+output": {
       "addedWidgets": {},
       "aggData": [],
       "aggError": "",
       "aggOverflow": false,
       "aggSchema": [],
       "aggSeriesLimitReached": false,
       "aggType": "",
       "arguments": {},
       "columnCustomDisplayInfos": {},
       "data": [
        [
         "6d5091b3fcaaeb4eac37445042b6b79e8b21f16943b9c32c4f5dd74dcb0f2210"
        ],
        [
         "b5e7938b0a2da4ceaa75ea2e3c111d1e33ca0f944f954b6d65671ef395d21713"
        ],
        [
         "f74e401c1ab0adf788a7279dd70a27459fcc47733d35eed71149ff371d2a7283"
        ],
        [
         "1035c5401b0ca76d02c334b813302a9b72825e70b1659e8bc8ce5eea6c5d1f52"
        ],
        [
         "9fe2d59ddf2a4f37e54e225954d87e21054e9c965b6d86f7bba4bf73e364e963"
        ],
        [
         "08bf9e080503b0113535d545974cb681ca3368ea42d23705cf961f9f56f55a8e"
        ],
        [
         "05ad4aed7c393035e6d29619d4bbb81164b0384f3b2e03876bf9223a1700bf70"
        ],
        [
         "0d3c568ff6944b11c241b04737d140b1e6962491dfbd157774ca709c051acfc5"
        ],
        [
         "18889919d4248ff4846801a65f3b7893da9621cd475fe9c1c91df8c0cfd336f4"
        ],
        [
         "159b209fd25dff55bfcf9ef91cb511b2cf45cb152afbfe7401286bb8ddc9c26f"
        ],
        [
         "4a968e91c3ec52c4b4f5ce46101760c9f07184a561b84c4cba6243434a4b5f57"
        ],
        [
         "d04ae2a3b9e2e686e11af2c6425cb8e8006acf7ded5b531914a22e8b1a09ee8f"
        ],
        [
         "259af6637d622a8fc6d896e17c83b83d59e1d809a509bef50b0241eb06a7b221"
        ],
        [
         "263b2b8177d69a09e14cfe49169ed02662f2e951e5fc6eb8f408e782cd9bf237"
        ],
        [
         "4ec317a8d203c448931585e76486d0618c4c082dc83ca9ffb5e3f7057d6933ee"
        ],
        [
         "0d7e498df54d38160b9a05329e82d1435237e75626886e7584e86c16b729d217"
        ],
        [
         "dc3d024374b1d2cb40bd3b3b1bb5d32465be30a49c8a2adc5f48420f851b5376"
        ],
        [
         "65470d4d756d84072792669c586a75473b906747a2dad6312917768c585aeda0"
        ],
        [
         "833ef5fdb767e5fdd58093ae9413d48551ad34780e38704109c536a952c6183f"
        ],
        [
         "25df9cff7c21666b9c89b379c56b9a6f1f4216fce33dc4c72c250f1ec4996f23"
        ],
        [
         "0bad6d6c073efa1779ad62a7508d47a44282405eab3eecbee289fe9195349a5d"
        ],
        [
         "88eeb7dfc5b755a95014220327e5c4238f2341aa004813d74e698a4c6aa92651"
        ],
        [
         "3277fcf7cd6953b58377e9e5fd3aa071068142f2e893c87918b2d90be4cc9f4a"
        ],
        [
         "fe518ce080b3f422f017e3ce7a2ac09b65e82846046a862691f0dcf0f0177a3d"
        ],
        [
         "e8c7db7c485241687359cea286549a356d5d3d000f45b18a5d6d50b93aec68cc"
        ],
        [
         "ad0e6b5f8b7ebab5a8eca4795c34b648ba328f4a47c8528499e85443a73676fb"
        ],
        [
         "94a3e06d032ec2d3d05926a3b59543d6801cad342fdb43ffec7cddd931cf6729"
        ],
        [
         "c2446627dda46e7b8604fe7ef6b0250161036b21ce8224462596a15bb525abaa"
        ],
        [
         "58a04b5b2b34d521556b37192681ece256460f8a3bdc85035dd501c51642d693"
        ],
        [
         "0a7474cf6c598c76d9f177cb5e37297fbe3f482e91501819061ab3a947693a60"
        ],
        [
         "48c34087f62b82233e422f5fddc806f8ea9168e39d282dd5bb0afdad90767cfe"
        ],
        [
         "6e5f652c35fbe19882e6c1f276be5f8f11c5ce70caadc31e805ab4e0200477d0"
        ],
        [
         "8d74eb2bef554482d0b3cda31755229e5a59f8f16cf670a38d7df14d8702a91f"
        ],
        [
         "7f29b078164830b912924f3ae8a2341994f3a222c7144742d0c66e9d5fe7d904"
        ],
        [
         "6684e12b1944e8e1271f0bc2354a468d22608c047ae96a6c9a166a920a03df36"
        ],
        [
         "8a140edf4e4e5016c6056898c2f1a2b21484bf784004a5f2acbc17d8302073e7"
        ],
        [
         "79c8b4cbb42f8742c4bc134225447162f7830a60bc07744fcf08c28d61a49ee7"
        ],
        [
         "26e63ed8b898cd9e08f30412a9b81114045b764b44af29eceb0910c635307835"
        ],
        [
         "be382a7acb250f6e8363defef948477fde6c378ae20f17bc9191e303bb0da3be"
        ],
        [
         "bab3d6b76fc017c56ffd10197c1a478767ce3c4ee09292cd8e2eea278d770018"
        ],
        [
         "6333fe24533c8165f0991559ad9d5a44ed716486ad9a8f2133b6580072037525"
        ],
        [
         "b26f914e7aa43a4909cbf7e0ca91105e494ab61c6d84381255b2144b6703cf73"
        ],
        [
         "b4474d578769aaa2c7d003cc18a07d713fdb08610260eb1d3e3c9bab73aebbd4"
        ]
       ],
       "datasetInfos": [],
       "dbfsResultPath": null,
       "isJsonSchema": true,
       "metadata": {},
       "overflow": false,
       "plotOptions": {
        "customPlotOptions": {},
        "displayType": "table",
        "pivotAggregation": null,
        "pivotColumns": null,
        "xColumns": null,
        "yColumns": null
       },
       "removedWidgets": [],
       "schema": [
        {
         "metadata": "{}",
         "name": "member_id",
         "type": "\"string\""
        }
       ],
       "type": "table"
      }
     },
     "output_type": "display_data"
    }
   ],
   "source": [
    "loans_df_records_enq.display()"
   ]
  },
  {
   "cell_type": "code",
   "execution_count": 0,
   "metadata": {
    "application/vnd.databricks.v1+cell": {
     "cellMetadata": {
      "byteLimit": 2048000,
      "rowLimit": 10000
     },
     "inputWidgets": {},
     "nuid": "3de59e7b-e62c-4de0-b04b-fe17fb0adda1",
     "showTitle": false,
     "tableResultSettingsMap": {},
     "title": ""
    }
   },
   "outputs": [],
   "source": [
    "loans_delinq_def.write\\\n",
    "    .option(\"header\",\"true\")\\\n",
    "    .format(\"parquet\")\\\n",
    "    .mode(\"overwrite\")\\\n",
    "    .option(\"path\",\"dbfs:/user/lendingclubproject/newcleaned/loans_defaulters_delinq_parquet\")\\\n",
    "    .save()"
   ]
  },
  {
   "cell_type": "code",
   "execution_count": 0,
   "metadata": {
    "application/vnd.databricks.v1+cell": {
     "cellMetadata": {
      "byteLimit": 2048000,
      "rowLimit": 10000
     },
     "inputWidgets": {},
     "nuid": "7809a230-01f9-47a1-9b53-e3b9e076972b",
     "showTitle": false,
     "tableResultSettingsMap": {},
     "title": ""
    }
   },
   "outputs": [],
   "source": [
    "loans_delinq_def.write\\\n",
    "    .option(\"header\",\"true\")\\\n",
    "    .format(\"csv\")\\\n",
    "    .mode(\"overwrite\")\\\n",
    "    .option(\"path\",\"dbfs:/user/lendingclubproject/newcleaned/loans_defaulters_delinq_csv\")\\\n",
    "    .save()"
   ]
  },
  {
   "cell_type": "code",
   "execution_count": 0,
   "metadata": {
    "application/vnd.databricks.v1+cell": {
     "cellMetadata": {
      "byteLimit": 2048000,
      "rowLimit": 10000
     },
     "inputWidgets": {},
     "nuid": "a8ee33f5-ed54-4a49-8a03-25a4f3aad136",
     "showTitle": false,
     "tableResultSettingsMap": {},
     "title": ""
    }
   },
   "outputs": [],
   "source": [
    "loans_df_records_enq.write\\\n",
    "    .option(\"header\",\"true\")\\\n",
    "    .format(\"parquet\")\\\n",
    "    .mode(\"overwrite\")\\\n",
    "    .option(\"path\",\"dbfs:/user/lendingclubproject/cleaned/loans_defaulters_records_enq_parquet\")\\\n",
    "    .save()"
   ]
  },
  {
   "cell_type": "code",
   "execution_count": 0,
   "metadata": {
    "application/vnd.databricks.v1+cell": {
     "cellMetadata": {
      "byteLimit": 2048000,
      "rowLimit": 10000
     },
     "inputWidgets": {},
     "nuid": "13ce68b1-2800-4782-9706-bfc631fbfb7a",
     "showTitle": false,
     "tableResultSettingsMap": {},
     "title": ""
    }
   },
   "outputs": [],
   "source": [
    "loans_df_records_enq.write\\\n",
    "    .option(\"header\",\"true\")\\\n",
    "    .format(\"csv\")\\\n",
    "    .mode(\"overwrite\")\\\n",
    "    .option(\"path\",\"dbfs:/user/lendingclubproject/cleaned/loans_defaulters_records_enq_csv\")\\\n",
    "    .save()"
   ]
  },
  {
   "cell_type": "code",
   "execution_count": 0,
   "metadata": {
    "application/vnd.databricks.v1+cell": {
     "cellMetadata": {
      "byteLimit": 2048000,
      "rowLimit": 10000
     },
     "inputWidgets": {},
     "nuid": "9c86798a-10e9-401a-bced-47586a51bf35",
     "showTitle": false,
     "tableResultSettingsMap": {},
     "title": ""
    }
   },
   "outputs": [],
   "source": [
    "from pyspark.sql.functions import col\n",
    "loans_def_processed_df=loan_defaulter_raw.withColumn(\"delinq_2yrs\",col(\"delinq_2yrs\").cast(\"integer\")).fillna(0,subset=[\"delinq_2yrs\"])"
   ]
  },
  {
   "cell_type": "code",
   "execution_count": 0,
   "metadata": {
    "application/vnd.databricks.v1+cell": {
     "cellMetadata": {
      "byteLimit": 2048000,
      "rowLimit": 10000
     },
     "inputWidgets": {},
     "nuid": "7260fe13-8246-46b2-a544-c229cee94568",
     "showTitle": false,
     "tableResultSettingsMap": {},
     "title": ""
    }
   },
   "outputs": [],
   "source": [
    "loans_def_pub_rec_df=loans_def_processed_df.withColumn(\"pub_rec\",col(\"pub_rec\").cast(\"integer\")).fillna(0,subset=[\"pub_rec\"])"
   ]
  },
  {
   "cell_type": "code",
   "execution_count": 0,
   "metadata": {
    "application/vnd.databricks.v1+cell": {
     "cellMetadata": {
      "byteLimit": 2048000,
      "rowLimit": 10000
     },
     "inputWidgets": {},
     "nuid": "98d19b2d-8db7-4fdd-a13b-b34c34dc3d3a",
     "showTitle": false,
     "tableResultSettingsMap": {},
     "title": ""
    }
   },
   "outputs": [],
   "source": [
    "loans_def_pub_rec_bankruptcies_df=loans_def_pub_rec_df.withColumn(\"pub_rec_bankruptcies\",col(\"pub_rec_bankruptcies\").cast(\"integer\")).fillna(0,subset=[\"pub_rec_bankruptcies\"])"
   ]
  },
  {
   "cell_type": "code",
   "execution_count": 0,
   "metadata": {
    "application/vnd.databricks.v1+cell": {
     "cellMetadata": {
      "byteLimit": 2048000,
      "rowLimit": 10000
     },
     "inputWidgets": {},
     "nuid": "02fd922a-c021-4c64-954d-55d9521b234d",
     "showTitle": false,
     "tableResultSettingsMap": {},
     "title": ""
    }
   },
   "outputs": [],
   "source": [
    "loans_def_inq_last_6mths_df=loans_def_pub_rec_bankruptcies_df.withColumn(\"inq_last_6mths\",col(\"inq_last_6mths\").cast(\"integer\")).fillna(0,subset=[\"inq_last_6mths\"])"
   ]
  },
  {
   "cell_type": "code",
   "execution_count": 0,
   "metadata": {
    "application/vnd.databricks.v1+cell": {
     "cellMetadata": {
      "byteLimit": 2048000,
      "rowLimit": 10000
     },
     "inputWidgets": {},
     "nuid": "c76e35ab-db58-459b-a1db-5ba1d72cb2d5",
     "showTitle": false,
     "tableResultSettingsMap": {},
     "title": ""
    }
   },
   "outputs": [],
   "source": [
    "loans_def_inq_last_6mths_df.createOrReplaceTempView(\"loan_defaulters\")"
   ]
  },
  {
   "cell_type": "code",
   "execution_count": 0,
   "metadata": {
    "application/vnd.databricks.v1+cell": {
     "cellMetadata": {
      "byteLimit": 2048000,
      "rowLimit": 10000
     },
     "inputWidgets": {},
     "nuid": "fb477ca4-4185-4ef8-831f-b1917d0712a2",
     "showTitle": false,
     "tableResultSettingsMap": {},
     "title": ""
    }
   },
   "outputs": [],
   "source": [
    "loans_df_detail_records_enq=spark.sql(\"select member_id,pub_rec,pub_rec_bankruptcies,inq_last_6mths from loan_defaulters\")"
   ]
  },
  {
   "cell_type": "code",
   "execution_count": 0,
   "metadata": {
    "application/vnd.databricks.v1+cell": {
     "cellMetadata": {
      "byteLimit": 2048000,
      "rowLimit": 10000
     },
     "inputWidgets": {},
     "nuid": "4a5dc8e8-0eb8-4eee-9dc8-d0190c4688ed",
     "showTitle": false,
     "tableResultSettingsMap": {},
     "title": ""
    }
   },
   "outputs": [],
   "source": [
    "loans_df_detail_records_enq.write\\\n",
    "    .option(\"header\",\"true\")\\\n",
    "    .format(\"parquet\")\\\n",
    "    .mode(\"overwrite\")\\\n",
    "    .option(\"path\",\"dbfs:/user/lendingclubproject/newcleaned/loans_df_detail_records_enq_parquet\")\\\n",
    "    .save()"
   ]
  },
  {
   "cell_type": "code",
   "execution_count": 0,
   "metadata": {
    "application/vnd.databricks.v1+cell": {
     "cellMetadata": {
      "byteLimit": 2048000,
      "rowLimit": 10000
     },
     "inputWidgets": {},
     "nuid": "7977d94f-b3ed-49ec-b183-3cb317a7ce08",
     "showTitle": false,
     "tableResultSettingsMap": {},
     "title": ""
    }
   },
   "outputs": [],
   "source": [
    "loans_df_detail_records_enq.write\\\n",
    "    .option(\"header\",\"true\")\\\n",
    "    .format(\"csv\")\\\n",
    "    .mode(\"overwrite\")\\\n",
    "    .option(\"path\",\"dbfs:/user/lendingclubproject/newcleaned/loans_df_detail_records_enq_csv\")\\\n",
    "    .save()"
   ]
  },
  {
   "cell_type": "code",
   "execution_count": 0,
   "metadata": {
    "application/vnd.databricks.v1+cell": {
     "cellMetadata": {
      "byteLimit": 2048000,
      "rowLimit": 10000
     },
     "inputWidgets": {},
     "nuid": "7a25340f-a486-4b25-b3c5-89e993d4d796",
     "showTitle": false,
     "tableResultSettingsMap": {},
     "title": ""
    }
   },
   "outputs": [],
   "source": [
    "df=spark.read\\\n",
    "    .format(\"csv\")\\\n",
    "    .option(\"header\",\"true\")\\\n",
    "    .option(\"inferSchema\",\"true\")\\\n",
    "    .load(\"dbfs:/user/lendingclubproject/newcleaned/loans_defaulters_delinq_csv\")"
   ]
  },
  {
   "cell_type": "code",
   "execution_count": 0,
   "metadata": {
    "application/vnd.databricks.v1+cell": {
     "cellMetadata": {
      "byteLimit": 2048000,
      "rowLimit": 10000
     },
     "inputWidgets": {},
     "nuid": "1cae9a46-6f1f-4f2f-8e39-b097fa82ce2c",
     "showTitle": false,
     "tableResultSettingsMap": {},
     "title": ""
    }
   },
   "outputs": [
    {
     "output_type": "display_data",
     "data": {
      "text/html": [
       "<style scoped>\n",
       "  .table-result-container {\n",
       "    max-height: 300px;\n",
       "    overflow: auto;\n",
       "  }\n",
       "  table, th, td {\n",
       "    border: 1px solid black;\n",
       "    border-collapse: collapse;\n",
       "  }\n",
       "  th, td {\n",
       "    padding: 5px;\n",
       "  }\n",
       "  th {\n",
       "    text-align: left;\n",
       "  }\n",
       "</style><div class='table-result-container'><table class='table-result'><thead style='background-color: white'><tr><th>member_id</th><th>delinq_2yrs</th><th>delinq_amnt</th><th>mths_since_last_delinq</th></tr></thead><tbody><tr><td>6d5091b3fcaaeb4eac37445042b6b79e8b21f16943b9c32c4f5dd74dcb0f2210</td><td>0</td><td>0.0</td><td>30</td></tr><tr><td>b5e7938b0a2da4ceaa75ea2e3c111d1e33ca0f944f954b6d65671ef395d21713</td><td>1</td><td>0.0</td><td>6</td></tr><tr><td>f74e401c1ab0adf788a7279dd70a27459fcc47733d35eed71149ff371d2a7283</td><td>1</td><td>0.0</td><td>12</td></tr><tr><td>538b4653da3b1e8142b50baacf97a57b721eb6ec565f5fb63a1b71d191e9e934</td><td>0</td><td>0.0</td><td>49</td></tr><tr><td>b24d55f21390533c512f78f822153dc247e984dcd0cfe031c341ccef1c689817</td><td>1</td><td>0.0</td><td>3</td></tr><tr><td>cb0f1777593e77909d0d359a6d9e633f28568500e17806f815395c92f0cd375d</td><td>0</td><td>0.0</td><td>75</td></tr><tr><td>a962f4d59caec5fa1d51d5ad6ccf761573b476dbc25295e9645a491fa2bc6997</td><td>0</td><td>0.0</td><td>54</td></tr><tr><td>23857480ccf555ce4c5b7db19337de8cf8dd9eace1276036eb8f233a2c08cc6b</td><td>0</td><td>0.0</td><td>42</td></tr><tr><td>f2c4010f700d8c9c4433561b8fc9211a7bf6eefbabaee284c7cad51d64831e30</td><td>0</td><td>0.0</td><td>29</td></tr><tr><td>0d3c568ff6944b11c241b04737d140b1e6962491dfbd157774ca709c051acfc5</td><td>0</td><td>0.0</td><td>33</td></tr><tr><td>18889919d4248ff4846801a65f3b7893da9621cd475fe9c1c91df8c0cfd336f4</td><td>1</td><td>0.0</td><td>15</td></tr><tr><td>49c691121315ceeacef440bb86fbf9582132f5c55ad98b4a29285d4f7468b852</td><td>2</td><td>0.0</td><td>18</td></tr><tr><td>d04ae2a3b9e2e686e11af2c6425cb8e8006acf7ded5b531914a22e8b1a09ee8f</td><td>0</td><td>0.0</td><td>47</td></tr><tr><td>259af6637d622a8fc6d896e17c83b83d59e1d809a509bef50b0241eb06a7b221</td><td>0</td><td>0.0</td><td>33</td></tr><tr><td>263b2b8177d69a09e14cfe49169ed02662f2e951e5fc6eb8f408e782cd9bf237</td><td>0</td><td>0.0</td><td>33</td></tr><tr><td>0d7e498df54d38160b9a05329e82d1435237e75626886e7584e86c16b729d217</td><td>0</td><td>0.0</td><td>35</td></tr><tr><td>dc3d024374b1d2cb40bd3b3b1bb5d32465be30a49c8a2adc5f48420f851b5376</td><td>1</td><td>0.0</td><td>23</td></tr><tr><td>c968abcd0831fe0a992af5c3023adfddf96f7f09c3d608065b5721a54e1cee31</td><td>0</td><td>0.0</td><td>38</td></tr><tr><td>25df9cff7c21666b9c89b379c56b9a6f1f4216fce33dc4c72c250f1ec4996f23</td><td>2</td><td>0.0</td><td>8</td></tr><tr><td>5840f34a041b29a6b39cc57b698cb2859263f4cafe53e3c51e4212a988cb80d4</td><td>0</td><td>0.0</td><td>70</td></tr><tr><td>88eeb7dfc5b755a95014220327e5c4238f2341aa004813d74e698a4c6aa92651</td><td>0</td><td>0.0</td><td>59</td></tr><tr><td>3277fcf7cd6953b58377e9e5fd3aa071068142f2e893c87918b2d90be4cc9f4a</td><td>0</td><td>0.0</td><td>45</td></tr><tr><td>fe518ce080b3f422f017e3ce7a2ac09b65e82846046a862691f0dcf0f0177a3d</td><td>3</td><td>0.0</td><td>6</td></tr><tr><td>e8c7db7c485241687359cea286549a356d5d3d000f45b18a5d6d50b93aec68cc</td><td>0</td><td>0.0</td><td>52</td></tr><tr><td>3ea4951dbbccf87fcd39d9750d7229c18cdaf9d1b0029628173beb668515beba</td><td>1</td><td>0.0</td><td>23</td></tr><tr><td>43e2d5f152452665fdb69bafac4fc045fb5c8ae2e65296a89691917b3bb1b840</td><td>0</td><td>0.0</td><td>66</td></tr><tr><td>ad0e6b5f8b7ebab5a8eca4795c34b648ba328f4a47c8528499e85443a73676fb</td><td>0</td><td>0.0</td><td>50</td></tr><tr><td>21b54af7ef90595ddc945abdb409045a35747ed0c052bc8eac28b291547b35f5</td><td>0</td><td>0.0</td><td>46</td></tr><tr><td>cf5169a0db8c481d075339abcc376b3aa52a3736d940d9fcf20db479153088c1</td><td>0</td><td>0.0</td><td>70</td></tr><tr><td>865db309f3238da40f31ce33da13c58a2b21d454fc147e6401e04bd85fd43447</td><td>0</td><td>0.0</td><td>39</td></tr><tr><td>820b4484677b444ea249e637985b1c63ea100609912d8c0cf600f946f5da31ae</td><td>0</td><td>0.0</td><td>33</td></tr><tr><td>58a04b5b2b34d521556b37192681ece256460f8a3bdc85035dd501c51642d693</td><td>0</td><td>0.0</td><td>63</td></tr><tr><td>6e5f652c35fbe19882e6c1f276be5f8f11c5ce70caadc31e805ab4e0200477d0</td><td>0</td><td>0.0</td><td>61</td></tr><tr><td>0df70b65c4566dc1d90d3110d09b6aba5440557f593218ef32c3d65a8b09ceb4</td><td>0</td><td>0.0</td><td>39</td></tr><tr><td>ef2f517b2f2bf21f7217dbbbb99a21b690d6cf1771089bc4b8959729d1180263</td><td>0</td><td>0.0</td><td>47</td></tr><tr><td>4de9e935b255b0c2c44997724912d8cc89986a589cf62e9c1aa3e1594562ffb0</td><td>0</td><td>0.0</td><td>47</td></tr><tr><td>8a140edf4e4e5016c6056898c2f1a2b21484bf784004a5f2acbc17d8302073e7</td><td>0</td><td>0.0</td><td>78</td></tr><tr><td>79c8b4cbb42f8742c4bc134225447162f7830a60bc07744fcf08c28d61a49ee7</td><td>0</td><td>0.0</td><td>45</td></tr><tr><td>1534e58e63afff9a6afa2f416e749824aee9d4279cf0e96716418aa058770640</td><td>0</td><td>0.0</td><td>74</td></tr><tr><td>bab3d6b76fc017c56ffd10197c1a478767ce3c4ee09292cd8e2eea278d770018</td><td>0</td><td>0.0</td><td>35</td></tr><tr><td>c2a610feca95e9639be8ecb9dc30e5733eb0a0f64e6134c035c4f748569eeafd</td><td>1</td><td>0.0</td><td>19</td></tr><tr><td>a496c50b6e903cdcefd85f74c3d8b881d6069d6154021f9a5ae047bcc5844af5</td><td>0</td><td>0.0</td><td>34</td></tr><tr><td>9b023778aac75d135a218074377a89e60ca87c4f9a99e46a5d5e40b4c118d69a</td><td>3</td><td>0.0</td><td>9</td></tr><tr><td>6333fe24533c8165f0991559ad9d5a44ed716486ad9a8f2133b6580072037525</td><td>0</td><td>0.0</td><td>46</td></tr><tr><td>b4474d578769aaa2c7d003cc18a07d713fdb08610260eb1d3e3c9bab73aebbd4</td><td>1</td><td>0.0</td><td>23</td></tr></tbody></table></div>"
      ]
     },
     "metadata": {
      "application/vnd.databricks.v1+output": {
       "addedWidgets": {},
       "aggData": [],
       "aggError": "",
       "aggOverflow": false,
       "aggSchema": [],
       "aggSeriesLimitReached": false,
       "aggType": "",
       "arguments": {},
       "columnCustomDisplayInfos": {},
       "data": [
        [
         "6d5091b3fcaaeb4eac37445042b6b79e8b21f16943b9c32c4f5dd74dcb0f2210",
         0,
         0.0,
         30
        ],
        [
         "b5e7938b0a2da4ceaa75ea2e3c111d1e33ca0f944f954b6d65671ef395d21713",
         1,
         0.0,
         6
        ],
        [
         "f74e401c1ab0adf788a7279dd70a27459fcc47733d35eed71149ff371d2a7283",
         1,
         0.0,
         12
        ],
        [
         "538b4653da3b1e8142b50baacf97a57b721eb6ec565f5fb63a1b71d191e9e934",
         0,
         0.0,
         49
        ],
        [
         "b24d55f21390533c512f78f822153dc247e984dcd0cfe031c341ccef1c689817",
         1,
         0.0,
         3
        ],
        [
         "cb0f1777593e77909d0d359a6d9e633f28568500e17806f815395c92f0cd375d",
         0,
         0.0,
         75
        ],
        [
         "a962f4d59caec5fa1d51d5ad6ccf761573b476dbc25295e9645a491fa2bc6997",
         0,
         0.0,
         54
        ],
        [
         "23857480ccf555ce4c5b7db19337de8cf8dd9eace1276036eb8f233a2c08cc6b",
         0,
         0.0,
         42
        ],
        [
         "f2c4010f700d8c9c4433561b8fc9211a7bf6eefbabaee284c7cad51d64831e30",
         0,
         0.0,
         29
        ],
        [
         "0d3c568ff6944b11c241b04737d140b1e6962491dfbd157774ca709c051acfc5",
         0,
         0.0,
         33
        ],
        [
         "18889919d4248ff4846801a65f3b7893da9621cd475fe9c1c91df8c0cfd336f4",
         1,
         0.0,
         15
        ],
        [
         "49c691121315ceeacef440bb86fbf9582132f5c55ad98b4a29285d4f7468b852",
         2,
         0.0,
         18
        ],
        [
         "d04ae2a3b9e2e686e11af2c6425cb8e8006acf7ded5b531914a22e8b1a09ee8f",
         0,
         0.0,
         47
        ],
        [
         "259af6637d622a8fc6d896e17c83b83d59e1d809a509bef50b0241eb06a7b221",
         0,
         0.0,
         33
        ],
        [
         "263b2b8177d69a09e14cfe49169ed02662f2e951e5fc6eb8f408e782cd9bf237",
         0,
         0.0,
         33
        ],
        [
         "0d7e498df54d38160b9a05329e82d1435237e75626886e7584e86c16b729d217",
         0,
         0.0,
         35
        ],
        [
         "dc3d024374b1d2cb40bd3b3b1bb5d32465be30a49c8a2adc5f48420f851b5376",
         1,
         0.0,
         23
        ],
        [
         "c968abcd0831fe0a992af5c3023adfddf96f7f09c3d608065b5721a54e1cee31",
         0,
         0.0,
         38
        ],
        [
         "25df9cff7c21666b9c89b379c56b9a6f1f4216fce33dc4c72c250f1ec4996f23",
         2,
         0.0,
         8
        ],
        [
         "5840f34a041b29a6b39cc57b698cb2859263f4cafe53e3c51e4212a988cb80d4",
         0,
         0.0,
         70
        ],
        [
         "88eeb7dfc5b755a95014220327e5c4238f2341aa004813d74e698a4c6aa92651",
         0,
         0.0,
         59
        ],
        [
         "3277fcf7cd6953b58377e9e5fd3aa071068142f2e893c87918b2d90be4cc9f4a",
         0,
         0.0,
         45
        ],
        [
         "fe518ce080b3f422f017e3ce7a2ac09b65e82846046a862691f0dcf0f0177a3d",
         3,
         0.0,
         6
        ],
        [
         "e8c7db7c485241687359cea286549a356d5d3d000f45b18a5d6d50b93aec68cc",
         0,
         0.0,
         52
        ],
        [
         "3ea4951dbbccf87fcd39d9750d7229c18cdaf9d1b0029628173beb668515beba",
         1,
         0.0,
         23
        ],
        [
         "43e2d5f152452665fdb69bafac4fc045fb5c8ae2e65296a89691917b3bb1b840",
         0,
         0.0,
         66
        ],
        [
         "ad0e6b5f8b7ebab5a8eca4795c34b648ba328f4a47c8528499e85443a73676fb",
         0,
         0.0,
         50
        ],
        [
         "21b54af7ef90595ddc945abdb409045a35747ed0c052bc8eac28b291547b35f5",
         0,
         0.0,
         46
        ],
        [
         "cf5169a0db8c481d075339abcc376b3aa52a3736d940d9fcf20db479153088c1",
         0,
         0.0,
         70
        ],
        [
         "865db309f3238da40f31ce33da13c58a2b21d454fc147e6401e04bd85fd43447",
         0,
         0.0,
         39
        ],
        [
         "820b4484677b444ea249e637985b1c63ea100609912d8c0cf600f946f5da31ae",
         0,
         0.0,
         33
        ],
        [
         "58a04b5b2b34d521556b37192681ece256460f8a3bdc85035dd501c51642d693",
         0,
         0.0,
         63
        ],
        [
         "6e5f652c35fbe19882e6c1f276be5f8f11c5ce70caadc31e805ab4e0200477d0",
         0,
         0.0,
         61
        ],
        [
         "0df70b65c4566dc1d90d3110d09b6aba5440557f593218ef32c3d65a8b09ceb4",
         0,
         0.0,
         39
        ],
        [
         "ef2f517b2f2bf21f7217dbbbb99a21b690d6cf1771089bc4b8959729d1180263",
         0,
         0.0,
         47
        ],
        [
         "4de9e935b255b0c2c44997724912d8cc89986a589cf62e9c1aa3e1594562ffb0",
         0,
         0.0,
         47
        ],
        [
         "8a140edf4e4e5016c6056898c2f1a2b21484bf784004a5f2acbc17d8302073e7",
         0,
         0.0,
         78
        ],
        [
         "79c8b4cbb42f8742c4bc134225447162f7830a60bc07744fcf08c28d61a49ee7",
         0,
         0.0,
         45
        ],
        [
         "1534e58e63afff9a6afa2f416e749824aee9d4279cf0e96716418aa058770640",
         0,
         0.0,
         74
        ],
        [
         "bab3d6b76fc017c56ffd10197c1a478767ce3c4ee09292cd8e2eea278d770018",
         0,
         0.0,
         35
        ],
        [
         "c2a610feca95e9639be8ecb9dc30e5733eb0a0f64e6134c035c4f748569eeafd",
         1,
         0.0,
         19
        ],
        [
         "a496c50b6e903cdcefd85f74c3d8b881d6069d6154021f9a5ae047bcc5844af5",
         0,
         0.0,
         34
        ],
        [
         "9b023778aac75d135a218074377a89e60ca87c4f9a99e46a5d5e40b4c118d69a",
         3,
         0.0,
         9
        ],
        [
         "6333fe24533c8165f0991559ad9d5a44ed716486ad9a8f2133b6580072037525",
         0,
         0.0,
         46
        ],
        [
         "b4474d578769aaa2c7d003cc18a07d713fdb08610260eb1d3e3c9bab73aebbd4",
         1,
         0.0,
         23
        ]
       ],
       "datasetInfos": [],
       "dbfsResultPath": null,
       "isJsonSchema": true,
       "metadata": {},
       "overflow": false,
       "plotOptions": {
        "customPlotOptions": {},
        "displayType": "table",
        "pivotAggregation": null,
        "pivotColumns": null,
        "xColumns": null,
        "yColumns": null
       },
       "removedWidgets": [],
       "schema": [
        {
         "metadata": "{}",
         "name": "member_id",
         "type": "\"string\""
        },
        {
         "metadata": "{}",
         "name": "delinq_2yrs",
         "type": "\"integer\""
        },
        {
         "metadata": "{}",
         "name": "delinq_amnt",
         "type": "\"double\""
        },
        {
         "metadata": "{}",
         "name": "mths_since_last_delinq",
         "type": "\"integer\""
        }
       ],
       "type": "table"
      }
     },
     "output_type": "display_data"
    }
   ],
   "source": [
    "df.display()"
   ]
  },
  {
   "cell_type": "code",
   "execution_count": 0,
   "metadata": {
    "application/vnd.databricks.v1+cell": {
     "cellMetadata": {
      "byteLimit": 2048000,
      "implicitDf": true,
      "rowLimit": 10000
     },
     "inputWidgets": {},
     "nuid": "8187da66-f62c-4985-b7b0-155bad6278ff",
     "showTitle": false,
     "tableResultSettingsMap": {},
     "title": ""
    }
   },
   "outputs": [
    {
     "output_type": "display_data",
     "data": {
      "text/html": [
       "<style scoped>\n",
       "  .table-result-container {\n",
       "    max-height: 300px;\n",
       "    overflow: auto;\n",
       "  }\n",
       "  table, th, td {\n",
       "    border: 1px solid black;\n",
       "    border-collapse: collapse;\n",
       "  }\n",
       "  th, td {\n",
       "    padding: 5px;\n",
       "  }\n",
       "  th {\n",
       "    text-align: left;\n",
       "  }\n",
       "</style><div class='table-result-container'><table class='table-result'><thead style='background-color: white'><tr></tr></thead><tbody></tbody></table></div>"
      ]
     },
     "metadata": {
      "application/vnd.databricks.v1+output": {
       "addedWidgets": {},
       "aggData": [],
       "aggError": "",
       "aggOverflow": false,
       "aggSchema": [],
       "aggSeriesLimitReached": false,
       "aggType": "",
       "arguments": {},
       "columnCustomDisplayInfos": {},
       "data": [],
       "datasetInfos": [],
       "dbfsResultPath": null,
       "isJsonSchema": true,
       "metadata": {},
       "overflow": false,
       "plotOptions": {
        "customPlotOptions": {},
        "displayType": "table",
        "pivotAggregation": null,
        "pivotColumns": null,
        "xColumns": null,
        "yColumns": null
       },
       "removedWidgets": [],
       "schema": [],
       "type": "table"
      }
     },
     "output_type": "display_data"
    }
   ],
   "source": [
    "%sql\n",
    "create table pranithdb_lending_club.loans_defaulters_delinq(member_id string,delinq_2yrs integer,delinq_amnt float,mths_since_last_delinq integer)\n",
    "using parquet\n",
    "location 'dbfs:/user/lendingclubproject/newcleaned/loans_defaulters_delinq_parquet'"
   ]
  },
  {
   "cell_type": "code",
   "execution_count": 0,
   "metadata": {
    "application/vnd.databricks.v1+cell": {
     "cellMetadata": {
      "byteLimit": 2048000,
      "implicitDf": true,
      "rowLimit": 10000
     },
     "inputWidgets": {},
     "nuid": "e8bd1fff-cbe9-4d91-9cca-83cb476488ca",
     "showTitle": false,
     "tableResultSettingsMap": {},
     "title": ""
    }
   },
   "outputs": [
    {
     "output_type": "display_data",
     "data": {
      "text/html": [
       "<style scoped>\n",
       "  .table-result-container {\n",
       "    max-height: 300px;\n",
       "    overflow: auto;\n",
       "  }\n",
       "  table, th, td {\n",
       "    border: 1px solid black;\n",
       "    border-collapse: collapse;\n",
       "  }\n",
       "  th, td {\n",
       "    padding: 5px;\n",
       "  }\n",
       "  th {\n",
       "    text-align: left;\n",
       "  }\n",
       "</style><div class='table-result-container'><table class='table-result'><thead style='background-color: white'><tr><th>member_id</th><th>delinq_2yrs</th><th>delinq_amnt</th><th>mths_since_last_delinq</th></tr></thead><tbody><tr><td>6d5091b3fcaaeb4eac37445042b6b79e8b21f16943b9c32c4f5dd74dcb0f2210</td><td>0</td><td>0.0</td><td>30</td></tr><tr><td>b5e7938b0a2da4ceaa75ea2e3c111d1e33ca0f944f954b6d65671ef395d21713</td><td>1</td><td>0.0</td><td>6</td></tr><tr><td>f74e401c1ab0adf788a7279dd70a27459fcc47733d35eed71149ff371d2a7283</td><td>1</td><td>0.0</td><td>12</td></tr><tr><td>538b4653da3b1e8142b50baacf97a57b721eb6ec565f5fb63a1b71d191e9e934</td><td>0</td><td>0.0</td><td>49</td></tr><tr><td>b24d55f21390533c512f78f822153dc247e984dcd0cfe031c341ccef1c689817</td><td>1</td><td>0.0</td><td>3</td></tr></tbody></table></div>"
      ]
     },
     "metadata": {
      "application/vnd.databricks.v1+output": {
       "addedWidgets": {},
       "aggData": [],
       "aggError": "",
       "aggOverflow": false,
       "aggSchema": [],
       "aggSeriesLimitReached": false,
       "aggType": "",
       "arguments": {},
       "columnCustomDisplayInfos": {},
       "data": [
        [
         "6d5091b3fcaaeb4eac37445042b6b79e8b21f16943b9c32c4f5dd74dcb0f2210",
         0,
         0.0,
         30
        ],
        [
         "b5e7938b0a2da4ceaa75ea2e3c111d1e33ca0f944f954b6d65671ef395d21713",
         1,
         0.0,
         6
        ],
        [
         "f74e401c1ab0adf788a7279dd70a27459fcc47733d35eed71149ff371d2a7283",
         1,
         0.0,
         12
        ],
        [
         "538b4653da3b1e8142b50baacf97a57b721eb6ec565f5fb63a1b71d191e9e934",
         0,
         0.0,
         49
        ],
        [
         "b24d55f21390533c512f78f822153dc247e984dcd0cfe031c341ccef1c689817",
         1,
         0.0,
         3
        ]
       ],
       "datasetInfos": [],
       "dbfsResultPath": null,
       "isJsonSchema": true,
       "metadata": {},
       "overflow": false,
       "plotOptions": {
        "customPlotOptions": {},
        "displayType": "table",
        "pivotAggregation": null,
        "pivotColumns": null,
        "xColumns": null,
        "yColumns": null
       },
       "removedWidgets": [],
       "schema": [
        {
         "metadata": "{}",
         "name": "member_id",
         "type": "\"string\""
        },
        {
         "metadata": "{}",
         "name": "delinq_2yrs",
         "type": "\"integer\""
        },
        {
         "metadata": "{}",
         "name": "delinq_amnt",
         "type": "\"float\""
        },
        {
         "metadata": "{}",
         "name": "mths_since_last_delinq",
         "type": "\"integer\""
        }
       ],
       "type": "table"
      }
     },
     "output_type": "display_data"
    }
   ],
   "source": [
    "%sql\n",
    "select * from  pranithdb_lending_club.loans_defaulters_delinq limit 5"
   ]
  },
  {
   "cell_type": "code",
   "execution_count": 0,
   "metadata": {
    "application/vnd.databricks.v1+cell": {
     "cellMetadata": {
      "byteLimit": 2048000,
      "implicitDf": true,
      "rowLimit": 10000
     },
     "inputWidgets": {},
     "nuid": "eea16557-618b-48ea-af99-01db38121cdc",
     "showTitle": false,
     "tableResultSettingsMap": {},
     "title": ""
    }
   },
   "outputs": [
    {
     "output_type": "display_data",
     "data": {
      "text/html": [
       "<style scoped>\n",
       "  .table-result-container {\n",
       "    max-height: 300px;\n",
       "    overflow: auto;\n",
       "  }\n",
       "  table, th, td {\n",
       "    border: 1px solid black;\n",
       "    border-collapse: collapse;\n",
       "  }\n",
       "  th, td {\n",
       "    padding: 5px;\n",
       "  }\n",
       "  th {\n",
       "    text-align: left;\n",
       "  }\n",
       "</style><div class='table-result-container'><table class='table-result'><thead style='background-color: white'><tr></tr></thead><tbody></tbody></table></div>"
      ]
     },
     "metadata": {
      "application/vnd.databricks.v1+output": {
       "addedWidgets": {},
       "aggData": [],
       "aggError": "",
       "aggOverflow": false,
       "aggSchema": [],
       "aggSeriesLimitReached": false,
       "aggType": "",
       "arguments": {},
       "columnCustomDisplayInfos": {},
       "data": [],
       "datasetInfos": [],
       "dbfsResultPath": null,
       "isJsonSchema": true,
       "metadata": {},
       "overflow": false,
       "plotOptions": {
        "customPlotOptions": {},
        "displayType": "table",
        "pivotAggregation": null,
        "pivotColumns": null,
        "xColumns": null,
        "yColumns": null
       },
       "removedWidgets": [],
       "schema": [],
       "type": "table"
      }
     },
     "output_type": "display_data"
    }
   ],
   "source": [
    "%sql\n",
    "create table pranithdb_lending_club.loans_defaulters_detail_rec_enq(member_id string,pub_rec integer,pub_rec_bankruptcies integer,inq_last_6mths integer)\n",
    "using parquet\n",
    "location 'dbfs:/user/lendingclubproject/newcleaned/loans_df_detail_records_enq_parquet'"
   ]
  },
  {
   "cell_type": "code",
   "execution_count": 0,
   "metadata": {
    "application/vnd.databricks.v1+cell": {
     "cellMetadata": {
      "byteLimit": 2048000,
      "implicitDf": true,
      "rowLimit": 10000
     },
     "inputWidgets": {},
     "nuid": "8b1354df-ea71-4b14-be21-b7c1d5e4d883",
     "showTitle": false,
     "tableResultSettingsMap": {},
     "title": ""
    }
   },
   "outputs": [
    {
     "output_type": "display_data",
     "data": {
      "text/html": [
       "<style scoped>\n",
       "  .table-result-container {\n",
       "    max-height: 300px;\n",
       "    overflow: auto;\n",
       "  }\n",
       "  table, th, td {\n",
       "    border: 1px solid black;\n",
       "    border-collapse: collapse;\n",
       "  }\n",
       "  th, td {\n",
       "    padding: 5px;\n",
       "  }\n",
       "  th {\n",
       "    text-align: left;\n",
       "  }\n",
       "</style><div class='table-result-container'><table class='table-result'><thead style='background-color: white'><tr><th>member_id</th><th>pub_rec</th><th>pub_rec_bankruptcies</th><th>inq_last_6mths</th></tr></thead><tbody><tr><td>6d5091b3fcaaeb4eac37445042b6b79e8b21f16943b9c32c4f5dd74dcb0f2210</td><td>0</td><td>0</td><td>1</td></tr><tr><td>b5e7938b0a2da4ceaa75ea2e3c111d1e33ca0f944f954b6d65671ef395d21713</td><td>0</td><td>0</td><td>4</td></tr><tr><td>91060b858433e8a6107be9b76b324e304b5802631fc081b449188fe4b4e32205</td><td>0</td><td>0</td><td>0</td></tr><tr><td>cab1fa9f533688b0aab7c6be7b6256d15ad1dd5f3c4ca061a49cfeb26901977d</td><td>0</td><td>0</td><td>0</td></tr><tr><td>f74e401c1ab0adf788a7279dd70a27459fcc47733d35eed71149ff371d2a7283</td><td>0</td><td>0</td><td>3</td></tr></tbody></table></div>"
      ]
     },
     "metadata": {
      "application/vnd.databricks.v1+output": {
       "addedWidgets": {},
       "aggData": [],
       "aggError": "",
       "aggOverflow": false,
       "aggSchema": [],
       "aggSeriesLimitReached": false,
       "aggType": "",
       "arguments": {},
       "columnCustomDisplayInfos": {},
       "data": [
        [
         "6d5091b3fcaaeb4eac37445042b6b79e8b21f16943b9c32c4f5dd74dcb0f2210",
         0,
         0,
         1
        ],
        [
         "b5e7938b0a2da4ceaa75ea2e3c111d1e33ca0f944f954b6d65671ef395d21713",
         0,
         0,
         4
        ],
        [
         "91060b858433e8a6107be9b76b324e304b5802631fc081b449188fe4b4e32205",
         0,
         0,
         0
        ],
        [
         "cab1fa9f533688b0aab7c6be7b6256d15ad1dd5f3c4ca061a49cfeb26901977d",
         0,
         0,
         0
        ],
        [
         "f74e401c1ab0adf788a7279dd70a27459fcc47733d35eed71149ff371d2a7283",
         0,
         0,
         3
        ]
       ],
       "datasetInfos": [],
       "dbfsResultPath": null,
       "isJsonSchema": true,
       "metadata": {},
       "overflow": false,
       "plotOptions": {
        "customPlotOptions": {},
        "displayType": "table",
        "pivotAggregation": null,
        "pivotColumns": null,
        "xColumns": null,
        "yColumns": null
       },
       "removedWidgets": [],
       "schema": [
        {
         "metadata": "{}",
         "name": "member_id",
         "type": "\"string\""
        },
        {
         "metadata": "{}",
         "name": "pub_rec",
         "type": "\"integer\""
        },
        {
         "metadata": "{}",
         "name": "pub_rec_bankruptcies",
         "type": "\"integer\""
        },
        {
         "metadata": "{}",
         "name": "inq_last_6mths",
         "type": "\"integer\""
        }
       ],
       "type": "table"
      }
     },
     "output_type": "display_data"
    }
   ],
   "source": [
    "%sql\n",
    "select *from pranithdb_lending_club.loans_defaulters_detail_rec_enq limit 5"
   ]
  },
  {
   "cell_type": "code",
   "execution_count": 0,
   "metadata": {
    "application/vnd.databricks.v1+cell": {
     "cellMetadata": {},
     "inputWidgets": {},
     "nuid": "ce5d896a-3142-47ba-a4a0-19950bcb56a3",
     "showTitle": false,
     "tableResultSettingsMap": {},
     "title": ""
    }
   },
   "outputs": [],
   "source": []
  }
 ],
 "metadata": {
  "application/vnd.databricks.v1+notebook": {
   "computePreferences": null,
   "dashboards": [],
   "environmentMetadata": {
    "base_environment": "",
    "environment_version": "1"
   },
   "inputWidgetPreferences": null,
   "language": "python",
   "notebookMetadata": {
    "mostRecentlyExecutedCommandWithImplicitDF": {
     "commandId": 248539224659147,
     "dataframes": [
      "_sqldf"
     ]
    },
    "pythonIndentUnit": 4
   },
   "notebookName": "lending club-loan-defaulters-cleaning",
   "widgets": {}
  }
 },
 "nbformat": 4,
 "nbformat_minor": 0
}