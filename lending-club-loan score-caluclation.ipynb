{
 "cells": [
  {
   "cell_type": "markdown",
   "metadata": {
    "application/vnd.databricks.v1+cell": {
     "cellMetadata": {},
     "inputWidgets": {},
     "nuid": "4a3140e0-8aa0-4362-82ef-ba90a8041104",
     "showTitle": false,
     "tableResultSettingsMap": {},
     "title": ""
    }
   },
   "source": [
    "#Associating points to the grades in order to caluclate loan score"
   ]
  },
  {
   "cell_type": "code",
   "execution_count": 0,
   "metadata": {
    "application/vnd.databricks.v1+cell": {
     "cellMetadata": {
      "byteLimit": 2048000,
      "rowLimit": 10000
     },
     "inputWidgets": {},
     "nuid": "0594f1b8-aa9d-4378-84ee-5fcae185ed7d",
     "showTitle": false,
     "tableResultSettingsMap": {},
     "title": ""
    }
   },
   "outputs": [],
   "source": [
    "spark.conf.set(\"spark.sql.unacceptable_rated_pts\",0)\n",
    "spark.conf.set(\"spark.sql.very_bad_rated_pts\",100)\n",
    "spark.conf.set(\"spark.sql.bad_rated_pts\",250)\n",
    "spark.conf.set(\"spark.sql.good_rated_pts\",500)\n",
    "spark.conf.set(\"spark.sql.very_good_rated_pts\",650)\n",
    "spark.conf.set(\"spark.sql.excellent_rated_pts\",800)"
   ]
  },
  {
   "cell_type": "code",
   "execution_count": 0,
   "metadata": {
    "application/vnd.databricks.v1+cell": {
     "cellMetadata": {
      "byteLimit": 2048000,
      "rowLimit": 10000
     },
     "inputWidgets": {},
     "nuid": "f11cd695-933b-4459-8196-495a7792c901",
     "showTitle": false,
     "tableResultSettingsMap": {},
     "title": ""
    }
   },
   "outputs": [],
   "source": [
    "spark.conf.set(\"spark.sql.unacceptable_grade_pts\",750)\n",
    "spark.conf.set(\"spark.sql.very_bad_grade_pts\",1000)\n",
    "spark.conf.set(\"spark.sql.bad_grade_pts\",1500)\n",
    "spark.conf.set(\"spark.sql.good_grade_pts\",2000)\n",
    "spark.conf.set(\"spark.sql.very_good_grade_pts\",2500)\n"
   ]
  },
  {
   "cell_type": "code",
   "execution_count": 0,
   "metadata": {
    "application/vnd.databricks.v1+cell": {
     "cellMetadata": {
      "byteLimit": 2048000,
      "rowLimit": 10000
     },
     "inputWidgets": {},
     "nuid": "aa1f009c-5973-40a0-8734-7e71a24d9f1b",
     "showTitle": false,
     "tableResultSettingsMap": {},
     "title": ""
    }
   },
   "outputs": [],
   "source": [
    "bad_customer_data_final=spark.read\\\n",
    "    .format(\"csv\")\\\n",
    "    .option(\"header\",\"true\")\\\n",
    "    .option(\"inferSchema\",\"true\")\\\n",
    "    .load(\"dbfs:/user/lendingclubproject/newbaddata/bad_data_customers_data_final\")"
   ]
  },
  {
   "cell_type": "code",
   "execution_count": 0,
   "metadata": {
    "application/vnd.databricks.v1+cell": {
     "cellMetadata": {
      "byteLimit": 2048000,
      "rowLimit": 10000
     },
     "inputWidgets": {},
     "nuid": "89bfcf21-1372-4f99-88a1-1221916c6732",
     "showTitle": false,
     "tableResultSettingsMap": {},
     "title": ""
    }
   },
   "outputs": [],
   "source": [
    "bad_customer_data_final.createOrReplaceTempView(\"bad_data_customer\")"
   ]
  },
  {
   "cell_type": "code",
   "execution_count": 0,
   "metadata": {
    "application/vnd.databricks.v1+cell": {
     "cellMetadata": {
      "byteLimit": 2048000,
      "rowLimit": 10000
     },
     "inputWidgets": {},
     "nuid": "ca2ffb52-6e87-4598-b3cd-2b83441c7451",
     "showTitle": false,
     "tableResultSettingsMap": {},
     "title": ""
    }
   },
   "outputs": [],
   "source": [
    "#defining rating points\n",
    "very_bad_rated_pts = 1\n",
    "bad_rated_pts = 2\n",
    "good_rated_pts = 3\n",
    "very_good_rated_pts = 4\n",
    "unacceptable_rated_pts = 0\n",
    "\n",
    "# Step 2: Write your query with f-string substitution\n",
    "ph_df = spark.sql(f\"\"\"\n",
    "    SELECT c.member_id,\n",
    "        CASE \n",
    "            WHEN p.last_payment_amount < (c.monthly_installment * 0.5) THEN {very_bad_rated_pts}\n",
    "            WHEN p.last_payment_amount >= (c.monthly_installment * 0.5) AND p.last_payment_amount < c.monthly_installment THEN {bad_rated_pts}\n",
    "            WHEN p.last_payment_amount = c.monthly_installment THEN {good_rated_pts}\n",
    "            WHEN p.last_payment_amount > c.monthly_installment THEN {very_good_rated_pts}\n",
    "            ELSE {unacceptable_rated_pts}\n",
    "        END AS last_payment_pts\n",
    "    FROM pranithdb_lending_club.loans_repayment AS p\n",
    "    INNER JOIN pranithdb_lending_club.loans AS c ON c.loan_id = p.loan_id\n",
    "    WHERE member_id NOT IN (SELECT member_id FROM bad_data_customer)\n",
    "\"\"\")\n"
   ]
  },
  {
   "cell_type": "code",
   "execution_count": 0,
   "metadata": {
    "application/vnd.databricks.v1+cell": {
     "cellMetadata": {
      "byteLimit": 2048000,
      "rowLimit": 10000
     },
     "inputWidgets": {},
     "nuid": "9bf1780c-2dce-41f1-a12f-5a15c593edba",
     "showTitle": false,
     "tableResultSettingsMap": {},
     "title": ""
    }
   },
   "outputs": [],
   "source": [
    "ph_df.createOrReplaceTempView(\"ph_pts\") "
   ]
  },
  {
   "cell_type": "code",
   "execution_count": 0,
   "metadata": {
    "application/vnd.databricks.v1+cell": {
     "cellMetadata": {
      "byteLimit": 2048000,
      "implicitDf": true,
      "rowLimit": 10000
     },
     "inputWidgets": {},
     "nuid": "9089fc0a-0cda-4f6a-a39b-c0ce84b7121d",
     "showTitle": false,
     "tableResultSettingsMap": {},
     "title": ""
    }
   },
   "outputs": [
    {
     "output_type": "display_data",
     "data": {
      "text/html": [
       "<style scoped>\n",
       "  .table-result-container {\n",
       "    max-height: 300px;\n",
       "    overflow: auto;\n",
       "  }\n",
       "  table, th, td {\n",
       "    border: 1px solid black;\n",
       "    border-collapse: collapse;\n",
       "  }\n",
       "  th, td {\n",
       "    padding: 5px;\n",
       "  }\n",
       "  th {\n",
       "    text-align: left;\n",
       "  }\n",
       "</style><div class='table-result-container'><table class='table-result'><thead style='background-color: white'><tr><th>member_id</th><th>last_payment_pts</th></tr></thead><tbody><tr><td>6d5091b3fcaaeb4eac37445042b6b79e8b21f16943b9c32c4f5dd74dcb0f2210</td><td>2</td></tr><tr><td>b5e7938b0a2da4ceaa75ea2e3c111d1e33ca0f944f954b6d65671ef395d21713</td><td>4</td></tr><tr><td>91060b858433e8a6107be9b76b324e304b5802631fc081b449188fe4b4e32205</td><td>4</td></tr><tr><td>cab1fa9f533688b0aab7c6be7b6256d15ad1dd5f3c4ca061a49cfeb26901977d</td><td>3</td></tr><tr><td>f74e401c1ab0adf788a7279dd70a27459fcc47733d35eed71149ff371d2a7283</td><td>4</td></tr><tr><td>8aef4bb29d609d8d684fd709af965bd690fc9ef3a2691777f38e0c10d622fe97</td><td>4</td></tr><tr><td>538b4653da3b1e8142b50baacf97a57b721eb6ec565f5fb63a1b71d191e9e934</td><td>4</td></tr><tr><td>b24d55f21390533c512f78f822153dc247e984dcd0cfe031c341ccef1c689817</td><td>4</td></tr><tr><td>1035c5401b0ca76d02c334b813302a9b72825e70b1659e8bc8ce5eea6c5d1f52</td><td>4</td></tr><tr><td>cb0f1777593e77909d0d359a6d9e633f28568500e17806f815395c92f0cd375d</td><td>4</td></tr></tbody></table></div>"
      ]
     },
     "metadata": {
      "application/vnd.databricks.v1+output": {
       "addedWidgets": {},
       "aggData": [],
       "aggError": "",
       "aggOverflow": false,
       "aggSchema": [],
       "aggSeriesLimitReached": false,
       "aggType": "",
       "arguments": {},
       "columnCustomDisplayInfos": {},
       "data": [
        [
         "6d5091b3fcaaeb4eac37445042b6b79e8b21f16943b9c32c4f5dd74dcb0f2210",
         2
        ],
        [
         "b5e7938b0a2da4ceaa75ea2e3c111d1e33ca0f944f954b6d65671ef395d21713",
         4
        ],
        [
         "91060b858433e8a6107be9b76b324e304b5802631fc081b449188fe4b4e32205",
         4
        ],
        [
         "cab1fa9f533688b0aab7c6be7b6256d15ad1dd5f3c4ca061a49cfeb26901977d",
         3
        ],
        [
         "f74e401c1ab0adf788a7279dd70a27459fcc47733d35eed71149ff371d2a7283",
         4
        ],
        [
         "8aef4bb29d609d8d684fd709af965bd690fc9ef3a2691777f38e0c10d622fe97",
         4
        ],
        [
         "538b4653da3b1e8142b50baacf97a57b721eb6ec565f5fb63a1b71d191e9e934",
         4
        ],
        [
         "b24d55f21390533c512f78f822153dc247e984dcd0cfe031c341ccef1c689817",
         4
        ],
        [
         "1035c5401b0ca76d02c334b813302a9b72825e70b1659e8bc8ce5eea6c5d1f52",
         4
        ],
        [
         "cb0f1777593e77909d0d359a6d9e633f28568500e17806f815395c92f0cd375d",
         4
        ]
       ],
       "datasetInfos": [],
       "dbfsResultPath": null,
       "isJsonSchema": true,
       "metadata": {},
       "overflow": false,
       "plotOptions": {
        "customPlotOptions": {},
        "displayType": "table",
        "pivotAggregation": null,
        "pivotColumns": null,
        "xColumns": null,
        "yColumns": null
       },
       "removedWidgets": [],
       "schema": [
        {
         "metadata": "{}",
         "name": "member_id",
         "type": "\"string\""
        },
        {
         "metadata": "{}",
         "name": "last_payment_pts",
         "type": "\"integer\""
        }
       ],
       "type": "table"
      }
     },
     "output_type": "display_data"
    }
   ],
   "source": [
    "%sql\n",
    "select * from ph_pts limit 10"
   ]
  },
  {
   "cell_type": "code",
   "execution_count": 0,
   "metadata": {
    "application/vnd.databricks.v1+cell": {
     "cellMetadata": {},
     "inputWidgets": {},
     "nuid": "01536221-ddbc-4215-8142-67f11a7dc383",
     "showTitle": false,
     "tableResultSettingsMap": {},
     "title": ""
    }
   },
   "outputs": [],
   "source": []
  }
 ],
 "metadata": {
  "application/vnd.databricks.v1+notebook": {
   "computePreferences": null,
   "dashboards": [],
   "environmentMetadata": {
    "base_environment": "",
    "environment_version": "1"
   },
   "inputWidgetPreferences": null,
   "language": "python",
   "notebookMetadata": {
    "mostRecentlyExecutedCommandWithImplicitDF": {
     "commandId": 4287095509220427,
     "dataframes": [
      "_sqldf"
     ]
    },
    "pythonIndentUnit": 4
   },
   "notebookName": "lending-club-loan score-caluclation",
   "widgets": {}
  }
 },
 "nbformat": 4,
 "nbformat_minor": 0
}