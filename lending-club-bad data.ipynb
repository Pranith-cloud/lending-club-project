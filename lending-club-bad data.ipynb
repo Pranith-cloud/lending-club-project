{
 "cells": [
  {
   "cell_type": "markdown",
   "metadata": {
    "application/vnd.databricks.v1+cell": {
     "cellMetadata": {},
     "inputWidgets": {},
     "nuid": "84714ad3-1b85-4fff-a5eb-3dae2c6cc969",
     "showTitle": false,
     "tableResultSettingsMap": {},
     "title": ""
    }
   },
   "source": [
    "##1.Checking the member_id which are repeating"
   ]
  },
  {
   "cell_type": "code",
   "execution_count": 0,
   "metadata": {
    "application/vnd.databricks.v1+cell": {
     "cellMetadata": {
      "byteLimit": 2048000,
      "implicitDf": true,
      "rowLimit": 10000
     },
     "inputWidgets": {},
     "nuid": "a314db06-38a4-4ec5-a394-6bd47f3dcbe3",
     "showTitle": false,
     "tableResultSettingsMap": {},
     "title": ""
    }
   },
   "outputs": [
    {
     "output_type": "display_data",
     "data": {
      "text/html": [
       "<style scoped>\n",
       "  .table-result-container {\n",
       "    max-height: 300px;\n",
       "    overflow: auto;\n",
       "  }\n",
       "  table, th, td {\n",
       "    border: 1px solid black;\n",
       "    border-collapse: collapse;\n",
       "  }\n",
       "  th, td {\n",
       "    padding: 5px;\n",
       "  }\n",
       "  th {\n",
       "    text-align: left;\n",
       "  }\n",
       "</style><div class='table-result-container'><table class='table-result'><thead style='background-color: white'><tr><th>member_id</th><th>total</th></tr></thead><tbody><tr><td>f74e401c1ab0adf788a7279dd70a27459fcc47733d35eed71149ff371d2a7283</td><td>1</td></tr><tr><td>49c691121315ceeacef440bb86fbf9582132f5c55ad98b4a29285d4f7468b852</td><td>1</td></tr><tr><td>22f88d0d66ed192b85a2bd237a9970e17c2ce98d312dab8d6c7f0af46a0ba972</td><td>1</td></tr><tr><td>0b78dde3a0f2c742a79d543ad3e636692bbea2d65c0599f7746e0b0ef7e007d0</td><td>1</td></tr><tr><td>4d2b9e5c6ee90df7e1907da9e123bb732e1f3859b4bc15f6f396690b1813ab76</td><td>1</td></tr><tr><td>e8c7db7c485241687359cea286549a356d5d3d000f45b18a5d6d50b93aec68cc</td><td>1</td></tr><tr><td>1cafb05aa6c894c30fe8f8de711963c3c76fd64d9984dce5f944470ed8a86447</td><td>1</td></tr><tr><td>c968abcd0831fe0a992af5c3023adfddf96f7f09c3d608065b5721a54e1cee31</td><td>1</td></tr><tr><td>159b209fd25dff55bfcf9ef91cb511b2cf45cb152afbfe7401286bb8ddc9c26f</td><td>1</td></tr><tr><td>0df70b65c4566dc1d90d3110d09b6aba5440557f593218ef32c3d65a8b09ceb4</td><td>1</td></tr><tr><td>fe518ce080b3f422f017e3ce7a2ac09b65e82846046a862691f0dcf0f0177a3d</td><td>1</td></tr><tr><td>467a011d82964825fd45550533b61cda9e243ea4962f64829d32c5bcbef3e7b5</td><td>1</td></tr><tr><td>b26f914e7aa43a4909cbf7e0ca91105e494ab61c6d84381255b2144b6703cf73</td><td>1</td></tr><tr><td>a962f4d59caec5fa1d51d5ad6ccf761573b476dbc25295e9645a491fa2bc6997</td><td>1</td></tr><tr><td>263b2b8177d69a09e14cfe49169ed02662f2e951e5fc6eb8f408e782cd9bf237</td><td>1</td></tr><tr><td>cb0f1777593e77909d0d359a6d9e633f28568500e17806f815395c92f0cd375d</td><td>1</td></tr><tr><td>5840f34a041b29a6b39cc57b698cb2859263f4cafe53e3c51e4212a988cb80d4</td><td>1</td></tr><tr><td>4e8109534dfaabc7e51b31ff13d9e0e84a2f79f5727332234a9ad83617a93307</td><td>1</td></tr><tr><td>18889919d4248ff4846801a65f3b7893da9621cd475fe9c1c91df8c0cfd336f4</td><td>1</td></tr><tr><td>17f319be7cfd66c2b82230a8ab0d8a173e1eac094cebb2b9ad722efce49baacf</td><td>1</td></tr><tr><td>cab1fa9f533688b0aab7c6be7b6256d15ad1dd5f3c4ca061a49cfeb26901977d</td><td>1</td></tr><tr><td>538b4653da3b1e8142b50baacf97a57b721eb6ec565f5fb63a1b71d191e9e934</td><td>1</td></tr><tr><td>259af6637d622a8fc6d896e17c83b83d59e1d809a509bef50b0241eb06a7b221</td><td>1</td></tr><tr><td>4b85912c09ae7ee9b7595b77e49243d547532f886b0fa9ad0f41118d239a9ef7</td><td>1</td></tr><tr><td>79c8b4cbb42f8742c4bc134225447162f7830a60bc07744fcf08c28d61a49ee7</td><td>1</td></tr><tr><td>c2446627dda46e7b8604fe7ef6b0250161036b21ce8224462596a15bb525abaa</td><td>1</td></tr><tr><td>8aef4bb29d609d8d684fd709af965bd690fc9ef3a2691777f38e0c10d622fe97</td><td>1</td></tr><tr><td>488040d4d8373ded3d989d5b907bc64f77a0f574344759e9ae59479d1e202414</td><td>1</td></tr><tr><td>9005dbdda0e4c29a927a90cc44fda606fda4ff9147e3cf666a4c45cbf0297f4f</td><td>1</td></tr><tr><td>1c4c21227141937b3da636e3f17f1020701c0959362eabd9a5a07a10378e3e92</td><td>1</td></tr><tr><td>b4474d578769aaa2c7d003cc18a07d713fdb08610260eb1d3e3c9bab73aebbd4</td><td>1</td></tr><tr><td>0d3c568ff6944b11c241b04737d140b1e6962491dfbd157774ca709c051acfc5</td><td>1</td></tr><tr><td>e7592ab57b3afd9f10d50541f66994def18784791690158a17b220c450751b96</td><td>1</td></tr><tr><td>05ad4aed7c393035e6d29619d4bbb81164b0384f3b2e03876bf9223a1700bf70</td><td>1</td></tr><tr><td>6684e12b1944e8e1271f0bc2354a468d22608c047ae96a6c9a166a920a03df36</td><td>1</td></tr><tr><td>be382a7acb250f6e8363defef948477fde6c378ae20f17bc9191e303bb0da3be</td><td>1</td></tr><tr><td>ad0e6b5f8b7ebab5a8eca4795c34b648ba328f4a47c8528499e85443a73676fb</td><td>1</td></tr><tr><td>0a7474cf6c598c76d9f177cb5e37297fbe3f482e91501819061ab3a947693a60</td><td>1</td></tr><tr><td>58a04b5b2b34d521556b37192681ece256460f8a3bdc85035dd501c51642d693</td><td>1</td></tr><tr><td>676062ee37eb67b420c9be49867032875f64d7e23117c9c7bfb0ca75f3a46c70</td><td>1</td></tr><tr><td>7a62a197d8d2f28ecf5d46934ebebd3176d8aa3fb549d532e1c157d1f5b2c853</td><td>1</td></tr><tr><td>dc3d024374b1d2cb40bd3b3b1bb5d32465be30a49c8a2adc5f48420f851b5376</td><td>1</td></tr><tr><td>8a140edf4e4e5016c6056898c2f1a2b21484bf784004a5f2acbc17d8302073e7</td><td>1</td></tr><tr><td>65470d4d756d84072792669c586a75473b906747a2dad6312917768c585aeda0</td><td>1</td></tr><tr><td>6333fe24533c8165f0991559ad9d5a44ed716486ad9a8f2133b6580072037525</td><td>1</td></tr><tr><td>23857480ccf555ce4c5b7db19337de8cf8dd9eace1276036eb8f233a2c08cc6b</td><td>1</td></tr><tr><td>88eeb7dfc5b755a95014220327e5c4238f2341aa004813d74e698a4c6aa92651</td><td>1</td></tr><tr><td>afaa2422b596f4dc333df7a75886d2c92e1cc175ad842299eecec8be65a407e0</td><td>1</td></tr><tr><td>4d18a8e33f5d9106f6ee7c470f8955e7172d5a93daf4154cf564ff969af329be</td><td>1</td></tr><tr><td>60d675a7b7dbf36678d6df5cdb35404ac8440962cc7cf3a6da176966b15e8767</td><td>1</td></tr><tr><td>d04ae2a3b9e2e686e11af2c6425cb8e8006acf7ded5b531914a22e8b1a09ee8f</td><td>1</td></tr><tr><td>fb18c56edc33baef6b70c7cd3fa66876d6047e940c116f6d2a9cce91959b5240</td><td>1</td></tr><tr><td>ef2f517b2f2bf21f7217dbbbb99a21b690d6cf1771089bc4b8959729d1180263</td><td>1</td></tr><tr><td>30be0e19f6abd3fb1854dd79bb135cdf0be099ee2d6e0c945c53f451a292d0df</td><td>1</td></tr><tr><td>865db309f3238da40f31ce33da13c58a2b21d454fc147e6401e04bd85fd43447</td><td>1</td></tr><tr><td>48c34087f62b82233e422f5fddc806f8ea9168e39d282dd5bb0afdad90767cfe</td><td>1</td></tr><tr><td>94a3e06d032ec2d3d05926a3b59543d6801cad342fdb43ffec7cddd931cf6729</td><td>1</td></tr><tr><td>3cf8e03a3c1c6bc6c88fd953d7554b09c2b913cebda905ecb90a4f9e3b3ebe65</td><td>1</td></tr><tr><td>3277fcf7cd6953b58377e9e5fd3aa071068142f2e893c87918b2d90be4cc9f4a</td><td>1</td></tr><tr><td>b7c52bd6cbaf38c13696635d0a681077661865358ceb22825bf39edead2b61f2</td><td>1</td></tr><tr><td>c2a610feca95e9639be8ecb9dc30e5733eb0a0f64e6134c035c4f748569eeafd</td><td>1</td></tr><tr><td>526cee18e193d9ed9bef34643f8acc9bb4ee43dc415d9d836cc2e620b8532be6</td><td>1</td></tr><tr><td>4ec317a8d203c448931585e76486d0618c4c082dc83ca9ffb5e3f7057d6933ee</td><td>1</td></tr><tr><td>9fe2d59ddf2a4f37e54e225954d87e21054e9c965b6d86f7bba4bf73e364e963</td><td>1</td></tr><tr><td>1e18913781ac428b75f8ef720f3dc8495f632371ec4aa24d0b654ba52ca9c4ce</td><td>1</td></tr><tr><td>1534e58e63afff9a6afa2f416e749824aee9d4279cf0e96716418aa058770640</td><td>1</td></tr><tr><td>f2c4010f700d8c9c4433561b8fc9211a7bf6eefbabaee284c7cad51d64831e30</td><td>1</td></tr><tr><td>90c9050888471605fa59575577f0e9525dba33e359210b6e82519ba2301352a5</td><td>1</td></tr><tr><td>bc1333679188b4d016c831f3313494110b435316fb1ebcb8f01f88411361e48d</td><td>1</td></tr><tr><td>0bad6d6c073efa1779ad62a7508d47a44282405eab3eecbee289fe9195349a5d</td><td>1</td></tr><tr><td>21b54af7ef90595ddc945abdb409045a35747ed0c052bc8eac28b291547b35f5</td><td>1</td></tr><tr><td>3ea4951dbbccf87fcd39d9750d7229c18cdaf9d1b0029628173beb668515beba</td><td>1</td></tr><tr><td>9b023778aac75d135a218074377a89e60ca87c4f9a99e46a5d5e40b4c118d69a</td><td>1</td></tr><tr><td>0642f8984b88c29b09dcfcb2612b0ae5b3f733bc186dec0d6dfc983fa3bd603b</td><td>1</td></tr><tr><td>7c69d5f36fdabf6e191561528fe252203204ebf4d80bea2633ea3277d36c1121</td><td>1</td></tr><tr><td>b24d55f21390533c512f78f822153dc247e984dcd0cfe031c341ccef1c689817</td><td>1</td></tr><tr><td>26e63ed8b898cd9e08f30412a9b81114045b764b44af29eceb0910c635307835</td><td>1</td></tr><tr><td>b5e7938b0a2da4ceaa75ea2e3c111d1e33ca0f944f954b6d65671ef395d21713</td><td>1</td></tr><tr><td>663dea7793e967072980faa17c9efca5a9bcbde9be9151f4b9ef4214ba9d75fb</td><td>1</td></tr><tr><td>43e2d5f152452665fdb69bafac4fc045fb5c8ae2e65296a89691917b3bb1b840</td><td>1</td></tr><tr><td>25df9cff7c21666b9c89b379c56b9a6f1f4216fce33dc4c72c250f1ec4996f23</td><td>1</td></tr><tr><td>bab3d6b76fc017c56ffd10197c1a478767ce3c4ee09292cd8e2eea278d770018</td><td>1</td></tr><tr><td>6d5091b3fcaaeb4eac37445042b6b79e8b21f16943b9c32c4f5dd74dcb0f2210</td><td>1</td></tr><tr><td>4a968e91c3ec52c4b4f5ce46101760c9f07184a561b84c4cba6243434a4b5f57</td><td>1</td></tr><tr><td>91060b858433e8a6107be9b76b324e304b5802631fc081b449188fe4b4e32205</td><td>1</td></tr><tr><td>833ef5fdb767e5fdd58093ae9413d48551ad34780e38704109c536a952c6183f</td><td>1</td></tr><tr><td>8d74eb2bef554482d0b3cda31755229e5a59f8f16cf670a38d7df14d8702a91f</td><td>1</td></tr><tr><td>820b4484677b444ea249e637985b1c63ea100609912d8c0cf600f946f5da31ae</td><td>1</td></tr><tr><td>1035c5401b0ca76d02c334b813302a9b72825e70b1659e8bc8ce5eea6c5d1f52</td><td>1</td></tr><tr><td>603afa9d1be879b7bb0685aa87fe166f4b90bde7bd1304ec55c845c587940e8f</td><td>1</td></tr><tr><td>0d7e498df54d38160b9a05329e82d1435237e75626886e7584e86c16b729d217</td><td>1</td></tr><tr><td>c2fe08c44f54ac75384b1e21ea7503cb4f7de738edb59deb52175c1bd74f910c</td><td>1</td></tr><tr><td>08bf9e080503b0113535d545974cb681ca3368ea42d23705cf961f9f56f55a8e</td><td>1</td></tr><tr><td>cf5169a0db8c481d075339abcc376b3aa52a3736d940d9fcf20db479153088c1</td><td>1</td></tr><tr><td>7f29b078164830b912924f3ae8a2341994f3a222c7144742d0c66e9d5fe7d904</td><td>1</td></tr><tr><td>6e5f652c35fbe19882e6c1f276be5f8f11c5ce70caadc31e805ab4e0200477d0</td><td>1</td></tr><tr><td>a496c50b6e903cdcefd85f74c3d8b881d6069d6154021f9a5ae047bcc5844af5</td><td>1</td></tr><tr><td>b8cb6c50408a86e7f299c19d5cde26fc4223df483627e155e5197a3924fc70f2</td><td>1</td></tr><tr><td>ba0e0f4ac748eb2a7fbd0f3474df5eeec6795b1f339914e9e5224a0c852e9275</td><td>1</td></tr><tr><td>4de9e935b255b0c2c44997724912d8cc89986a589cf62e9c1aa3e1594562ffb0</td><td>1</td></tr></tbody></table></div>"
      ]
     },
     "metadata": {
      "application/vnd.databricks.v1+output": {
       "addedWidgets": {},
       "aggData": [],
       "aggError": "",
       "aggOverflow": false,
       "aggSchema": [],
       "aggSeriesLimitReached": false,
       "aggType": "",
       "arguments": {},
       "columnCustomDisplayInfos": {},
       "data": [
        [
         "f74e401c1ab0adf788a7279dd70a27459fcc47733d35eed71149ff371d2a7283",
         1
        ],
        [
         "49c691121315ceeacef440bb86fbf9582132f5c55ad98b4a29285d4f7468b852",
         1
        ],
        [
         "22f88d0d66ed192b85a2bd237a9970e17c2ce98d312dab8d6c7f0af46a0ba972",
         1
        ],
        [
         "0b78dde3a0f2c742a79d543ad3e636692bbea2d65c0599f7746e0b0ef7e007d0",
         1
        ],
        [
         "4d2b9e5c6ee90df7e1907da9e123bb732e1f3859b4bc15f6f396690b1813ab76",
         1
        ],
        [
         "e8c7db7c485241687359cea286549a356d5d3d000f45b18a5d6d50b93aec68cc",
         1
        ],
        [
         "1cafb05aa6c894c30fe8f8de711963c3c76fd64d9984dce5f944470ed8a86447",
         1
        ],
        [
         "c968abcd0831fe0a992af5c3023adfddf96f7f09c3d608065b5721a54e1cee31",
         1
        ],
        [
         "159b209fd25dff55bfcf9ef91cb511b2cf45cb152afbfe7401286bb8ddc9c26f",
         1
        ],
        [
         "0df70b65c4566dc1d90d3110d09b6aba5440557f593218ef32c3d65a8b09ceb4",
         1
        ],
        [
         "fe518ce080b3f422f017e3ce7a2ac09b65e82846046a862691f0dcf0f0177a3d",
         1
        ],
        [
         "467a011d82964825fd45550533b61cda9e243ea4962f64829d32c5bcbef3e7b5",
         1
        ],
        [
         "b26f914e7aa43a4909cbf7e0ca91105e494ab61c6d84381255b2144b6703cf73",
         1
        ],
        [
         "a962f4d59caec5fa1d51d5ad6ccf761573b476dbc25295e9645a491fa2bc6997",
         1
        ],
        [
         "263b2b8177d69a09e14cfe49169ed02662f2e951e5fc6eb8f408e782cd9bf237",
         1
        ],
        [
         "cb0f1777593e77909d0d359a6d9e633f28568500e17806f815395c92f0cd375d",
         1
        ],
        [
         "5840f34a041b29a6b39cc57b698cb2859263f4cafe53e3c51e4212a988cb80d4",
         1
        ],
        [
         "4e8109534dfaabc7e51b31ff13d9e0e84a2f79f5727332234a9ad83617a93307",
         1
        ],
        [
         "18889919d4248ff4846801a65f3b7893da9621cd475fe9c1c91df8c0cfd336f4",
         1
        ],
        [
         "17f319be7cfd66c2b82230a8ab0d8a173e1eac094cebb2b9ad722efce49baacf",
         1
        ],
        [
         "cab1fa9f533688b0aab7c6be7b6256d15ad1dd5f3c4ca061a49cfeb26901977d",
         1
        ],
        [
         "538b4653da3b1e8142b50baacf97a57b721eb6ec565f5fb63a1b71d191e9e934",
         1
        ],
        [
         "259af6637d622a8fc6d896e17c83b83d59e1d809a509bef50b0241eb06a7b221",
         1
        ],
        [
         "4b85912c09ae7ee9b7595b77e49243d547532f886b0fa9ad0f41118d239a9ef7",
         1
        ],
        [
         "79c8b4cbb42f8742c4bc134225447162f7830a60bc07744fcf08c28d61a49ee7",
         1
        ],
        [
         "c2446627dda46e7b8604fe7ef6b0250161036b21ce8224462596a15bb525abaa",
         1
        ],
        [
         "8aef4bb29d609d8d684fd709af965bd690fc9ef3a2691777f38e0c10d622fe97",
         1
        ],
        [
         "488040d4d8373ded3d989d5b907bc64f77a0f574344759e9ae59479d1e202414",
         1
        ],
        [
         "9005dbdda0e4c29a927a90cc44fda606fda4ff9147e3cf666a4c45cbf0297f4f",
         1
        ],
        [
         "1c4c21227141937b3da636e3f17f1020701c0959362eabd9a5a07a10378e3e92",
         1
        ],
        [
         "b4474d578769aaa2c7d003cc18a07d713fdb08610260eb1d3e3c9bab73aebbd4",
         1
        ],
        [
         "0d3c568ff6944b11c241b04737d140b1e6962491dfbd157774ca709c051acfc5",
         1
        ],
        [
         "e7592ab57b3afd9f10d50541f66994def18784791690158a17b220c450751b96",
         1
        ],
        [
         "05ad4aed7c393035e6d29619d4bbb81164b0384f3b2e03876bf9223a1700bf70",
         1
        ],
        [
         "6684e12b1944e8e1271f0bc2354a468d22608c047ae96a6c9a166a920a03df36",
         1
        ],
        [
         "be382a7acb250f6e8363defef948477fde6c378ae20f17bc9191e303bb0da3be",
         1
        ],
        [
         "ad0e6b5f8b7ebab5a8eca4795c34b648ba328f4a47c8528499e85443a73676fb",
         1
        ],
        [
         "0a7474cf6c598c76d9f177cb5e37297fbe3f482e91501819061ab3a947693a60",
         1
        ],
        [
         "58a04b5b2b34d521556b37192681ece256460f8a3bdc85035dd501c51642d693",
         1
        ],
        [
         "676062ee37eb67b420c9be49867032875f64d7e23117c9c7bfb0ca75f3a46c70",
         1
        ],
        [
         "7a62a197d8d2f28ecf5d46934ebebd3176d8aa3fb549d532e1c157d1f5b2c853",
         1
        ],
        [
         "dc3d024374b1d2cb40bd3b3b1bb5d32465be30a49c8a2adc5f48420f851b5376",
         1
        ],
        [
         "8a140edf4e4e5016c6056898c2f1a2b21484bf784004a5f2acbc17d8302073e7",
         1
        ],
        [
         "65470d4d756d84072792669c586a75473b906747a2dad6312917768c585aeda0",
         1
        ],
        [
         "6333fe24533c8165f0991559ad9d5a44ed716486ad9a8f2133b6580072037525",
         1
        ],
        [
         "23857480ccf555ce4c5b7db19337de8cf8dd9eace1276036eb8f233a2c08cc6b",
         1
        ],
        [
         "88eeb7dfc5b755a95014220327e5c4238f2341aa004813d74e698a4c6aa92651",
         1
        ],
        [
         "afaa2422b596f4dc333df7a75886d2c92e1cc175ad842299eecec8be65a407e0",
         1
        ],
        [
         "4d18a8e33f5d9106f6ee7c470f8955e7172d5a93daf4154cf564ff969af329be",
         1
        ],
        [
         "60d675a7b7dbf36678d6df5cdb35404ac8440962cc7cf3a6da176966b15e8767",
         1
        ],
        [
         "d04ae2a3b9e2e686e11af2c6425cb8e8006acf7ded5b531914a22e8b1a09ee8f",
         1
        ],
        [
         "fb18c56edc33baef6b70c7cd3fa66876d6047e940c116f6d2a9cce91959b5240",
         1
        ],
        [
         "ef2f517b2f2bf21f7217dbbbb99a21b690d6cf1771089bc4b8959729d1180263",
         1
        ],
        [
         "30be0e19f6abd3fb1854dd79bb135cdf0be099ee2d6e0c945c53f451a292d0df",
         1
        ],
        [
         "865db309f3238da40f31ce33da13c58a2b21d454fc147e6401e04bd85fd43447",
         1
        ],
        [
         "48c34087f62b82233e422f5fddc806f8ea9168e39d282dd5bb0afdad90767cfe",
         1
        ],
        [
         "94a3e06d032ec2d3d05926a3b59543d6801cad342fdb43ffec7cddd931cf6729",
         1
        ],
        [
         "3cf8e03a3c1c6bc6c88fd953d7554b09c2b913cebda905ecb90a4f9e3b3ebe65",
         1
        ],
        [
         "3277fcf7cd6953b58377e9e5fd3aa071068142f2e893c87918b2d90be4cc9f4a",
         1
        ],
        [
         "b7c52bd6cbaf38c13696635d0a681077661865358ceb22825bf39edead2b61f2",
         1
        ],
        [
         "c2a610feca95e9639be8ecb9dc30e5733eb0a0f64e6134c035c4f748569eeafd",
         1
        ],
        [
         "526cee18e193d9ed9bef34643f8acc9bb4ee43dc415d9d836cc2e620b8532be6",
         1
        ],
        [
         "4ec317a8d203c448931585e76486d0618c4c082dc83ca9ffb5e3f7057d6933ee",
         1
        ],
        [
         "9fe2d59ddf2a4f37e54e225954d87e21054e9c965b6d86f7bba4bf73e364e963",
         1
        ],
        [
         "1e18913781ac428b75f8ef720f3dc8495f632371ec4aa24d0b654ba52ca9c4ce",
         1
        ],
        [
         "1534e58e63afff9a6afa2f416e749824aee9d4279cf0e96716418aa058770640",
         1
        ],
        [
         "f2c4010f700d8c9c4433561b8fc9211a7bf6eefbabaee284c7cad51d64831e30",
         1
        ],
        [
         "90c9050888471605fa59575577f0e9525dba33e359210b6e82519ba2301352a5",
         1
        ],
        [
         "bc1333679188b4d016c831f3313494110b435316fb1ebcb8f01f88411361e48d",
         1
        ],
        [
         "0bad6d6c073efa1779ad62a7508d47a44282405eab3eecbee289fe9195349a5d",
         1
        ],
        [
         "21b54af7ef90595ddc945abdb409045a35747ed0c052bc8eac28b291547b35f5",
         1
        ],
        [
         "3ea4951dbbccf87fcd39d9750d7229c18cdaf9d1b0029628173beb668515beba",
         1
        ],
        [
         "9b023778aac75d135a218074377a89e60ca87c4f9a99e46a5d5e40b4c118d69a",
         1
        ],
        [
         "0642f8984b88c29b09dcfcb2612b0ae5b3f733bc186dec0d6dfc983fa3bd603b",
         1
        ],
        [
         "7c69d5f36fdabf6e191561528fe252203204ebf4d80bea2633ea3277d36c1121",
         1
        ],
        [
         "b24d55f21390533c512f78f822153dc247e984dcd0cfe031c341ccef1c689817",
         1
        ],
        [
         "26e63ed8b898cd9e08f30412a9b81114045b764b44af29eceb0910c635307835",
         1
        ],
        [
         "b5e7938b0a2da4ceaa75ea2e3c111d1e33ca0f944f954b6d65671ef395d21713",
         1
        ],
        [
         "663dea7793e967072980faa17c9efca5a9bcbde9be9151f4b9ef4214ba9d75fb",
         1
        ],
        [
         "43e2d5f152452665fdb69bafac4fc045fb5c8ae2e65296a89691917b3bb1b840",
         1
        ],
        [
         "25df9cff7c21666b9c89b379c56b9a6f1f4216fce33dc4c72c250f1ec4996f23",
         1
        ],
        [
         "bab3d6b76fc017c56ffd10197c1a478767ce3c4ee09292cd8e2eea278d770018",
         1
        ],
        [
         "6d5091b3fcaaeb4eac37445042b6b79e8b21f16943b9c32c4f5dd74dcb0f2210",
         1
        ],
        [
         "4a968e91c3ec52c4b4f5ce46101760c9f07184a561b84c4cba6243434a4b5f57",
         1
        ],
        [
         "91060b858433e8a6107be9b76b324e304b5802631fc081b449188fe4b4e32205",
         1
        ],
        [
         "833ef5fdb767e5fdd58093ae9413d48551ad34780e38704109c536a952c6183f",
         1
        ],
        [
         "8d74eb2bef554482d0b3cda31755229e5a59f8f16cf670a38d7df14d8702a91f",
         1
        ],
        [
         "820b4484677b444ea249e637985b1c63ea100609912d8c0cf600f946f5da31ae",
         1
        ],
        [
         "1035c5401b0ca76d02c334b813302a9b72825e70b1659e8bc8ce5eea6c5d1f52",
         1
        ],
        [
         "603afa9d1be879b7bb0685aa87fe166f4b90bde7bd1304ec55c845c587940e8f",
         1
        ],
        [
         "0d7e498df54d38160b9a05329e82d1435237e75626886e7584e86c16b729d217",
         1
        ],
        [
         "c2fe08c44f54ac75384b1e21ea7503cb4f7de738edb59deb52175c1bd74f910c",
         1
        ],
        [
         "08bf9e080503b0113535d545974cb681ca3368ea42d23705cf961f9f56f55a8e",
         1
        ],
        [
         "cf5169a0db8c481d075339abcc376b3aa52a3736d940d9fcf20db479153088c1",
         1
        ],
        [
         "7f29b078164830b912924f3ae8a2341994f3a222c7144742d0c66e9d5fe7d904",
         1
        ],
        [
         "6e5f652c35fbe19882e6c1f276be5f8f11c5ce70caadc31e805ab4e0200477d0",
         1
        ],
        [
         "a496c50b6e903cdcefd85f74c3d8b881d6069d6154021f9a5ae047bcc5844af5",
         1
        ],
        [
         "b8cb6c50408a86e7f299c19d5cde26fc4223df483627e155e5197a3924fc70f2",
         1
        ],
        [
         "ba0e0f4ac748eb2a7fbd0f3474df5eeec6795b1f339914e9e5224a0c852e9275",
         1
        ],
        [
         "4de9e935b255b0c2c44997724912d8cc89986a589cf62e9c1aa3e1594562ffb0",
         1
        ]
       ],
       "datasetInfos": [],
       "dbfsResultPath": null,
       "isJsonSchema": true,
       "metadata": {},
       "overflow": false,
       "plotOptions": {
        "customPlotOptions": {},
        "displayType": "table",
        "pivotAggregation": null,
        "pivotColumns": null,
        "xColumns": null,
        "yColumns": null
       },
       "removedWidgets": [],
       "schema": [
        {
         "metadata": "{}",
         "name": "member_id",
         "type": "\"string\""
        },
        {
         "metadata": "{}",
         "name": "total",
         "type": "\"long\""
        }
       ],
       "type": "table"
      }
     },
     "output_type": "display_data"
    }
   ],
   "source": [
    "%sql\n",
    "select member_id,count(*) as total from pranithdb_lending_club.customers group by member_id order by total desc"
   ]
  },
  {
   "cell_type": "code",
   "execution_count": 0,
   "metadata": {
    "application/vnd.databricks.v1+cell": {
     "cellMetadata": {
      "byteLimit": 2048000,
      "implicitDf": true,
      "rowLimit": 10000
     },
     "inputWidgets": {},
     "nuid": "b06d9127-686f-48e8-8b3e-9e7648ba71a2",
     "showTitle": false,
     "tableResultSettingsMap": {},
     "title": ""
    }
   },
   "outputs": [
    {
     "output_type": "display_data",
     "data": {
      "text/html": [
       "<style scoped>\n",
       "  .table-result-container {\n",
       "    max-height: 300px;\n",
       "    overflow: auto;\n",
       "  }\n",
       "  table, th, td {\n",
       "    border: 1px solid black;\n",
       "    border-collapse: collapse;\n",
       "  }\n",
       "  th, td {\n",
       "    padding: 5px;\n",
       "  }\n",
       "  th {\n",
       "    text-align: left;\n",
       "  }\n",
       "</style><div class='table-result-container'><table class='table-result'><thead style='background-color: white'><tr><th>member_id</th><th>emp_title</th><th>emp_length</th><th>home_ownership</th><th>annual_income</th><th>address_state</th><th>address_zipcode</th><th>address_country</th><th>grade</th><th>sub_grade</th><th>verification_status</th><th>total_high_credit_limit</th><th>application_type</th><th>joint_annual_income</th><th>verification_status_joint</th><th>ingest_date</th></tr></thead><tbody><tr><td>f74e401c1ab0adf788a7279dd70a27459fcc47733d35eed71149ff371d2a7283</td><td>Contract Specialist</td><td>3</td><td>MORTGAGE</td><td>104433.0</td><td>PA</td><td>174xx</td><td>USA</td><td>F</td><td>F1</td><td>Source Verified</td><td>439570.0</td><td>Individual</td><td>null</td><td>null</td><td>2025-04-04T03:11:31.494+0000</td></tr></tbody></table></div>"
      ]
     },
     "metadata": {
      "application/vnd.databricks.v1+output": {
       "addedWidgets": {},
       "aggData": [],
       "aggError": "",
       "aggOverflow": false,
       "aggSchema": [],
       "aggSeriesLimitReached": false,
       "aggType": "",
       "arguments": {},
       "columnCustomDisplayInfos": {},
       "data": [
        [
         "f74e401c1ab0adf788a7279dd70a27459fcc47733d35eed71149ff371d2a7283",
         "Contract Specialist",
         3,
         "MORTGAGE",
         104433.0,
         "PA",
         "174xx",
         "USA",
         "F",
         "F1",
         "Source Verified",
         439570.0,
         "Individual",
         null,
         null,
         "2025-04-04T03:11:31.494+0000"
        ]
       ],
       "datasetInfos": [],
       "dbfsResultPath": null,
       "isJsonSchema": true,
       "metadata": {},
       "overflow": false,
       "plotOptions": {
        "customPlotOptions": {},
        "displayType": "table",
        "pivotAggregation": null,
        "pivotColumns": null,
        "xColumns": null,
        "yColumns": null
       },
       "removedWidgets": [],
       "schema": [
        {
         "metadata": "{}",
         "name": "member_id",
         "type": "\"string\""
        },
        {
         "metadata": "{}",
         "name": "emp_title",
         "type": "\"string\""
        },
        {
         "metadata": "{}",
         "name": "emp_length",
         "type": "\"integer\""
        },
        {
         "metadata": "{}",
         "name": "home_ownership",
         "type": "\"string\""
        },
        {
         "metadata": "{}",
         "name": "annual_income",
         "type": "\"float\""
        },
        {
         "metadata": "{}",
         "name": "address_state",
         "type": "\"string\""
        },
        {
         "metadata": "{}",
         "name": "address_zipcode",
         "type": "\"string\""
        },
        {
         "metadata": "{}",
         "name": "address_country",
         "type": "\"string\""
        },
        {
         "metadata": "{}",
         "name": "grade",
         "type": "\"string\""
        },
        {
         "metadata": "{}",
         "name": "sub_grade",
         "type": "\"string\""
        },
        {
         "metadata": "{}",
         "name": "verification_status",
         "type": "\"string\""
        },
        {
         "metadata": "{}",
         "name": "total_high_credit_limit",
         "type": "\"float\""
        },
        {
         "metadata": "{}",
         "name": "application_type",
         "type": "\"string\""
        },
        {
         "metadata": "{}",
         "name": "joint_annual_income",
         "type": "\"float\""
        },
        {
         "metadata": "{}",
         "name": "verification_status_joint",
         "type": "\"string\""
        },
        {
         "metadata": "{}",
         "name": "ingest_date",
         "type": "\"timestamp\""
        }
       ],
       "type": "table"
      }
     },
     "output_type": "display_data"
    }
   ],
   "source": [
    "%sql\n",
    "select * from pranithdb_lending_club.customers where member_id like 'f74e401c1ab0adf788a7279dd70a27459fcc47733d35eed71149ff371d2a7283'"
   ]
  },
  {
   "cell_type": "markdown",
   "metadata": {
    "application/vnd.databricks.v1+cell": {
     "cellMetadata": {},
     "inputWidgets": {},
     "nuid": "5c636214-d113-4b48-a351-1bd52ab3ca49",
     "showTitle": false,
     "tableResultSettingsMap": {},
     "title": ""
    }
   },
   "source": [
    "#2.Taking only member_id that repeating and creating bad_data df to check \n"
   ]
  },
  {
   "cell_type": "code",
   "execution_count": 0,
   "metadata": {
    "application/vnd.databricks.v1+cell": {
     "cellMetadata": {
      "byteLimit": 2048000,
      "rowLimit": 10000
     },
     "inputWidgets": {},
     "nuid": "652692bd-f7f3-4f7a-b894-bd24241df283",
     "showTitle": false,
     "tableResultSettingsMap": {},
     "title": ""
    }
   },
   "outputs": [],
   "source": [
    "bad_data_customers_df=spark.sql(\"\"\"select member_id from(select member_id,count(*) as total from pranithdb_lending_club.customers group by member_id having total > 1)\"\"\")"
   ]
  },
  {
   "cell_type": "code",
   "execution_count": 0,
   "metadata": {
    "application/vnd.databricks.v1+cell": {
     "cellMetadata": {
      "byteLimit": 2048000,
      "rowLimit": 10000
     },
     "inputWidgets": {},
     "nuid": "c03154fa-05dd-4927-b993-e9f76c758749",
     "showTitle": false,
     "tableResultSettingsMap": {},
     "title": ""
    }
   },
   "outputs": [
    {
     "output_type": "stream",
     "name": "stdout",
     "output_type": "stream",
     "text": [
      "Out[5]: 0"
     ]
    }
   ],
   "source": [
    "bad_data_customers_df.count()"
   ]
  },
  {
   "cell_type": "code",
   "execution_count": 0,
   "metadata": {
    "application/vnd.databricks.v1+cell": {
     "cellMetadata": {
      "byteLimit": 2048000,
      "rowLimit": 10000
     },
     "inputWidgets": {},
     "nuid": "f5943e2d-ef75-4530-8aee-7f2415012640",
     "showTitle": false,
     "tableResultSettingsMap": {},
     "title": ""
    }
   },
   "outputs": [],
   "source": [
    "bad_data_customers_df.repartition(1).write\\\n",
    "    .format(\"csv\")\\\n",
    "    .option(\"header\",\"true\")\\\n",
    "    .mode(\"overwrite\")\\\n",
    "    .option(\"path\",\"dbfs:/user/lendingclubproject/newbaddata/bad_data_customers\")\\\n",
    "    .save()\n",
    "            "
   ]
  },
  {
   "cell_type": "code",
   "execution_count": 0,
   "metadata": {
    "application/vnd.databricks.v1+cell": {
     "cellMetadata": {
      "byteLimit": 2048000,
      "rowLimit": 10000
     },
     "inputWidgets": {},
     "nuid": "2b09fada-dafe-4d82-a339-a4c89661bab0",
     "showTitle": false,
     "tableResultSettingsMap": {},
     "title": ""
    }
   },
   "outputs": [],
   "source": [
    "bad_data_loans_defaulter_delinq_df= spark.sql(\"\"\"select member_id from(select member_id,count(*) as total from pranithdb_lending_club.loans_defaulters_delinq group by member_id having total > 1)\"\"\")"
   ]
  },
  {
   "cell_type": "code",
   "execution_count": 0,
   "metadata": {
    "application/vnd.databricks.v1+cell": {
     "cellMetadata": {
      "byteLimit": 2048000,
      "rowLimit": 10000
     },
     "inputWidgets": {},
     "nuid": "552585a3-6920-4a28-b226-55ea7624260d",
     "showTitle": false,
     "tableResultSettingsMap": {},
     "title": ""
    }
   },
   "outputs": [
    {
     "output_type": "stream",
     "name": "stdout",
     "output_type": "stream",
     "text": [
      "Out[10]: 0"
     ]
    }
   ],
   "source": [
    "bad_data_loans_defaulter_delinq_df.count()"
   ]
  },
  {
   "cell_type": "code",
   "execution_count": 0,
   "metadata": {
    "application/vnd.databricks.v1+cell": {
     "cellMetadata": {
      "byteLimit": 2048000,
      "rowLimit": 10000
     },
     "inputWidgets": {},
     "nuid": "744e6628-dcb1-44bf-a370-9e63b4a1b1c4",
     "showTitle": false,
     "tableResultSettingsMap": {},
     "title": ""
    }
   },
   "outputs": [],
   "source": [
    "bad_data_loans_defaulter_delinq_df.repartition(1).write\\\n",
    "    .format(\"csv\")\\\n",
    "    .option(\"header\",\"true\")\\\n",
    "    .mode(\"overwrite\")\\\n",
    "    .option(\"path\",\"dbfs:/user/lendingclubproject/newbaddata/bad_data_loans_defaulter_delinq\")\\\n",
    "    .save()"
   ]
  },
  {
   "cell_type": "code",
   "execution_count": 0,
   "metadata": {
    "application/vnd.databricks.v1+cell": {
     "cellMetadata": {
      "byteLimit": 2048000,
      "rowLimit": 10000
     },
     "inputWidgets": {},
     "nuid": "28f6460c-8913-46d8-bf74-4d1109fa7f59",
     "showTitle": false,
     "tableResultSettingsMap": {},
     "title": ""
    }
   },
   "outputs": [],
   "source": [
    " bad_data_loans_defaulters_detail_rec_enq_df=spark.sql(\"\"\"select member_id from(select member_id,count(*) as total from pranithdb_lending_club.loans_defaulters_detail_rec_enq group by member_id having total > 1)\"\"\")"
   ]
  },
  {
   "cell_type": "code",
   "execution_count": 0,
   "metadata": {
    "application/vnd.databricks.v1+cell": {
     "cellMetadata": {
      "byteLimit": 2048000,
      "rowLimit": 10000
     },
     "inputWidgets": {},
     "nuid": "469bb930-cf9c-4a64-b8da-17ae80ceb123",
     "showTitle": false,
     "tableResultSettingsMap": {},
     "title": ""
    }
   },
   "outputs": [
    {
     "output_type": "stream",
     "name": "stdout",
     "output_type": "stream",
     "text": [
      "Out[13]: 0"
     ]
    }
   ],
   "source": [
    " bad_data_loans_defaulters_detail_rec_enq_df.count()"
   ]
  },
  {
   "cell_type": "code",
   "execution_count": 0,
   "metadata": {
    "application/vnd.databricks.v1+cell": {
     "cellMetadata": {
      "byteLimit": 2048000,
      "rowLimit": 10000
     },
     "inputWidgets": {},
     "nuid": "aee5ac5d-70c4-4f3f-9ff9-8861cdf53db5",
     "showTitle": false,
     "tableResultSettingsMap": {},
     "title": ""
    }
   },
   "outputs": [],
   "source": [
    " bad_data_loans_defaulters_detail_rec_enq_df.repartition(1).write\\\n",
    "    .format(\"csv\")\\\n",
    "    .option(\"header\",\"true\")\\\n",
    "    .mode(\"overwrite\")\\\n",
    "    .option(\"path\",\"dbfs:/user/lendingclubproject/newbaddata/bad_data_loans_defaulters_detail_rec_enq\")\\\n",
    "    .save()"
   ]
  },
  {
   "cell_type": "markdown",
   "metadata": {
    "application/vnd.databricks.v1+cell": {
     "cellMetadata": {
      "byteLimit": 2048000,
      "rowLimit": 10000
     },
     "inputWidgets": {},
     "nuid": "85d5d952-7c13-49c8-ac02-3e8e0543d146",
     "showTitle": false,
     "tableResultSettingsMap": {},
     "title": ""
    }
   },
   "source": [
    "#3.Combing all table so we get common member_ids from all table and doing distinct"
   ]
  },
  {
   "cell_type": "code",
   "execution_count": 0,
   "metadata": {
    "application/vnd.databricks.v1+cell": {
     "cellMetadata": {
      "byteLimit": 2048000,
      "rowLimit": 10000
     },
     "inputWidgets": {},
     "nuid": "e488b236-e847-4be9-acec-689dd0ec0ff3",
     "showTitle": false,
     "tableResultSettingsMap": {},
     "title": ""
    }
   },
   "outputs": [],
   "source": [
    "bad_data_customers_data_df=bad_data_customers_df.select(\"member_id\")\\\n",
    "    .union(bad_data_loans_defaulter_delinq_df.select(\"member_id\"))\\\n",
    "    .union( bad_data_loans_defaulters_detail_rec_enq_df.select('member_id'))"
   ]
  },
  {
   "cell_type": "code",
   "execution_count": 0,
   "metadata": {
    "application/vnd.databricks.v1+cell": {
     "cellMetadata": {
      "byteLimit": 2048000,
      "rowLimit": 10000
     },
     "inputWidgets": {},
     "nuid": "d4c49d04-e9bd-4cc0-a224-62dc355f11f4",
     "showTitle": false,
     "tableResultSettingsMap": {},
     "title": ""
    }
   },
   "outputs": [],
   "source": [
    "bad_data_customers_data_final_df=bad_data_customers_data_df.distinct()"
   ]
  },
  {
   "cell_type": "code",
   "execution_count": 0,
   "metadata": {
    "application/vnd.databricks.v1+cell": {
     "cellMetadata": {
      "byteLimit": 2048000,
      "rowLimit": 10000
     },
     "inputWidgets": {},
     "nuid": "618bf49d-1820-469c-9da3-292dd1fd9cfb",
     "showTitle": false,
     "tableResultSettingsMap": {},
     "title": ""
    }
   },
   "outputs": [
    {
     "output_type": "stream",
     "name": "stdout",
     "output_type": "stream",
     "text": [
      "Out[18]: 0"
     ]
    }
   ],
   "source": [
    "bad_data_customers_data_final_df.count()"
   ]
  },
  {
   "cell_type": "code",
   "execution_count": 0,
   "metadata": {
    "application/vnd.databricks.v1+cell": {
     "cellMetadata": {
      "byteLimit": 2048000,
      "rowLimit": 10000
     },
     "inputWidgets": {},
     "nuid": "56e06881-7467-4891-a7a4-ca4e8cbfd966",
     "showTitle": false,
     "tableResultSettingsMap": {},
     "title": ""
    }
   },
   "outputs": [],
   "source": [
    "bad_data_customers_data_final_df.repartition(1).write\\\n",
    "    .format(\"csv\")\\\n",
    "    .option(\"header\",\"true\")\\\n",
    "    .mode(\"overwrite\")\\\n",
    "    .option(\"path\",\"dbfs:/user/lendingclubproject/newbaddata/bad_data_customers_data_final\")\\\n",
    "    .save()"
   ]
  },
  {
   "cell_type": "code",
   "execution_count": 0,
   "metadata": {
    "application/vnd.databricks.v1+cell": {
     "cellMetadata": {
      "byteLimit": 2048000,
      "rowLimit": 10000
     },
     "inputWidgets": {},
     "nuid": "e189dbf1-b863-45b4-8c17-4101e3d7dacd",
     "showTitle": false,
     "tableResultSettingsMap": {},
     "title": ""
    }
   },
   "outputs": [],
   "source": [
    "bad_data_customer=spark.read\\\n",
    "    .format(\"csv\")\\\n",
    "    .option(\"header\",\"true\")\\\n",
    "    .option(\"inferSchema\",\"true\")\\\n",
    "    .load(\"dbfs:/user/lendingclubproject/newbaddata/bad_data_customers_data_final\")"
   ]
  },
  {
   "cell_type": "code",
   "execution_count": 0,
   "metadata": {
    "application/vnd.databricks.v1+cell": {
     "cellMetadata": {
      "byteLimit": 2048000,
      "rowLimit": 10000
     },
     "inputWidgets": {},
     "nuid": "c255847b-e57e-4e9b-b26b-d48233d1ead4",
     "showTitle": false,
     "tableResultSettingsMap": {},
     "title": ""
    }
   },
   "outputs": [],
   "source": [
    "bad_data_customer.createOrReplaceTempView(\"bad_data_customers\")"
   ]
  },
  {
   "cell_type": "markdown",
   "metadata": {
    "application/vnd.databricks.v1+cell": {
     "cellMetadata": {
      "byteLimit": 2048000,
      "rowLimit": 10000
     },
     "inputWidgets": {},
     "nuid": "a22627f1-5fbc-4e70-82e2-743ee57f1431",
     "showTitle": false,
     "tableResultSettingsMap": {},
     "title": ""
    }
   },
   "source": [
    "#4. Taking uniq  member_id from bad_data and creating df and tables on top of it"
   ]
  },
  {
   "cell_type": "code",
   "execution_count": 0,
   "metadata": {
    "application/vnd.databricks.v1+cell": {
     "cellMetadata": {
      "byteLimit": 2048000,
      "rowLimit": 10000
     },
     "inputWidgets": {},
     "nuid": "78b71227-8c90-4922-888c-093225849d1a",
     "showTitle": false,
     "tableResultSettingsMap": {},
     "title": ""
    }
   },
   "outputs": [],
   "source": [
    "customer_df=spark.sql(\"select *from pranithdb_lending_club.customers where member_id not in(select member_id from bad_data_customers )\")"
   ]
  },
  {
   "cell_type": "code",
   "execution_count": 0,
   "metadata": {
    "application/vnd.databricks.v1+cell": {
     "cellMetadata": {
      "byteLimit": 2048000,
      "rowLimit": 10000
     },
     "inputWidgets": {},
     "nuid": "3aa26c29-0136-4f62-ad3a-9b96dc213e8c",
     "showTitle": false,
     "tableResultSettingsMap": {},
     "title": ""
    }
   },
   "outputs": [],
   "source": [
    "customer_df.write\\\n",
    "    .format(\"parquet\")\\\n",
    "    .mode(\"overwrite\")\\\n",
    "    .option(\"path\",\"dbfs:/user/lendingclubproject/cleaned_new/customers_parquet\")\\\n",
    "    .save()"
   ]
  },
  {
   "cell_type": "code",
   "execution_count": 0,
   "metadata": {
    "application/vnd.databricks.v1+cell": {
     "cellMetadata": {
      "byteLimit": 2048000,
      "rowLimit": 10000
     },
     "inputWidgets": {},
     "nuid": "29d26871-bff6-4fb3-bd81-d01eef22e5bc",
     "showTitle": false,
     "tableResultSettingsMap": {},
     "title": ""
    }
   },
   "outputs": [],
   "source": [
    "loans_defaulters_deliq_df =spark.sql(\"select *from pranithdb_lending_club.loans_defaulters_delinq where member_id not in(select member_id from bad_data_customers )\")"
   ]
  },
  {
   "cell_type": "code",
   "execution_count": 0,
   "metadata": {
    "application/vnd.databricks.v1+cell": {
     "cellMetadata": {
      "byteLimit": 2048000,
      "rowLimit": 10000
     },
     "inputWidgets": {},
     "nuid": "0ce7874e-4b8e-4930-a221-6dd75bf5bfbd",
     "showTitle": false,
     "tableResultSettingsMap": {},
     "title": ""
    }
   },
   "outputs": [],
   "source": [
    "loans_defaulters_deliq_df.write\\\n",
    "    .format(\"parquet\")\\\n",
    "    .mode(\"overwrite\")\\\n",
    "    .option(\"path\",\"dbfs:/user/lendingclubproject/cleaned_new/loans_defaulters_deliq_parquet\")\\\n",
    "    .save()"
   ]
  },
  {
   "cell_type": "code",
   "execution_count": 0,
   "metadata": {
    "application/vnd.databricks.v1+cell": {
     "cellMetadata": {
      "byteLimit": 2048000,
      "rowLimit": 10000
     },
     "inputWidgets": {},
     "nuid": "9a93ff99-d095-4de8-abc0-36953db5521c",
     "showTitle": false,
     "tableResultSettingsMap": {},
     "title": ""
    }
   },
   "outputs": [],
   "source": [
    "loans_defaulters_detail_rec_enq_df =spark.sql(\"select *from pranithdb_lending_club.loans_defaulters_detail_rec_enq where member_id not in(select member_id from bad_data_customers )\")"
   ]
  },
  {
   "cell_type": "code",
   "execution_count": 0,
   "metadata": {
    "application/vnd.databricks.v1+cell": {
     "cellMetadata": {
      "byteLimit": 2048000,
      "rowLimit": 10000
     },
     "inputWidgets": {},
     "nuid": "1899b03d-825a-49d9-b942-b86389c1e02d",
     "showTitle": false,
     "tableResultSettingsMap": {},
     "title": ""
    }
   },
   "outputs": [],
   "source": [
    "loans_defaulters_detail_rec_enq_df.write\\\n",
    "    .format(\"parquet\")\\\n",
    "    .mode(\"overwrite\")\\\n",
    "    .option(\"path\",\"dbfs:/user/lendingclubproject/cleaned_new/loans_defaulters_detail_rec_enq_parquet\")\\\n",
    "    .save()"
   ]
  },
  {
   "cell_type": "code",
   "execution_count": 0,
   "metadata": {
    "application/vnd.databricks.v1+cell": {
     "cellMetadata": {
      "byteLimit": 2048000,
      "implicitDf": true,
      "rowLimit": 10000
     },
     "inputWidgets": {},
     "nuid": "88acc520-d0c8-4e95-99f0-f21987596e3f",
     "showTitle": false,
     "tableResultSettingsMap": {},
     "title": ""
    }
   },
   "outputs": [
    {
     "output_type": "display_data",
     "data": {
      "text/html": [
       "<style scoped>\n",
       "  .table-result-container {\n",
       "    max-height: 300px;\n",
       "    overflow: auto;\n",
       "  }\n",
       "  table, th, td {\n",
       "    border: 1px solid black;\n",
       "    border-collapse: collapse;\n",
       "  }\n",
       "  th, td {\n",
       "    padding: 5px;\n",
       "  }\n",
       "  th {\n",
       "    text-align: left;\n",
       "  }\n",
       "</style><div class='table-result-container'><table class='table-result'><thead style='background-color: white'><tr></tr></thead><tbody></tbody></table></div>"
      ]
     },
     "metadata": {
      "application/vnd.databricks.v1+output": {
       "addedWidgets": {},
       "aggData": [],
       "aggError": "",
       "aggOverflow": false,
       "aggSchema": [],
       "aggSeriesLimitReached": false,
       "aggType": "",
       "arguments": {},
       "columnCustomDisplayInfos": {},
       "data": [],
       "datasetInfos": [],
       "dbfsResultPath": null,
       "isJsonSchema": true,
       "metadata": {},
       "overflow": false,
       "plotOptions": {
        "customPlotOptions": {},
        "displayType": "table",
        "pivotAggregation": null,
        "pivotColumns": null,
        "xColumns": null,
        "yColumns": null
       },
       "removedWidgets": [],
       "schema": [],
       "type": "table"
      }
     },
     "output_type": "display_data"
    }
   ],
   "source": [
    "%sql\n",
    "CREATE TABLE Pranithdb_lending_club.customers_new\n",
    "USING PARQUET\n",
    "LOCATION 'dbfs:/user/lendingclubproject/cleaned_new/customers_parquet';"
   ]
  },
  {
   "cell_type": "code",
   "execution_count": 0,
   "metadata": {
    "application/vnd.databricks.v1+cell": {
     "cellMetadata": {
      "byteLimit": 2048000,
      "implicitDf": true,
      "rowLimit": 10000
     },
     "inputWidgets": {},
     "nuid": "cfab8718-317a-44f6-80ec-caa1f8f9a2c7",
     "showTitle": false,
     "tableResultSettingsMap": {},
     "title": ""
    }
   },
   "outputs": [
    {
     "output_type": "display_data",
     "data": {
      "text/html": [
       "<style scoped>\n",
       "  .table-result-container {\n",
       "    max-height: 300px;\n",
       "    overflow: auto;\n",
       "  }\n",
       "  table, th, td {\n",
       "    border: 1px solid black;\n",
       "    border-collapse: collapse;\n",
       "  }\n",
       "  th, td {\n",
       "    padding: 5px;\n",
       "  }\n",
       "  th {\n",
       "    text-align: left;\n",
       "  }\n",
       "</style><div class='table-result-container'><table class='table-result'><thead style='background-color: white'><tr></tr></thead><tbody></tbody></table></div>"
      ]
     },
     "metadata": {
      "application/vnd.databricks.v1+output": {
       "addedWidgets": {},
       "aggData": [],
       "aggError": "",
       "aggOverflow": false,
       "aggSchema": [],
       "aggSeriesLimitReached": false,
       "aggType": "",
       "arguments": {},
       "columnCustomDisplayInfos": {},
       "data": [],
       "datasetInfos": [],
       "dbfsResultPath": null,
       "isJsonSchema": true,
       "metadata": {},
       "overflow": false,
       "plotOptions": {
        "customPlotOptions": {},
        "displayType": "table",
        "pivotAggregation": null,
        "pivotColumns": null,
        "xColumns": null,
        "yColumns": null
       },
       "removedWidgets": [],
       "schema": [],
       "type": "table"
      }
     },
     "output_type": "display_data"
    }
   ],
   "source": [
    "%sql\n",
    "create table pranithdb_lending_club.loans_defaulters_delinq_new(member_id string,delinq_2yrs integer,delinq_amnt float,mths_since_last_delinq integer)\n",
    "using parquet\n",
    "location 'dbfs:/user/lendingclubproject/cleaned_new/loans_defaulters_deliq_parquet'"
   ]
  },
  {
   "cell_type": "code",
   "execution_count": 0,
   "metadata": {
    "application/vnd.databricks.v1+cell": {
     "cellMetadata": {
      "byteLimit": 2048000,
      "implicitDf": true,
      "rowLimit": 10000
     },
     "inputWidgets": {},
     "nuid": "2c0b9768-a20e-43d1-a442-fb5a1176484a",
     "showTitle": false,
     "tableResultSettingsMap": {},
     "title": ""
    }
   },
   "outputs": [
    {
     "output_type": "display_data",
     "data": {
      "text/html": [
       "<style scoped>\n",
       "  .table-result-container {\n",
       "    max-height: 300px;\n",
       "    overflow: auto;\n",
       "  }\n",
       "  table, th, td {\n",
       "    border: 1px solid black;\n",
       "    border-collapse: collapse;\n",
       "  }\n",
       "  th, td {\n",
       "    padding: 5px;\n",
       "  }\n",
       "  th {\n",
       "    text-align: left;\n",
       "  }\n",
       "</style><div class='table-result-container'><table class='table-result'><thead style='background-color: white'><tr></tr></thead><tbody></tbody></table></div>"
      ]
     },
     "metadata": {
      "application/vnd.databricks.v1+output": {
       "addedWidgets": {},
       "aggData": [],
       "aggError": "",
       "aggOverflow": false,
       "aggSchema": [],
       "aggSeriesLimitReached": false,
       "aggType": "",
       "arguments": {},
       "columnCustomDisplayInfos": {},
       "data": [],
       "datasetInfos": [],
       "dbfsResultPath": null,
       "isJsonSchema": true,
       "metadata": {},
       "overflow": false,
       "plotOptions": {
        "customPlotOptions": {},
        "displayType": "table",
        "pivotAggregation": null,
        "pivotColumns": null,
        "xColumns": null,
        "yColumns": null
       },
       "removedWidgets": [],
       "schema": [],
       "type": "table"
      }
     },
     "output_type": "display_data"
    }
   ],
   "source": [
    "%sql\n",
    "create table pranithdb_lending_club.loans_defaulters_detail_rec_enq_new(member_id string,pub_rec integer,pub_rec_bankruptcies integer,inq_last_6mths integer)\n",
    "using parquet\n",
    "location 'dbfs:/user/lendingclubproject/cleaned_new/loans_defaulters_detail_rec_enq_parquet'"
   ]
  },
  {
   "cell_type": "code",
   "execution_count": 0,
   "metadata": {
    "application/vnd.databricks.v1+cell": {
     "cellMetadata": {
      "byteLimit": 2048000,
      "implicitDf": true,
      "rowLimit": 10000
     },
     "inputWidgets": {},
     "nuid": "196c7349-0dd1-470e-9293-52128a233325",
     "showTitle": false,
     "tableResultSettingsMap": {},
     "title": ""
    }
   },
   "outputs": [
    {
     "output_type": "display_data",
     "data": {
      "text/html": [
       "<style scoped>\n",
       "  .table-result-container {\n",
       "    max-height: 300px;\n",
       "    overflow: auto;\n",
       "  }\n",
       "  table, th, td {\n",
       "    border: 1px solid black;\n",
       "    border-collapse: collapse;\n",
       "  }\n",
       "  th, td {\n",
       "    padding: 5px;\n",
       "  }\n",
       "  th {\n",
       "    text-align: left;\n",
       "  }\n",
       "</style><div class='table-result-container'><table class='table-result'><thead style='background-color: white'><tr><th>member_id</th><th>total</th></tr></thead><tbody><tr><td>f74e401c1ab0adf788a7279dd70a27459fcc47733d35eed71149ff371d2a7283</td><td>1</td></tr><tr><td>49c691121315ceeacef440bb86fbf9582132f5c55ad98b4a29285d4f7468b852</td><td>1</td></tr><tr><td>22f88d0d66ed192b85a2bd237a9970e17c2ce98d312dab8d6c7f0af46a0ba972</td><td>1</td></tr><tr><td>0b78dde3a0f2c742a79d543ad3e636692bbea2d65c0599f7746e0b0ef7e007d0</td><td>1</td></tr><tr><td>4d2b9e5c6ee90df7e1907da9e123bb732e1f3859b4bc15f6f396690b1813ab76</td><td>1</td></tr><tr><td>e8c7db7c485241687359cea286549a356d5d3d000f45b18a5d6d50b93aec68cc</td><td>1</td></tr><tr><td>1cafb05aa6c894c30fe8f8de711963c3c76fd64d9984dce5f944470ed8a86447</td><td>1</td></tr><tr><td>c968abcd0831fe0a992af5c3023adfddf96f7f09c3d608065b5721a54e1cee31</td><td>1</td></tr><tr><td>159b209fd25dff55bfcf9ef91cb511b2cf45cb152afbfe7401286bb8ddc9c26f</td><td>1</td></tr><tr><td>0df70b65c4566dc1d90d3110d09b6aba5440557f593218ef32c3d65a8b09ceb4</td><td>1</td></tr></tbody></table></div>"
      ]
     },
     "metadata": {
      "application/vnd.databricks.v1+output": {
       "addedWidgets": {},
       "aggData": [],
       "aggError": "",
       "aggOverflow": false,
       "aggSchema": [],
       "aggSeriesLimitReached": false,
       "aggType": "",
       "arguments": {},
       "columnCustomDisplayInfos": {},
       "data": [
        [
         "f74e401c1ab0adf788a7279dd70a27459fcc47733d35eed71149ff371d2a7283",
         1
        ],
        [
         "49c691121315ceeacef440bb86fbf9582132f5c55ad98b4a29285d4f7468b852",
         1
        ],
        [
         "22f88d0d66ed192b85a2bd237a9970e17c2ce98d312dab8d6c7f0af46a0ba972",
         1
        ],
        [
         "0b78dde3a0f2c742a79d543ad3e636692bbea2d65c0599f7746e0b0ef7e007d0",
         1
        ],
        [
         "4d2b9e5c6ee90df7e1907da9e123bb732e1f3859b4bc15f6f396690b1813ab76",
         1
        ],
        [
         "e8c7db7c485241687359cea286549a356d5d3d000f45b18a5d6d50b93aec68cc",
         1
        ],
        [
         "1cafb05aa6c894c30fe8f8de711963c3c76fd64d9984dce5f944470ed8a86447",
         1
        ],
        [
         "c968abcd0831fe0a992af5c3023adfddf96f7f09c3d608065b5721a54e1cee31",
         1
        ],
        [
         "159b209fd25dff55bfcf9ef91cb511b2cf45cb152afbfe7401286bb8ddc9c26f",
         1
        ],
        [
         "0df70b65c4566dc1d90d3110d09b6aba5440557f593218ef32c3d65a8b09ceb4",
         1
        ]
       ],
       "datasetInfos": [],
       "dbfsResultPath": null,
       "isJsonSchema": true,
       "metadata": {},
       "overflow": false,
       "plotOptions": {
        "customPlotOptions": {},
        "displayType": "table",
        "pivotAggregation": null,
        "pivotColumns": null,
        "xColumns": null,
        "yColumns": null
       },
       "removedWidgets": [],
       "schema": [
        {
         "metadata": "{}",
         "name": "member_id",
         "type": "\"string\""
        },
        {
         "metadata": "{}",
         "name": "total",
         "type": "\"long\""
        }
       ],
       "type": "table"
      }
     },
     "output_type": "display_data"
    }
   ],
   "source": [
    "%sql\n",
    "select member_id,COUNT(*) as total FROM Pranithdb_lending_club.customers_new group by member_id order by total desc limit 10"
   ]
  },
  {
   "cell_type": "code",
   "execution_count": 0,
   "metadata": {
    "application/vnd.databricks.v1+cell": {
     "cellMetadata": {},
     "inputWidgets": {},
     "nuid": "66b7109c-ed50-4c51-8e78-c05c915f9008",
     "showTitle": false,
     "tableResultSettingsMap": {},
     "title": ""
    }
   },
   "outputs": [],
   "source": []
  }
 ],
 "metadata": {
  "application/vnd.databricks.v1+notebook": {
   "computePreferences": null,
   "dashboards": [],
   "environmentMetadata": {
    "base_environment": "",
    "environment_version": "1"
   },
   "inputWidgetPreferences": null,
   "language": "python",
   "notebookMetadata": {
    "mostRecentlyExecutedCommandWithImplicitDF": {
     "commandId": 214869922866781,
     "dataframes": [
      "_sqldf"
     ]
    },
    "pythonIndentUnit": 4
   },
   "notebookName": "lending-club-bad data",
   "widgets": {}
  }
 },
 "nbformat": 4,
 "nbformat_minor": 0
}